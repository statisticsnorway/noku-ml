{
 "cells": [
  {
   "cell_type": "code",
   "execution_count": null,
   "id": "84ae9d16-784c-4b30-9d73-6fa265474a98",
   "metadata": {
    "tags": []
   },
   "outputs": [],
   "source": [
    "import pandas as pd\n",
    "from sklearn.ensemble import IsolationForest\n",
    "from sklearn.cluster import DBSCAN\n",
    "import pyarrow as pa\n",
    "import pyarrow.parquet as pq\n",
    "import gcsfs\n",
    "import getpass\n",
    "import os\n",
    "from sklearn.model_selection import train_test_split\n",
    "from sklearn.linear_model import LinearRegression\n",
    "from sklearn.preprocessing import StandardScaler, OneHotEncoder\n",
    "from sklearn.compose import ColumnTransformer\n",
    "from sklearn.pipeline import Pipeline\n",
    "from sklearn.impute import SimpleImputer\n",
    "import geopandas as gpd\n",
    "import sgis as sg\n",
    "import dapla as dp\n",
    "import datetime\n",
    "from dapla.auth import AuthClient\n",
    "from dapla import FileClient\n",
    "\n",
    "fs = FileClient.get_gcs_file_system()\n",
    "import numpy as np\n",
    "\n",
    "\n",
    "import warnings\n",
    "\n",
    "warnings.filterwarnings(\"ignore\")"
   ]
  },
  {
   "cell_type": "markdown",
   "id": "56ff2ffa-2897-4b5d-bdc6-2026276b34ed",
   "metadata": {
    "tags": []
   },
   "source": [
    "# get dynarev data"
   ]
  },
  {
   "cell_type": "code",
   "execution_count": null,
   "id": "430d0f30-7d1e-45a6-b3c0-8d51d4de64ae",
   "metadata": {
    "tags": []
   },
   "outputs": [],
   "source": [
    "# fil_path = [\n",
    "#     f\n",
    "#     for f in fs.glob(\n",
    "#         f\"gs://ssb-prod-noeku-data-produkt/eimerdb/nokubasen/skjemadata/aar={year}/skjema=RA-0174-1/*\"\n",
    "#     )\n",
    "#     if f.endswith(\".parquet\")\n",
    "# ]\n",
    "\n",
    "# # Use the ParquetDataset to read multiple files\n",
    "# dataset = pq.ParquetDataset(fil_path, filesystem=fs)\n",
    "# table = dataset.read()\n",
    "\n",
    "# # Convert to Pandas DataFrame\n",
    "# skjema = table.to_pandas()\n",
    "\n",
    "# # Now you can work with the DataFrame `skjema`\n",
    "# skjema"
   ]
  },
  {
   "cell_type": "code",
   "execution_count": null,
   "id": "4b71ccc1-0c29-43a6-b513-bdecc7796104",
   "metadata": {
    "tags": []
   },
   "outputs": [],
   "source": [
    "felt_id_values = [\n",
    "    \"V_ORGNR\",\n",
    "    \"F_ADRESSE\",\n",
    "    \"FJOR_NACE_B_T1\",\n",
    "    \"TMP_SN2007_5\",\n",
    "    \"B_KOMMUNENR\",\n",
    "    \"REGTYPE\",\n",
    "    \"B_SYSSELSETTING_SYSS\",\n",
    "    \"TMP_NY_BDR_SYSS\",\n",
    "    \"GJELDENDE_BDR_SYSS\",\n",
    "    \"FJOR_SYSSEL_T1\",\n",
    "    \"LONN_PST_AORDN\",\n",
    "    \"GJELDENDE_LONN_KR\",\n",
    "    \"LONN\",\n",
    "    \"FJOR_LONN_KR_T1\",\n",
    "    \"TMP_SNITTLONN\",\n",
    "    \"FJOR_SNITTLONN_T1\",\n",
    "    \"GJELDENDE_OMSETN_KR\",\n",
    "    \"OMSETN_KR\",\n",
    "    \"FJOR_OMSETM_KR_T1\",\n",
    "    \"TMP_SNITTOMS\",\n",
    "    \"FJOR_SNITTOMS_T1\",\n",
    "    \"TMP_SALGSINT_BED\",\n",
    "    \"TMP_FORBRUK_BED\",\n",
    "    \"VAREKOST_BED\",\n",
    "    \"GJELDENDE_DRIFTSK_KR\",\n",
    "    \"DRIFTSKOST_KR\",\n",
    "    \"FJOR_DRIFTSKOST_KR_T1\",\n",
    "    \"NACEF_5\",\n",
    "    \"SALGSINT\",\n",
    "    \"FORBRUK\",\n",
    "    \"TMP_NO_P4005\",\n",
    "    \"TMP_AVPROS_ORGFORB\",\n",
    "    \"ORGNR_N_1\",\n",
    "    \"TMP_NO_OMSETN\",\n",
    "    \"TMP_DRIFTSKOSTNAD_9010\",\n",
    "    \"TMP_DRIFTSKOSTNAD_9910\",\n",
    "]\n",
    "\n",
    "# Assuming `skjema` is your DataFrame and `felt_id_values` is your list of values\n",
    "skjema = skjema[skjema[\"feltnavn\"].isin(felt_id_values)]\n",
    "\n",
    "skjema"
   ]
  },
  {
   "cell_type": "code",
   "execution_count": null,
   "id": "3c6505d6-bd27-4a57-815d-42d14b8deea0",
   "metadata": {
    "tags": []
   },
   "outputs": [],
   "source": [
    "pivot_df = skjema.pivot_table(\n",
    "    index=[\"id\", \"radnr\"], columns=\"feltnavn\", values=\"feltverdi\", aggfunc=\"first\"\n",
    ")\n",
    "pivot_df = pivot_df.reset_index()\n",
    "pivot_df.columns = pivot_df.columns.str.lower()"
   ]
  },
  {
   "cell_type": "code",
   "execution_count": null,
   "id": "665180f6-05a0-47f8-bc27-3e3beecdb08d",
   "metadata": {
    "tags": []
   },
   "outputs": [],
   "source": [
    "# Create the boolean mask where either condition is true\n",
    "mask = pivot_df[\"id\"] == enhets_id\n",
    "\n",
    "# Apply the mask to filter the DataFrame\n",
    "bedrift_liste = pivot_df[mask]\n",
    "\n",
    "# Fill NaN values with 0 for driftskostnad columns in the DataFrame\n",
    "bedrift_liste[\"tmp_driftskostnad_9010\"].fillna(0, inplace=True)\n",
    "bedrift_liste[\"tmp_driftskostnad_9910\"].fillna(0, inplace=True)\n",
    "\n",
    "# Extract values from the row where `rad_nr` is 0\n",
    "values_to_assign = bedrift_liste[bedrift_liste[\"radnr\"] == 0].iloc[0]\n",
    "\n",
    "# Convert the driftskostnad values to numeric types, in case they are not already\n",
    "driftskostnad_9010_value = float(values_to_assign[\"tmp_driftskostnad_9010\"])\n",
    "driftskostnad_9910_value = float(values_to_assign[\"tmp_driftskostnad_9910\"])\n",
    "\n",
    "# Determine the greater value between tmp_driftskostnad_9010 and tmp_driftskostnad_9910 for the row where `rad_nr` is 0\n",
    "drkost_total_value = max(driftskostnad_9010_value, driftskostnad_9910_value)\n",
    "\n",
    "# Assign these values to new columns in the entire DataFrame\n",
    "bedrift_liste.loc[bedrift_liste[\"radnr\"] != 0, \"orgnr_foretak\"] = values_to_assign[\n",
    "    \"orgnr_n_1\"\n",
    "]\n",
    "bedrift_liste.loc[bedrift_liste[\"radnr\"] != 0, \"naring_f\"] = values_to_assign[\"nacef_5\"]\n",
    "bedrift_liste.loc[bedrift_liste[\"radnr\"] != 0, \"forbruk_total\"] = values_to_assign[\n",
    "    \"forbruk\"\n",
    "]\n",
    "bedrift_liste.loc[bedrift_liste[\"radnr\"] != 0, \"salgsint_total\"] = values_to_assign[\n",
    "    \"salgsint\"\n",
    "]\n",
    "bedrift_liste.loc[bedrift_liste[\"radnr\"] != 0, \"omsetn_total\"] = values_to_assign[\n",
    "    \"tmp_no_omsetn\"\n",
    "]\n",
    "bedrift_liste.loc[bedrift_liste[\"radnr\"] != 0, \"drkost_total\"] = drkost_total_value\n",
    "bedrift_liste.loc[\n",
    "    bedrift_liste[\"radnr\"] != 0, \"varekostnader_total\"\n",
    "] = values_to_assign[\"tmp_no_p4005\"]\n",
    "\n",
    "# Remove the rows where `rad_nr` is 0\n",
    "bedrift_liste = bedrift_liste[bedrift_liste[\"radnr\"] != 0]\n",
    "\n",
    "# Optional: Reset the index after deletion\n",
    "bedrift_liste.reset_index(drop=True, inplace=True)\n",
    "\n",
    "bedrift_liste = bedrift_liste[\n",
    "    [\n",
    "        \"orgnr_bedrift\",\n",
    "        \"omsetning\",\n",
    "        \"sysselsetting_syss\",\n",
    "        \"naring4\",\n",
    "        \"naring_f_4\",\n",
    "        \"naring3\",\n",
    "        \"naring_f_3\",\n",
    "        \"naring_f\",\n",
    "        \"forbruk_total\",\n",
    "        \"salgsint_total\",\n",
    "        \"tmp_no_omsetn\",\n",
    "        \"omsetn_total\",\n",
    "        \"drkost_total\",\n",
    "    ]\n",
    "]"
   ]
  },
  {
   "cell_type": "code",
   "execution_count": null,
   "id": "1fe32d26-ebdb-4314-9726-216533bc061d",
   "metadata": {},
   "outputs": [],
   "source": []
  }
 ],
 "metadata": {
  "language_info": {
   "codemirror_mode": {
    "name": "ipython"
   },
   "file_extension": ".py",
   "mimetype": "text/x-python",
   "name": "python",
   "nbconvert_exporter": "python"
  }
 },
 "nbformat": 4,
 "nbformat_minor": 5
}
