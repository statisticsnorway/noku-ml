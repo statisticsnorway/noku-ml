{
 "cells": [
  {
   "cell_type": "code",
   "execution_count": null,
   "id": "ab577d05-e908-4ea9-91e9-dc586233b079",
   "metadata": {
    "tags": []
   },
   "outputs": [],
   "source": [
    "import geopandas as gpd\n",
    "import sgis as sg\n",
    "import dapla as dp\n",
    "import numpy as np"
   ]
  },
  {
   "cell_type": "code",
   "execution_count": null,
   "id": "41b4f1d9-df9e-4e42-af5c-877ed39fc1da",
   "metadata": {
    "tags": []
   },
   "outputs": [],
   "source": [
    "VOFSTI = (\n",
    "    \"ssb-prod-vof-data-delt/stedfesting-situasjonsuttak_data/klargjorte-data/parquet\"\n",
    ")\n",
    "vof_df = dp.read_pandas(f\"{VOFSTI}/stedfesting-situasjonsuttak_p2023-01_v1.parquet\")\n",
    "vof_gdf = gpd.GeoDataFrame(\n",
    "    vof_df,\n",
    "    geometry=gpd.points_from_xy(\n",
    "        vof_df[\"y_koordinat\"],\n",
    "        vof_df[\"x_koordinat\"],\n",
    "    ),\n",
    "    crs=25833,\n",
    ")\n",
    "vof_gdf"
   ]
  },
  {
   "cell_type": "code",
   "execution_count": null,
   "id": "5d003c63-d4b0-4d9d-9f27-3754cef4b780",
   "metadata": {
    "tags": []
   },
   "outputs": [],
   "source": [
    "# Distance example - dont have access. As the crow flies\n",
    "testdatasti = \"ssb-prod-dapla-felles-data-delt/GIS/testdata\"\n",
    "veger = sg.read_geopandas(f\"{testdatasti}/veger_oslo.parquet\")\n",
    "\n",
    "boligbygg = sg.read_geopandas(f\"{testdatasti}/noen_boligbygg_oslo.parquet\")\n",
    "butikkbygg = sg.read_geopandas(f\"{testdatasti}/butikkbygg_oslo.parquet\")\n",
    "\n",
    "\n",
    "# distance as the crow flies\n",
    "boligbygg_med_butikkavstand = boligbygg.sjoin_nearest(\n",
    "    butikkbygg, distance_col=\"meter_til_butikk\"\n",
    ")"
   ]
  },
  {
   "cell_type": "code",
   "execution_count": null,
   "id": "40830bbe-71e2-48b8-a82c-34e968165cc6",
   "metadata": {
    "tags": []
   },
   "outputs": [],
   "source": [
    "boligbygg_med_butikkavstand"
   ]
  },
  {
   "cell_type": "code",
   "execution_count": null,
   "id": "31648226-eba0-4ee7-a45d-3d51deb9e93a",
   "metadata": {
    "tags": []
   },
   "outputs": [],
   "source": [
    "# distance via roads\n",
    "\n",
    "veger_klargjort = (\n",
    "    sg.get_connected_components(veger)\n",
    "    .query(\"connected == 1\")\n",
    "    .pipe(sg.make_directed_network_norway, dropnegative=True)\n",
    ")\n",
    "\n",
    "regler = sg.NetworkAnalysisRules(directed=True, weight=\"minutes\")\n",
    "\n",
    "nwa = sg.NetworkAnalysis(network=veger_klargjort, rules=regler)"
   ]
  },
  {
   "cell_type": "code",
   "execution_count": null,
   "id": "e44dcc7f-2970-465f-ad6e-9ae4c8e127f9",
   "metadata": {
    "tags": []
   },
   "outputs": [],
   "source": [
    "# Explore the results in an interactive map\n",
    "\n",
    "sg.explore(boligbygg)"
   ]
  },
  {
   "cell_type": "code",
   "execution_count": null,
   "id": "e84462ef-2097-4ea9-be58-f8eda53c21cc",
   "metadata": {
    "tags": []
   },
   "outputs": [],
   "source": [
    "boligbygg_med_butikkavstand.explore(\"meter_til_butikk\")"
   ]
  },
  {
   "cell_type": "code",
   "execution_count": null,
   "id": "e70a34f2-5f5e-4155-8d3c-6df532451e0e",
   "metadata": {
    "tags": []
   },
   "outputs": [],
   "source": [
    "# kommuner"
   ]
  },
  {
   "cell_type": "code",
   "execution_count": null,
   "id": "4dd9b8b8-ad8f-47cf-8fb8-55acda760aac",
   "metadata": {
    "tags": []
   },
   "outputs": [],
   "source": [
    "avstander = nwa.od_cost_matrix(boligbygg, butikkbygg)\n",
    "\n",
    "boligbygg[\"minutter_til_butikk\"] = avstander.groupby(\"origin\")[\"minutes\"].min()\n",
    "\n",
    "sg.explore(boligbygg, butikkbygg, \"minutter_til_butikk\")"
   ]
  },
  {
   "cell_type": "code",
   "execution_count": null,
   "id": "56b35a16-bff1-479c-8c3c-142784f5bd5f",
   "metadata": {
    "tags": []
   },
   "outputs": [],
   "source": [
    "# Thematic maps\n",
    "\n",
    "# kommuner area\n",
    "\n",
    "kommuner = sg.read_geopandas(f\"{testdatasti}/enkle_kommuner.parquet\")"
   ]
  },
  {
   "cell_type": "code",
   "execution_count": null,
   "id": "32afa003-f015-4f18-a1b0-18b3bbb9b3e5",
   "metadata": {
    "tags": []
   },
   "outputs": [],
   "source": [
    "kommuner"
   ]
  },
  {
   "cell_type": "code",
   "execution_count": null,
   "id": "503b7ef4-424b-43e6-a73c-6e4a2e7cd003",
   "metadata": {
    "tags": []
   },
   "outputs": [],
   "source": [
    "kommuner_med_boliginfo = kommuner.sjoin(boligbygg, how=\"left\")\n",
    "\n",
    "boligbygg_med_kommuneinfo = boligbygg.sjoin(kommuner, how=\"left\")\n",
    "\n",
    "kommuner[\"Kvadratmeter\"] = kommuner.area\n",
    "\n",
    "m = sg.ThematicMap(kommuner, column=\"Kvadratmeter\", size=15)\n",
    "m.title = \"Areal i kommunene\"\n",
    "m.plot()"
   ]
  },
  {
   "cell_type": "code",
   "execution_count": null,
   "id": "27419690-4f26-48e6-b636-85b2bd4033ac",
   "metadata": {
    "tags": []
   },
   "outputs": [],
   "source": [
    "import os\n",
    "import warnings\n",
    "\n",
    "import numpy as np\n",
    "import pandas as pd\n",
    "\n",
    "\n",
    "os.chdir(\"../../src\")\n",
    "\n",
    "import sgis as sg\n",
    "\n",
    "pd.options.mode.chained_assignment = None\n",
    "warnings.filterwarnings(action=\"ignore\", category=FutureWarning)"
   ]
  },
  {
   "cell_type": "code",
   "execution_count": null,
   "id": "a8319150-794d-4726-af82-cc04b9925e80",
   "metadata": {
    "tags": []
   },
   "outputs": [],
   "source": [
    "points = sg.read_parquet_url(\n",
    "    \"https://media.githubusercontent.com/media/statisticsnorway/ssb-sgis/main/tests/testdata/points_oslo.parquet\"\n",
    ")\n",
    "points = points[[\"geometry\"]]\n",
    "\n",
    "distances = sg.get_k_nearest_neighbors(points, points, k=100)\n",
    "\n",
    "mean_distance_above_0 = (\n",
    "    distances.loc[distances.distance != 0].groupby(level=0)[\"distance\"].mean()\n",
    ")\n",
    "\n",
    "points[\"mean_dist_99_neighbors\"] = mean_distance_above_0\n",
    "\n",
    "print(points)"
   ]
  },
  {
   "cell_type": "code",
   "execution_count": null,
   "id": "3d453d50-b744-4525-a985-0ba5e6479f48",
   "metadata": {
    "tags": []
   },
   "outputs": [],
   "source": [
    "m = sg.ThematicMap(sg.buff(points, 100), column=\"mean_dist_99_neighbors\")\n",
    "m.title = \"Distance to 99 nearest neighbors\"\n",
    "m.plot()\n",
    "m.save(\"path_to_file.png\")"
   ]
  },
  {
   "cell_type": "code",
   "execution_count": null,
   "id": "e49169cc-9a85-4461-8cda-58a039debf5b",
   "metadata": {
    "tags": []
   },
   "outputs": [],
   "source": [
    "m = sg.ThematicMap(sg.buff(points, 100), column=\"mean_dist_99_neighbors\")\n",
    "\n",
    "m.title = \"Map with custom (and ugly) colors.\"\n",
    "m.title_fontsize = 15\n",
    "m.title_color = \"red\"\n",
    "\n",
    "m.facecolor = \"#edf0c9\"  # background color\n",
    "\n",
    "m.change_cmap(\"PuBuGn\", start=20, stop=250)  # start and stop goes from 0 to 256\n",
    "\n",
    "m.plot()"
   ]
  },
  {
   "cell_type": "code",
   "execution_count": null,
   "id": "bfae322f-7265-43dc-8bbb-9ce5415805da",
   "metadata": {
    "tags": []
   },
   "outputs": [],
   "source": [
    "# Find k nearest neighbors based on geography alone\n",
    "\n",
    "# neighbors100  =  sg . get_k_nearest_neighbors (\n",
    "#     build ,  build ,  k = 100 ,\n",
    "# )\n",
    "\n",
    "# neighbors100"
   ]
  },
  {
   "cell_type": "code",
   "execution_count": null,
   "id": "32a4debf-e87d-432a-b2f5-905ad4622def",
   "metadata": {},
   "outputs": [],
   "source": []
  }
 ],
 "metadata": {
  "language_info": {
   "codemirror_mode": {
    "name": "ipython"
   },
   "file_extension": ".py",
   "mimetype": "text/x-python",
   "name": "python",
   "nbconvert_exporter": "python"
  }
 },
 "nbformat": 4,
 "nbformat_minor": 5
}
