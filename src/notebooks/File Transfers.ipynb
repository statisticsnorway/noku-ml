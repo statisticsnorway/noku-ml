{
 "cells": [
  {
   "cell_type": "markdown",
   "id": "0",
   "metadata": {
    "tags": []
   },
   "source": [
    "# Basic working file for move files to and from linux and between buckets in google cloud."
   ]
  },
  {
   "cell_type": "code",
   "execution_count": null,
   "id": "1",
   "metadata": {
    "tags": []
   },
   "outputs": [],
   "source": [
    "from imports import *"
   ]
  },
  {
   "cell_type": "markdown",
   "id": "2",
   "metadata": {
    "tags": []
   },
   "source": [
    "Skjema Data"
   ]
  },
  {
   "cell_type": "code",
   "execution_count": null,
   "id": "3",
   "metadata": {
    "tags": []
   },
   "outputs": [],
   "source": [
    "aar = '2023'\n",
    "\n",
    "\n",
    "fil_path = [\n",
    "    f\n",
    "    for f in fs.glob(\n",
    "        f\"gs://ssb-prod-skatt-naering-data-synk-opp/test/dynadata_6023.parquet\"\n",
    "    )\n",
    "    # if f.endswith(\".parquet\")\n",
    "]\n",
    "\n",
    "# Use the ParquetDataset to read multiple files\n",
    "dataset = pq.ParquetDataset(fil_path, filesystem=fs)\n",
    "table = dataset.read()\n",
    "\n",
    "# Convert to Pandas DataFrame\n",
    "# skjema = table.to_pandas()\n",
    "\n",
    "# Create a PyArrow array filled with the value '2022' for each row\n",
    "# Create the 'aar' column as a categorical (dictionary-encoded) string\n",
    "num_rows = table.num_rows\n",
    "year_array = pa.array([aar] * num_rows, type=pa.string())\n",
    "year_array = pa.DictionaryArray.from_arrays(pa.array(range(num_rows), type=pa.int32()), year_array)\n",
    "\n",
    "# Add the new column to your existing table\n",
    "table_with_aar = table.append_column('aar', year_array)\n",
    "\n",
    "columns = {\n",
    "    \"ENHETS_ID\": \"id\",\n",
    "    \"RAD_NR\": \"radnr\",\n",
    "    \"FELT_ID\": \"feltnavn\",\n",
    "    \"FELT_VERDI\": \"feltverdi\",\n",
    "    \"SKJEMA\": \"skjema\",\n",
    "    \"LOPENR\": \"lopenr\",\n",
    "    \"AKTIV\": \"aktiv\",\n",
    "    \"DELREG_NR\": \"delreg\",\n",
    "}\n",
    "\n",
    "# Get the current schema of the table with the 'aar' column\n",
    "schema = table_with_aar.schema\n",
    "\n",
    "# Create a list to hold the new fields with renamed column names\n",
    "new_fields = []\n",
    "\n",
    "# Loop through the current schema and rename the columns based on the mapping\n",
    "for field in schema:\n",
    "    new_name = columns.get(field.name, field.name)  # Rename if in mapping, else keep the original name\n",
    "    new_fields.append(pa.field(new_name, field.type))\n",
    "\n",
    "# Create a new schema with the renamed fields\n",
    "new_schema = pa.schema(new_fields)\n",
    "\n",
    "# Apply the new schema to the table with 'aar' column by reconstructing it\n",
    "table_renamed = pa.Table.from_arrays(table_with_aar.columns, schema=new_schema)\n",
    "\n",
    "# Verify the result\n",
    "print(table_renamed.schema)\n",
    "\n",
    "pq.write_table(\n",
    "    table_renamed,\n",
    "    f\"gs://ssb-strukt-naering-data-produkt-prod/naringer/inndata/skjemadata/skjema=RA-0255-1/aar=2023/skjemadata_data_0.parquet\",\n",
    "    filesystem=fs\n",
    ")"
   ]
  },
  {
   "cell_type": "markdown",
   "id": "4",
   "metadata": {
    "tags": []
   },
   "source": [
    "Statistiskfilene"
   ]
  },
  {
   "cell_type": "code",
   "execution_count": null,
   "id": "5",
   "metadata": {
    "tags": []
   },
   "outputs": [],
   "source": [
    "year = 2022"
   ]
  },
  {
   "cell_type": "code",
   "execution_count": null,
   "id": "6",
   "metadata": {
    "tags": []
   },
   "outputs": [],
   "source": [
    "\n",
    "\n",
    "\n",
    "## Bedrift NR\n",
    "\n",
    "\n",
    "fil_path = [\n",
    "    f\n",
    "    for f in fs.glob(\n",
    "        f\"gs://ssb-prod-skatt-naering-data-synk-opp/test/statistikkfil_bedrifter_nr_{year}.parquet\"\n",
    "    )\n",
    "    # if f.endswith(\".parquet\")\n",
    "]\n",
    "\n",
    "# Use the ParquetDataset to read multiple files\n",
    "dataset = pq.ParquetDataset(fil_path, filesystem=fs)\n",
    "table1 = dataset.read()\n",
    "\n",
    "\n",
    "pq.write_table(\n",
    "    table1,\n",
    "    f\"gs://ssb-prod-noeku-data-produkt/statistikkfiler/g{year}/statistikkfil_bedrifter_nr.parquet\",\n",
    "    filesystem=fs\n",
    ")\n",
    "\n",
    "# pq.write_table(\n",
    "#     table1,\n",
    "#     f\"gs://ssb-prod-noeku-data-delt/statistikkfiler/g{year}/statistikkfil_bedrifter_nr.parquet\",\n",
    "#     filesystem=fs\n",
    "# )\n",
    "\n",
    "del table1, dataset"
   ]
  },
  {
   "cell_type": "code",
   "execution_count": null,
   "id": "7",
   "metadata": {
    "tags": []
   },
   "outputs": [],
   "source": [
    "## Bedrift Pub\n",
    "\n",
    "fil_path = [\n",
    "    f\n",
    "    for f in fs.glob(\n",
    "        f\"gs://ssb-prod-skatt-naering-data-synk-opp/test/statistikkfil_bedrifter_pub_{year}.parquet\"\n",
    "    )\n",
    "    # if f.endswith(\".parquet\")\n",
    "]\n",
    "\n",
    "# Use the ParquetDataset to read multiple files\n",
    "dataset = pq.ParquetDataset(fil_path, filesystem=fs)\n",
    "table2 = dataset.read()\n",
    "\n",
    "table2.columns = table2.columns.str.lower()\n",
    "\n",
    "\n",
    "pq.write_table(\n",
    "    table2,\n",
    "    f\"gs://ssb-prod-noeku-data-produkt/statistikkfiler/g{year}/statistikkfil_bedrifter_pub.parquet\",\n",
    "    filesystem=fs\n",
    ")\n",
    "\n",
    "# pq.write_table(\n",
    "#     table2,\n",
    "#     f\"gs://ssb-prod-noeku-data-delt/statistikkfiler/g{year}/statistikkfil_bedrifter_pub.parquet\",\n",
    "#     filesystem=fs\n",
    "# )\n",
    "\n",
    "del table2, dataset"
   ]
  },
  {
   "cell_type": "code",
   "execution_count": null,
   "id": "8",
   "metadata": {
    "tags": []
   },
   "outputs": [],
   "source": [
    "## Foretak NR\n",
    "\n",
    "fil_path = [\n",
    "    f\n",
    "    for f in fs.glob(\n",
    "        f\"gs://ssb-prod-skatt-naering-data-synk-opp/test/statistikkfil_foretak_nr_{year}.parquet\"\n",
    "    )\n",
    "    # if f.endswith(\".parquet\")\n",
    "]\n",
    "\n",
    "# Use the ParquetDataset to read multiple files\n",
    "dataset = pq.ParquetDataset(fil_path, filesystem=fs)\n",
    "table3 = dataset.read()\n",
    "\n",
    "\n",
    "pq.write_table(\n",
    "    table3,\n",
    "    f\"gs://ssb-prod-noeku-data-produkt/statistikkfiler/g{year}/statistikkfil_foretak_nr.parquet\",\n",
    "    filesystem=fs\n",
    ")\n",
    "\n",
    "# pq.write_table(\n",
    "#     table3,\n",
    "#     f\"gs://ssb-prod-noeku-data-delt/statistikkfiler/g{year}/statistikkfil_foretak_nr.parquet\",\n",
    "#     filesystem=fs\n",
    "# )\n",
    "\n",
    "del table3, dataset"
   ]
  },
  {
   "cell_type": "code",
   "execution_count": null,
   "id": "9",
   "metadata": {
    "tags": []
   },
   "outputs": [],
   "source": [
    "#### Foretak PUB\n",
    "\n",
    "\n",
    "fil_path = [\n",
    "    f\n",
    "    for f in fs.glob(\n",
    "        f\"gs://ssb-prod-skatt-naering-data-synk-opp/test/statistikkfil_foretak_pub_{year}.parquet\"\n",
    "    )\n",
    "    # if f.endswith(\".parquet\")\n",
    "]\n",
    "\n",
    "# Use the ParquetDataset to read multiple files\n",
    "dataset = pq.ParquetDataset(fil_path, filesystem=fs)\n",
    "table4 = dataset.read()\n",
    "foretak_pub = table4.to_pandas()\n",
    "\n",
    "foretak_pub.columns = foretak_pub.columns.str.lower()\n",
    "\n",
    "\n",
    "# pq.write_table(\n",
    "#     table4,\n",
    "#     f\"gs://ssb-prod-noeku-data-produkt/statistikkfiler/g{year}/statistikkfil_foretak_pub.parquet\",\n",
    "#     filesystem=fs\n",
    "# )\n",
    "\n",
    "\n",
    "foretak_pub.to_parquet(\n",
    "    f\"gs://ssb-prod-noeku-data-produkt/statistikkfiler/g{year}/statistikkfil_foretak_pub.parquet\",\n",
    "    storage_options={\"token\": AuthClient.fetch_google_credentials()},\n",
    ")\n",
    "\n",
    "\n",
    "# pq.write_table(\n",
    "#     table4,\n",
    "#     f\"gs://ssb-prod-noeku-data-delt/statistikkfiler/g{year}/statistikkfil_foretak_pub.parquet\",\n",
    "#     filesystem=fs\n",
    "# )\n",
    "\n",
    "# del table4, dataset"
   ]
  },
  {
   "cell_type": "code",
   "execution_count": null,
   "id": "10",
   "metadata": {
    "tags": []
   },
   "outputs": [],
   "source": [
    "del table4, dataset\n",
    "\n",
    "# print option all cols\n",
    "pd.set_option(\"display.max_columns\", None)\n",
    "\n",
    "foretak_pub.head()"
   ]
  },
  {
   "cell_type": "code",
   "execution_count": null,
   "id": "11",
   "metadata": {
    "tags": []
   },
   "outputs": [],
   "source": [
    "pd.set_option(\"display.max_columns\", None)\n",
    "pd.set_option(\"display.max_columns\", None)\n",
    "print(foretak_pub.columns)\n"
   ]
  },
  {
   "cell_type": "markdown",
   "id": "12",
   "metadata": {},
   "source": [
    "2023 skjema data"
   ]
  },
  {
   "cell_type": "code",
   "execution_count": null,
   "id": "13",
   "metadata": {
    "tags": []
   },
   "outputs": [],
   "source": [
    "fil_path = [\n",
    "    f\n",
    "    for f in fs.glob(\n",
    "        f\"gs://ssb-prod-skatt-naering-data-synk-opp/test/dynadata_6023.parquet\"\n",
    "    )\n",
    "    # if f.endswith(\".parquet\")\n",
    "]\n",
    "\n",
    "# Use the ParquetDataset to read multiple files\n",
    "dataset = pq.ParquetDataset(fil_path, filesystem=fs)\n",
    "table = dataset.read()\n",
    "\n",
    "# Convert to Pandas DataFrame\n",
    "skjema = table.to_pandas()"
   ]
  },
  {
   "cell_type": "code",
   "execution_count": null,
   "id": "14",
   "metadata": {
    "tags": []
   },
   "outputs": [],
   "source": [
    "columns = {\n",
    "    \"ENHETS_ID\": \"id\",\n",
    "    \"RAD_NR\": \"radnr\",\n",
    "    \"FELT_ID\": \"feltnavn\",\n",
    "    \"FELT_VERDI\": \"feltverdi\",\n",
    "    \"SKJEMA\": \"skjema\",\n",
    "    \"LOPENR\": \"lopenr\",\n",
    "    \"AKTIV\": \"aktiv\",\n",
    "    \"DELREG_NR\": \"delreg\",\n",
    "    \"ENHETS_TYPE\": \"enhets_type\"\n",
    "}\n",
    "\n",
    "skjema = skjema.rename(columns=columns)"
   ]
  },
  {
   "cell_type": "code",
   "execution_count": null,
   "id": "15",
   "metadata": {
    "tags": []
   },
   "outputs": [],
   "source": [
    "skjema.head()"
   ]
  },
  {
   "cell_type": "code",
   "execution_count": null,
   "id": "16",
   "metadata": {
    "tags": []
   },
   "outputs": [],
   "source": [
    "# Create a PyArrow array filled with the value '2022' for each row\n",
    "# Create the 'aar' column as a categorical (dictionary-encoded) string\n",
    "# num_rows = table.num_rows\n",
    "# year_array = pa.array(['2023'] * num_rows, type=pa.string())\n",
    "# year_array = pa.DictionaryArray.from_arrays(pa.array(range(num_rows), type=pa.int32()), year_array)\n",
    "\n",
    "# # Add the new column to your existing table\n",
    "# table_with_aar = table.append_column('aar', year_array)\n",
    "\n",
    "columns = {\n",
    "    \"ENHETS_ID\": \"id\",\n",
    "    \n",
    "    \"RAD_NR\": \"radnr\",\n",
    "    \"FELT_ID\": \"feltnavn\",\n",
    "    \"FELT_VERDI\": \"feltverdi\",\n",
    "    \"SKJEMA\": \"skjema\",\n",
    "    \"LOPENR\": \"lopenr\",\n",
    "    \"AKTIV\": \"aktiv\",\n",
    "    \"DELREG_NR\": \"delreg\",\n",
    "    \"ENHETS_TYPE\": \"enhets_type\"\n",
    "}\n",
    "\n",
    "# Get the current schema of the table with the 'aar' column\n",
    "# schema = table_with_aar.schema\n",
    "\n",
    "# Create a list to hold the new fields with renamed column names\n",
    "new_fields = []\n",
    "\n",
    "# Loop through the current schema and rename the columns based on the mapping\n",
    "for field in schema:\n",
    "    new_name = columns.get(field.name, field.name)  # Rename if in mapping, else keep the original name\n",
    "    new_fields.append(pa.field(new_name, field.type))\n",
    "\n",
    "# Create a new schema with the renamed fields\n",
    "new_schema = pa.schema(new_fields)\n",
    "\n",
    "# Apply the new schema to the table with 'aar' column by reconstructing it\n",
    "table_renamed = pa.Table.from_arrays(table_with_aar.columns, schema=new_schema)\n",
    "\n",
    "# Verify the result\n",
    "print(table_renamed.schema)\n",
    "\n",
    "pq.write_table(\n",
    "    table_renamed,\n",
    "    f\"gs://ssb-strukt-naering-data-produkt-prod/naringer/inndata/skjemadata/skjema=RA-0174-1/aar=2023/skjemadata_data_0.parquet\",\n",
    "    filesystem=fs\n",
    ")"
   ]
  },
  {
   "cell_type": "code",
   "execution_count": null,
   "id": "17",
   "metadata": {
    "tags": []
   },
   "outputs": [],
   "source": [
    "fil_path = [\n",
    "    f\n",
    "    for f in fs.glob(\n",
    "        f\"gs://ssb-prod-skatt-naering-data-synk-opp/test/dynadata_5923.parquet\"\n",
    "    )\n",
    "    # if f.endswith(\".parquet\")\n",
    "]\n",
    "\n",
    "# Use the ParquetDataset to read multiple files\n",
    "dataset = pq.ParquetDataset(fil_path, filesystem=fs)\n",
    "table = dataset.read()\n",
    "\n",
    "# Convert to Pandas DataFrame\n",
    "# skjema = table.to_pandas()\n",
    "\n",
    "# Create a PyArrow array filled with the value '2022' for each row\n",
    "# Create the 'aar' column as a categorical (dictionary-encoded) string\n",
    "num_rows = table.num_rows\n",
    "year_array = pa.array(['2023'] * num_rows, type=pa.string())\n",
    "year_array = pa.DictionaryArray.from_arrays(pa.array(range(num_rows), type=pa.int32()), year_array)\n",
    "\n",
    "# Add the new column to your existing table\n",
    "table_with_aar = table.append_column('aar', year_array)\n",
    "\n",
    "columns = {\n",
    "    \"ENHETS_ID\": \"id\",\n",
    "    \n",
    "    \"RAD_NR\": \"radnr\",\n",
    "    \"FELT_ID\": \"feltnavn\",\n",
    "    \"FELT_VERDI\": \"feltverdi\",\n",
    "    \"SKJEMA\": \"skjema\",\n",
    "    \"LOPENR\": \"lopenr\",\n",
    "    \"AKTIV\": \"aktiv\",\n",
    "    \"DELREG_NR\": \"delreg\",\n",
    "    \"ENHETS_TYPE\": \"enhets_type\"\n",
    "}\n",
    "\n",
    "# Get the current schema of the table with the 'aar' column\n",
    "schema = table_with_aar.schema\n",
    "\n",
    "# Create a list to hold the new fields with renamed column names\n",
    "new_fields = []\n",
    "\n",
    "# Loop through the current schema and rename the columns based on the mapping\n",
    "for field in schema:\n",
    "    new_name = columns.get(field.name, field.name)  # Rename if in mapping, else keep the original name\n",
    "    new_fields.append(pa.field(new_name, field.type))\n",
    "\n",
    "# Create a new schema with the renamed fields\n",
    "new_schema = pa.schema(new_fields)\n",
    "\n",
    "# Apply the new schema to the table with 'aar' column by reconstructing it\n",
    "table_renamed = pa.Table.from_arrays(table_with_aar.columns, schema=new_schema)\n",
    "\n",
    "# Verify the result\n",
    "print(table_renamed.schema)\n",
    "\n",
    "pq.write_table(\n",
    "    table_renamed,\n",
    "    f\"gs://ssb-prod-noeku-data-produkt/eimerdb/nokubasen/skjemadata/aar=2023/skjema=RA-0255-1/skjemadata_data_0.parquet\",\n",
    "    filesystem=fs\n",
    ")"
   ]
  },
  {
   "cell_type": "code",
   "execution_count": null,
   "id": "18",
   "metadata": {},
   "outputs": [],
   "source": [
    "current_year = '2023'\n",
    "skjema_list = 'RA-0174-1'\n",
    "fil_path = [\n",
    "    f\n",
    "    for f in fs.glob(\n",
    "        f\"gs://ssb-prod-noeku-data-produkt/eimerdb/nokubasen/skjemadata/aar={current_year}/skjema={skjema_list}/*\"\n",
    "    )\n",
    "    if f.endswith(\".parquet\")\n",
    "]\n",
    "\n",
    "# Assuming there's only one file in fil_path\n",
    "if fil_path:\n",
    "    skjema = pd.read_parquet(fil_path[0], filesystem=fs)\n",
    "else:\n",
    "    raise FileNotFoundError(f\"No Parquet files found for year {current_year}\")"
   ]
  },
  {
   "cell_type": "code",
   "execution_count": null,
   "id": "19",
   "metadata": {},
   "outputs": [],
   "source": [
    "felt_id_values = [\n",
    "    \"V_ORGNR\",\n",
    "    \"F_ADRESSE\",\n",
    "    \"FJOR_NACE_B_T1\",\n",
    "    \"TMP_SN2007_5\",\n",
    "    \"B_KOMMUNENR\",\n",
    "    \"REGTYPE\",\n",
    "    \"B_SYSSELSETTING_SYSS\",\n",
    "    \"TMP_NY_BDR_SYSS\",\n",
    "    \"GJELDENDE_BDR_SYSS\",\n",
    "    \"FJOR_SYSSEL_T1\",\n",
    "    \"LONN_PST_AORDN\",\n",
    "    \"GJELDENDE_LONN_KR\",\n",
    "    \"LONN\",\n",
    "    \"FJOR_LONN_KR_T1\",\n",
    "    \"TMP_SNITTLONN\",\n",
    "    \"FJOR_SNITTLONN_T1\",\n",
    "    \"GJELDENDE_OMSETN_KR\",\n",
    "    \"OMSETN_KR\",\n",
    "    \"FJOR_OMSETN_KR_T1\",\n",
    "    \"TMP_SNITTOMS\",\n",
    "    \"FJOR_SNITTOMS_T1\",\n",
    "    \"TMP_SALGSINT_BED\",\n",
    "    \"TMP_FORBRUK_BED\",\n",
    "    \"VAREKOST_BED\",\n",
    "    \"GJELDENDE_DRIFTSK_KR\",\n",
    "    \"DRIFTSKOST_KR\",\n",
    "    \"FJOR_DRIFTSKOST_KR_T1\",\n",
    "    \"NACEF_5\",\n",
    "    \"SALGSINT\",\n",
    "    \"FORBRUK\",\n",
    "    \"TMP_NO_P4005\",\n",
    "    \"TMP_AVPROS_ORGFORB\",\n",
    "    \"ORGNR_N_1\",\n",
    "    \"TMP_NO_OMSETN\",\n",
    "    \"TMP_DRIFTSKOSTNAD_9010\",\n",
    "    \"TMP_DRIFTSKOSTNAD_9910\",\n",
    "]\n",
    "\n",
    "# # Filter the DataFrame for the specified field values\n",
    "skjema = skjema[skjema[\"feltnavn\"].isin(felt_id_values)]\n",
    "\n",
    "# Pivot the DataFrame\n",
    "skjema = skjema.pivot_table(\n",
    "    index=[\"id\", \"radnr\", \"lopenr\"],\n",
    "    columns=\"feltnavn\",\n",
    "    values=\"feltverdi\",\n",
    "    aggfunc=\"first\",\n",
    ")\n",
    "skjema = skjema.reset_index()\n",
    "skjema.columns = skjema.columns.str.lower()  # Convert column names to lower case\n",
    "\n",
    "skjema = skjema[['orgnr_n_1']]"
   ]
  },
  {
   "cell_type": "code",
   "execution_count": null,
   "id": "20",
   "metadata": {
    "tags": []
   },
   "outputs": [],
   "source": [
    "# change option to show all columns\n",
    "pd.set_option(\"display.max_columns\", None)\n",
    "skjema.head()"
   ]
  },
  {
   "cell_type": "code",
   "execution_count": null,
   "id": "21",
   "metadata": {},
   "outputs": [],
   "source": [
    "# change option to print all rows\n",
    "pd.set_option(\"display.max_rows\", None)\n",
    "skjema['orgnr_n_1'].value_counts()"
   ]
  },
  {
   "cell_type": "code",
   "execution_count": null,
   "id": "22",
   "metadata": {},
   "outputs": [],
   "source": [
    "fil_path = [\n",
    "    f\n",
    "    for f in fs.glob(\n",
    "        f\"gs://ssb-prod-noeku-data-produkt/statistikkfiler/g2022/statistiske_foretak_foretak.parquet\"\n",
    "    )\n",
    "    if f.endswith(\".parquet\")\n",
    "]\n",
    "\n",
    "# Use the ParquetDataset to read multiple files\n",
    "dataset = pq.ParquetDataset(fil_path, filesystem=fs)\n",
    "table = dataset.read()\n",
    "\n",
    "# Convert to Pandas DataFrame\n",
    "skjema = table.to_pandas()"
   ]
  },
  {
   "cell_type": "code",
   "execution_count": null,
   "id": "23",
   "metadata": {
    "tags": []
   },
   "outputs": [],
   "source": [
    "skjema.to_parquet(\n",
    "    f\"gs://ssb-prod-noeku-data-delt/statistikkfiler/g2022/statistiske_foretak_foretak.parquet\",\n",
    "    storage_options={\"token\": AuthClient.fetch_google_credentials()},\n",
    ")"
   ]
  },
  {
   "cell_type": "code",
   "execution_count": null,
   "id": "24",
   "metadata": {
    "tags": []
   },
   "outputs": [],
   "source": [
    "skjema.head()"
   ]
  },
  {
   "cell_type": "markdown",
   "id": "25",
   "metadata": {},
   "source": [
    "# Transfer from old bucks to new:"
   ]
  },
  {
   "cell_type": "code",
   "execution_count": null,
   "id": "26",
   "metadata": {
    "tags": []
   },
   "outputs": [],
   "source": [
    "# Skjema data"
   ]
  },
  {
   "cell_type": "code",
   "execution_count": null,
   "id": "27",
   "metadata": {
    "tags": []
   },
   "outputs": [],
   "source": [
    "start_year = 2017\n",
    "end_year = 2022\n",
    "skjema_list = 'RA-1407'\n",
    "\n",
    "\n",
    "for year in range(start_year, end_year + 1):\n",
    "    fil_path = [\n",
    "        f\n",
    "        for f in fs.glob(\n",
    "            f\"gs://ssb-prod-noeku-data-produkt/eimerdb/nokubasen/skjemadata/aar={current_year}/skjema={skjema_list}/*\",\n",
    "        )\n",
    "        # if f.endswith(\".parquet\")\n",
    "    ]\n",
    "\n",
    "    # Use the ParquetDataset to read multiple files\n",
    "    if fil_path:\n",
    "        skjema = pd.read_parquet(fil_path[0], filesystem=fs)\n",
    "    \n",
    "    destination_path = f\"gs://ssb-strukt-naering-data-produkt-prod/naringer/inndata/skjemadata/skjema={skjema_list}/aar={year}/skjemadata_data_0.parquet\"\n",
    "    \n",
    "    skjema.to_parquet(destination_path, filesystem=fs, index=False)\n",
    "\n",
    "print(\"Data transfer completed for all years.\")"
   ]
  },
  {
   "cell_type": "code",
   "execution_count": null,
   "id": "28",
   "metadata": {
    "tags": []
   },
   "outputs": [],
   "source": [
    "# statistikkfiler"
   ]
  },
  {
   "cell_type": "code",
   "execution_count": null,
   "id": "29",
   "metadata": {
    "tags": []
   },
   "outputs": [],
   "source": [
    "start_year = 2023\n",
    "end_year = 2023\n",
    "\n",
    "\n",
    "for year in range(start_year, end_year + 1):\n",
    "    fil_path = [\n",
    "        f\n",
    "        for f in fs.glob(\n",
    "            f\"gs://ssb-prod-noeku-data-produkt/statistikkfiler/g{year}/statistikkfil_bedrifter_nr.parquet\",\n",
    "        )\n",
    "        # if f.endswith(\".parquet\")\n",
    "    ]\n",
    "\n",
    "    # Use the ParquetDataset to read multiple files\n",
    "    if fil_path:\n",
    "        skjema = pd.read_parquet(fil_path[0], filesystem=fs)\n",
    "    \n",
    "    destination_path = f\"gs://ssb-strukt-naering-data-produkt-prod/naringer/klargjorte-data/statistikkfiler/aar={year}/statistikkfil_bedrifter_nr.parquet\"\n",
    "    \n",
    "    skjema.to_parquet(destination_path, filesystem=fs, index=False)\n",
    "    \n",
    "    del skjema\n",
    "    \n",
    "    fil_path = [\n",
    "        f\n",
    "        for f in fs.glob(\n",
    "            f\"gs://ssb-prod-noeku-data-produkt/statistikkfiler/g{year}/statistikkfil_bedrifter_pub.parquet\",\n",
    "        )\n",
    "        # if f.endswith(\".parquet\")\n",
    "    ]\n",
    "\n",
    "    # Use the ParquetDataset to read multiple files\n",
    "    if fil_path:\n",
    "        skjema = pd.read_parquet(fil_path[0], filesystem=fs)\n",
    "    \n",
    "    destination_path = f\"gs://ssb-strukt-naering-data-produkt-prod/naringer/klargjorte-data/statistikkfiler/aar={year}/statistikkfil_bedrifter_pub.parquet\"\n",
    "    \n",
    "    skjema.to_parquet(destination_path, filesystem=fs, index=False)\n",
    "    \n",
    "    del skjema\n",
    "    \n",
    "    fil_path = [\n",
    "        f\n",
    "        for f in fs.glob(\n",
    "            f\"gs://ssb-prod-noeku-data-produkt/statistikkfiler/g{year}/statistikkfil_foretak_nr.parquet\",\n",
    "        )\n",
    "        # if f.endswith(\".parquet\")\n",
    "    ]\n",
    "\n",
    "    # Use the ParquetDataset to read multiple files\n",
    "    if fil_path:\n",
    "        skjema = pd.read_parquet(fil_path[0], filesystem=fs)\n",
    "    \n",
    "    destination_path = f\"gs://ssb-strukt-naering-data-produkt-prod/naringer/klargjorte-data/statistikkfiler/aar={year}/statistikkfil_foretak_nr.parquet\"\n",
    "    \n",
    "    skjema.to_parquet(destination_path, filesystem=fs, index=False)\n",
    "    \n",
    "    del skjema\n",
    "    \n",
    "    fil_path = [\n",
    "        f\n",
    "        for f in fs.glob(\n",
    "            f\"gs://ssb-prod-noeku-data-produkt/statistikkfiler/g{year}/statistikkfil_foretak_pub.parquet\",\n",
    "        )\n",
    "        # if f.endswith(\".parquet\")\n",
    "    ]\n",
    "\n",
    "    # Use the ParquetDataset to read multiple files\n",
    "    if fil_path:\n",
    "        skjema = pd.read_parquet(fil_path[0], filesystem=fs)\n",
    "    \n",
    "    destination_path = f\"gs://ssb-strukt-naering-data-produkt-prod/naringer/klargjorte-data/statistikkfiler/aar={year}/statistikkfil_foretak_pub.parquet\"\n",
    "    \n",
    "    skjema.to_parquet(destination_path, filesystem=fs, index=False)\n",
    "    \n",
    "    del skjema\n",
    "\n",
    "print(\"Data transfer completed for all years.\")"
   ]
  },
  {
   "cell_type": "code",
   "execution_count": null,
   "id": "30",
   "metadata": {
    "tags": []
   },
   "outputs": [],
   "source": [
    "start_year = 2017\n",
    "end_year = 2023\n",
    "\n",
    "\n",
    "for year in range(start_year, end_year + 1):\n",
    "    fil_path = [\n",
    "        f\n",
    "        for f in fs.glob(\n",
    "            f\"gs://ssb-prod-noeku-data-produkt/statistikkfiler/g{year}/statistiske_foretak_bedrifter.parquet\",\n",
    "        )\n",
    "        # if f.endswith(\".parquet\")\n",
    "    ]\n",
    "\n",
    "    # Use the ParquetDataset to read multiple files\n",
    "    if fil_path:\n",
    "        skjema = pd.read_parquet(fil_path[0], filesystem=fs)\n",
    "    \n",
    "    destination_path = f\"gs://ssb-strukt-naering-data-produkt-prod/naringer/klargjorte-data/statistikkfiler/aar={year}/statistiske_foretak_bedrifter.parquet\"\n",
    "    \n",
    "    skjema.to_parquet(destination_path, filesystem=fs, index=False)\n",
    "    \n",
    "    fil_path = [\n",
    "        f\n",
    "        for f in fs.glob(\n",
    "            f\"gs://ssb-prod-noeku-data-produkt/statistikkfiler/g{year}/statistikkfil_bedrifter_pub.parquet\",\n",
    "        )\n",
    "        # if f.endswith(\".parquet\")\n",
    "    ]\n",
    "\n",
    "    # Use the ParquetDataset to read multiple files\n",
    "    if fil_path:\n",
    "        skjema = pd.read_parquet(fil_path[0], filesystem=fs)\n",
    "    \n",
    "    destination_path = f\"gs://ssb-strukt-naering-data-produkt-prod/naringer/klargjorte-data/statistikkfiler/aar={year}/statistikkfil_bedrifter_pub.parquet\"\n",
    "    \n",
    "    skjema.to_parquet(destination_path, filesystem=fs, index=False)\n",
    "    \n",
    "    fil_path = [\n",
    "        f\n",
    "        for f in fs.glob(\n",
    "            f\"gs://ssb-prod-noeku-data-produkt/statistikkfiler/g{year}/statistiske_foretak_foretak.parquet\",\n",
    "        )\n",
    "        # if f.endswith(\".parquet\")\n",
    "    ]\n",
    "\n",
    "    # Use the ParquetDataset to read multiple files\n",
    "    if fil_path:\n",
    "        skjema = pd.read_parquet(fil_path[0], filesystem=fs)\n",
    "    \n",
    "    destination_path = f\"gs://ssb-strukt-naering-data-produkt-prod/naringer/klargjorte-data/statistikkfiler/aar={year}/statistiske_foretak_foretak.parquet\"\n",
    "    \n",
    "    skjema.to_parquet(destination_path, filesystem=fs, index=False)\n",
    "    \n",
    "    fil_path = [\n",
    "        f\n",
    "        for f in fs.glob(\n",
    "            f\"gs://ssb-prod-noeku-data-produkt/statistikkfiler/g{year}/statistikkfil_foretak_pub.parquet\",\n",
    "        )\n",
    "        # if f.endswith(\".parquet\")\n",
    "    ]\n",
    "\n",
    "    # Use the ParquetDataset to read multiple files\n",
    "    if fil_path:\n",
    "        skjema = pd.read_parquet(fil_path[0], filesystem=fs)\n",
    "    \n",
    "    destination_path = f\"gs://ssb-strukt-naering-data-produkt-prod/naringer/klargjorte-data/statistikkfiler/aar={year}/statistikkfil_foretak_pub.parquet\"\n",
    "    \n",
    "    skjema.to_parquet(destination_path, filesystem=fs, index=False)\n",
    "\n",
    "print(\"Data transfer completed for all years.\")"
   ]
  },
  {
   "cell_type": "code",
   "execution_count": null,
   "id": "31",
   "metadata": {
    "tags": []
   },
   "outputs": [],
   "source": [
    "fil_path = [\n",
    "    f\n",
    "    for f in fs.glob(\n",
    "        f\"gs://ssb-prod-noeku-data-produkt/eimerdb/nokubasen/skjemadata/aar=2023/skjema=RA-0174-1/skjemadata_data_0.parquet\",\n",
    "    )\n",
    "    # if f.endswith(\".parquet\")\n",
    "]\n",
    "\n",
    "if fil_path:\n",
    "    skjema = pd.read_parquet(fil_path[0], filesystem=fs)\n",
    "\n",
    "destination_path = f\"gs://ssb-strukt-naering-data-produkt-prod/naringer/inndata/skjemadata/skjema=RA-0174-1/aar=2023/skjemadata_data_0.parquet\"\n",
    "\n",
    "skjema.to_parquet(destination_path, filesystem=fs, index=False)"
   ]
  },
  {
   "cell_type": "code",
   "execution_count": null,
   "id": "32",
   "metadata": {
    "tags": []
   },
   "outputs": [],
   "source": [
    "temp = pd.DataFrame()\n",
    "\n",
    "destination_path = f\"gs://ssb-strukt-naering-data-produkt-prod/naringer/utdata/temp.parquet\"\n",
    "\n",
    "temp.to_parquet(destination_path, filesystem=fs, index=False)"
   ]
  },
  {
   "cell_type": "code",
   "execution_count": null,
   "id": "33",
   "metadata": {
    "tags": []
   },
   "outputs": [],
   "source": [
    "print(\"skjema:\", skjema, type(skjema))\n"
   ]
  },
  {
   "cell_type": "code",
   "execution_count": null,
   "id": "34",
   "metadata": {},
   "outputs": [],
   "source": [
    "# NO"
   ]
  },
  {
   "cell_type": "code",
   "execution_count": null,
   "id": "35",
   "metadata": {},
   "outputs": [],
   "source": [
    "fil_path = [\n",
    "    f\n",
    "    for f in fs.glob(\n",
    "        f\"gs://ssb-prod-skatt-naering-data-synk-opp/test/no2_6022.parquet.parquet\"\n",
    "    )\n",
    "    # if f.endswith(\".parquet\")\n",
    "]\n",
    "\n",
    "# Use the ParquetDataset to read multiple files\n",
    "dataset = pq.ParquetDataset(fil_path, filesystem=fs)\n",
    "table1 = dataset.read()\n",
    "\n",
    "\n",
    "pq.write_table(\n",
    "    table1,\n",
    "    f\"gs://ssb-strukt-naering-data-produkt-prod/naringer/inndata/nobasen/an_registrering2/aar=2022/no2.parquet\",\n",
    "    filesystem=fs\n",
    ")"
   ]
  },
  {
   "cell_type": "code",
   "execution_count": null,
   "id": "36",
   "metadata": {
    "tags": []
   },
   "outputs": [],
   "source": [
    "import pandas as pd\n",
    "\n",
    "# Define the year value\n",
    "aar = '2023'\n",
    "\n",
    "# List of Parquet files to load (assuming you're using a local filesystem or remote one with PyArrow)\n",
    "# fil_path = [\n",
    "#     f\n",
    "#     for f in fs.glob(\n",
    "#         f\"gs://ssb-prod-skatt-naering-data-synk-opp/test/dynadata_5923.parquet\"\n",
    "#     )\n",
    "# ]\n",
    "\n",
    "# Read the Parquet file into a pandas DataFrame\n",
    "fil_path = \"gs://ssb-prod-skatt-naering-data-synk-opp/test/dynadata_5923.parquet\"\n",
    "df = pd.read_parquet(fil_path, filesystem=fs)\n",
    "# df = table.to_pandas()\n",
    "\n",
    "# Add the 'aar' column with the year value, make it categorical if needed\n",
    "# df['aar'] = pd.Categorical([aar] * len(df))\n",
    "\n",
    "# Rename columns based on the provided mapping\n",
    "columns = {\n",
    "    \"ENHETS_ID\": \"id\",\n",
    "    \"RAD_NR\": \"radnr\",\n",
    "    \"FELT_ID\": \"feltnavn\",\n",
    "    \"FELT_VERDI\": \"feltverdi\",\n",
    "    \"SKJEMA\": \"skjema\",\n",
    "    \"LOPENR\": \"lopenr\",\n",
    "    \"AKTIV\": \"aktiv\",\n",
    "    \"DELREG_NR\": \"delreg\",\n",
    "}\n",
    "\n",
    "df.rename(columns=columns, inplace=True)\n",
    "\n",
    "# Save the modified DataFrame back to Parquet\n",
    "destination_path = f\"gs://ssb-strukt-naering-data-produkt-prod/naringer/inndata/skjemadata/skjema=RA-0255-1/aar=2023/skjemadata_data_0.parquet\"\n",
    "\n",
    "df.to_parquet(destination_path, filesystem=fs, index=False)"
   ]
  },
  {
   "cell_type": "code",
   "execution_count": null,
   "id": "37",
   "metadata": {
    "tags": []
   },
   "outputs": [],
   "source": [
    "df.head()"
   ]
  },
  {
   "cell_type": "code",
   "execution_count": null,
   "id": "38",
   "metadata": {
    "tags": []
   },
   "outputs": [],
   "source": [
    "fil_path = [\n",
    "    f\n",
    "    for f in fs.glob(\n",
    "        f\"gs://ssb-strukt-naering-data-produkt-prod/naringer/inndata/skjemadata/skjema=RA-0255-1/aar=2022/*\"\n",
    "    )\n",
    "    # if f.endswith(\".parquet\")\n",
    "]\n",
    "\n",
    "# Assuming there's only one file in fil_path\n",
    "if fil_path:\n",
    "    skjema = pd.read_parquet(fil_path[0], filesystem=fs)"
   ]
  },
  {
   "cell_type": "code",
   "execution_count": null,
   "id": "39",
   "metadata": {
    "tags": []
   },
   "outputs": [],
   "source": [
    "skjema.shape"
   ]
  },
  {
   "cell_type": "code",
   "execution_count": null,
   "id": "40",
   "metadata": {
    "tags": []
   },
   "outputs": [],
   "source": []
  },
  {
   "cell_type": "code",
   "execution_count": null,
   "id": "41",
   "metadata": {
    "tags": []
   },
   "outputs": [],
   "source": [
    "destination_path = f\"gs://ssb-strukt-naering-data-produkt-prod/naringer/inndata/skjemadata/skjema=RA-0174-1/aar=2023/skjemadata_data_0.parquet\"\n",
    "\n",
    "skjema.to_parquet(destination_path, filesystem=fs, index=False)"
   ]
  },
  {
   "cell_type": "code",
   "execution_count": null,
   "id": "42",
   "metadata": {
    "tags": []
   },
   "outputs": [],
   "source": [
    "#remove aar from skjema\n",
    "skjema = skjema.drop(columns=['aar'])"
   ]
  },
  {
   "cell_type": "code",
   "execution_count": null,
   "id": "43",
   "metadata": {
    "tags": []
   },
   "outputs": [],
   "source": [
    "fil_path = [\n",
    "    f\n",
    "    for f in fs.glob(\n",
    "        f\"gs://ssb-strukt-naering-data-produkt-prod/naringer/inndata/skjemadata/skjema=RA-0255-1/aar=2023/*\"\n",
    "    )\n",
    "    # if f.endswith(\".parquet\")\n",
    "]\n",
    "\n",
    "# Assuming there's only one file in fil_path\n",
    "if fil_path:\n",
    "    skjema = pd.read_parquet(fil_path[0], filesystem=fs)\n",
    "    \n",
    "    # ssb-strukt-naering-data-produkt-prod/naringer/inndata/skjemadata/skjema=RA-0255-1/aar=2022"
   ]
  },
  {
   "cell_type": "code",
   "execution_count": null,
   "id": "44",
   "metadata": {
    "tags": []
   },
   "outputs": [],
   "source": [
    "skjema.head()"
   ]
  },
  {
   "cell_type": "code",
   "execution_count": null,
   "id": "45",
   "metadata": {
    "tags": []
   },
   "outputs": [],
   "source": [
    "fil_path = [\n",
    "    f\n",
    "    for f in fs.glob(\n",
    "        f\"gs://ssb-prod-noeku-data-produkt/eimerdb/nokubasen/skjemadata/aar=2022/skjema=RA-0255-1/*\",\n",
    "    )\n",
    "    # if f.endswith(\".parquet\")\n",
    "]\n",
    "\n",
    "# Use the ParquetDataset to read multiple files\n",
    "if fil_path:\n",
    "    skjema = pd.read_parquet(fil_path[0], filesystem=fs)"
   ]
  },
  {
   "cell_type": "code",
   "execution_count": null,
   "id": "46",
   "metadata": {
    "tags": []
   },
   "outputs": [],
   "source": [
    "skjema"
   ]
  },
  {
   "cell_type": "code",
   "execution_count": null,
   "id": "47",
   "metadata": {
    "tags": []
   },
   "outputs": [],
   "source": [
    "ssb-strukt-naering-data-produkt-prod/naringer/inndata/skjemadata/skjema=RA-0174-1"
   ]
  },
  {
   "cell_type": "code",
   "execution_count": null,
   "id": "48",
   "metadata": {
    "tags": []
   },
   "outputs": [],
   "source": [
    "fil_path = [\n",
    "    f\n",
    "    for f in fs.glob(\n",
    "        f\"gs://ssb-prod-skatt-naering-data-synk-opp/test/dynadata_6023.parquet\",\n",
    "    )\n",
    "    # if f.endswith(\".parquet\")\n",
    "]\n",
    "\n",
    "# Use the ParquetDataset to read multiple files\n",
    "if fil_path:\n",
    "    skjema = pd.read_parquet(fil_path[0], filesystem=fs)"
   ]
  },
  {
   "cell_type": "code",
   "execution_count": null,
   "id": "49",
   "metadata": {
    "tags": []
   },
   "outputs": [],
   "source": [
    "destination_path = f\"gs://ssb-strukt-naering-data-produkt-prod/naringer/inndata/skjemadata/skjema=RA-0174-1/aar=2023/skjemadata_data_0.parquet\"\n",
    "skjema.to_parquet(destination_path, filesystem=fs, index=False)"
   ]
  },
  {
   "cell_type": "code",
   "execution_count": null,
   "id": "50",
   "metadata": {
    "tags": []
   },
   "outputs": [],
   "source": [
    "skjema"
   ]
  },
  {
   "cell_type": "code",
   "execution_count": null,
   "id": "51",
   "metadata": {
    "tags": []
   },
   "outputs": [],
   "source": [
    "year = 2023\n",
    "\n",
    "fil_path = [\n",
    "    f\n",
    "    for f in fs.glob(\n",
    "        f\"gs://ssb-prod-noeku-data-produkt/statistikkfiler/g{year}/statistikkfil_bedrifter_pub.parquet\"\n",
    "    )\n",
    "    if f.endswith(\".parquet\")\n",
    "]\n",
    "\n",
    "# Use the ParquetDataset to read multiple files\n",
    "# dataset = pq.ParquetDataset(fil_path, filesystem=fs)\n",
    "foretak_pub = pd.read_parquet(fil_path, filesystem=fs)\n",
    "\n",
    "# ssb-prod-noeku-data-produkt/statistikkfiler/g2017\n",
    "\n",
    "print(foretak_pub.shape)"
   ]
  },
  {
   "cell_type": "code",
   "execution_count": null,
   "id": "52",
   "metadata": {
    "tags": []
   },
   "outputs": [],
   "source": [
    "foretak_pub['aar'].value_counts()"
   ]
  },
  {
   "cell_type": "code",
   "execution_count": null,
   "id": "53",
   "metadata": {
    "tags": []
   },
   "outputs": [],
   "source": [
    "# drop 'aar' in df\n",
    "foretak_pub = foretak_pub.drop(columns=['aar'])"
   ]
  },
  {
   "cell_type": "code",
   "execution_count": null,
   "id": "54",
   "metadata": {
    "tags": []
   },
   "outputs": [],
   "source": [
    "destination_path = f\"gs://ssb-strukt-naering-data-produkt-prod/naringer/klargjorte-data/statistikkfiler/aar={year}/statistikkfil_bedrifter_pub.parquet\"\n",
    "foretak_pub.to_parquet(destination_path, filesystem=fs, index=False)"
   ]
  },
  {
   "cell_type": "code",
   "execution_count": null,
   "id": "55",
   "metadata": {
    "tags": []
   },
   "outputs": [],
   "source": [
    "\n",
    "fil_path = [\n",
    "    f\n",
    "    for f in fs.glob(\n",
    "        f\"gs://ssb-strukt-naering-data-produkt-prod/naringer/klargjorte-data/statistikkfiler/aar={year}/statistikkfil_bedrifter_pub.parquet\"\n",
    "    )\n",
    "    if f.endswith(\".parquet\")\n",
    "]\n",
    "\n",
    "# Use the ParquetDataset to read multiple files\n",
    "# dataset = pq.ParquetDataset(fil_path, filesystem=fs)\n",
    "foretak_pub = pd.read_parquet(fil_path, filesystem=fs)\n",
    "\n",
    "print(foretak_pub.shape)"
   ]
  },
  {
   "cell_type": "code",
   "execution_count": null,
   "id": "56",
   "metadata": {
    "tags": []
   },
   "outputs": [],
   "source": [
    "# Skjema test\n",
    "\n",
    "year = 2023"
   ]
  },
  {
   "cell_type": "code",
   "execution_count": null,
   "id": "57",
   "metadata": {
    "tags": []
   },
   "outputs": [],
   "source": [
    "fil_path = [\n",
    "    f\n",
    "    for f in fs.glob(\n",
    "        f\"gs://ssb-prod-skatt-naering-data-synk-opp/test/dynadata_5922.parquet\"\n",
    "    )\n",
    "    if f.endswith(\".parquet\")\n",
    "]\n",
    "\n",
    "# Use the ParquetDataset to read multiple files\n",
    "# dataset = pq.ParquetDataset(fil_path, filesystem=fs)\n",
    "test1 = pd.read_parquet(fil_path, filesystem=fs)\n",
    "\n",
    "# ssb-prod-noeku-data-produkt/statistikkfiler/g2017\n",
    "\n",
    "print(test1.shape)\n",
    "\n",
    "# test1 = test1.rename(columns={'SKJEMA': 'skjema', 'AKTIV': 'aktiv', 'DELREG_NR': 'delreg_nr', 'ENHETS_ID': 'id', 'LOPENR': 'lopenr', 'RAD_NR': 'radnr', 'FELT_ID': 'feltnavn', 'FELT_VERDI': 'feltverdi'})\n",
    "\n",
    "# test1['skjema'] = test1['skjema'].astype(str)"
   ]
  },
  {
   "cell_type": "code",
   "execution_count": null,
   "id": "58",
   "metadata": {
    "tags": []
   },
   "outputs": [],
   "source": [
    "# print all rows\n",
    "pd.set_option('display.max_rows', None)\n",
    "test1['FELT_ID'].value_counts()"
   ]
  },
  {
   "cell_type": "code",
   "execution_count": null,
   "id": "59",
   "metadata": {
    "tags": []
   },
   "outputs": [],
   "source": [
    "year = 2023\n",
    "\n",
    "fil_path = [\n",
    "    f\n",
    "    for f in fs.glob(\n",
    "        f\"gs://ssb-strukt-naering-data-produkt-prod/naringer/inndata/skjemadata/skjema=RA-0255-1/aar={year}/skjemadata_data_0.parquet\"\n",
    "    )\n",
    "    if f.endswith(\".parquet\")\n",
    "]\n",
    "\n",
    "# Use the ParquetDataset to read multiple files\n",
    "# dataset = pq.ParquetDataset(fil_path, filesystem=fs)\n",
    "test1 = pd.read_parquet(fil_path, filesystem=fs)\n",
    "\n",
    "# ssb-prod-noeku-data-produkt/statistikkfiler/g2017\n",
    "\n",
    "print(test1.shape)"
   ]
  },
  {
   "cell_type": "code",
   "execution_count": null,
   "id": "60",
   "metadata": {
    "tags": []
   },
   "outputs": [],
   "source": [
    "fil_path = [\n",
    "    f\n",
    "    for f in fs.glob(\n",
    "        f\"gs://ssb-strukt-naering-data-produkt-prod/naringer/inndata/delregistre/60/6023.parquet\"\n",
    "    )\n",
    "    if f.endswith(\".parquet\")\n",
    "]\n",
    "\n",
    "# Use the ParquetDataset to read multiple files\n",
    "# dataset = pq.ParquetDataset(fil_path, filesystem=fs)\n",
    "test2 = pd.read_parquet(fil_path, filesystem=fs)\n",
    "\n",
    "# ssb-prod-noeku-data-produkt/statistikkfiler/g2017\n",
    "\n",
    "print(test2.shape)"
   ]
  },
  {
   "cell_type": "code",
   "execution_count": null,
   "id": "61",
   "metadata": {
    "tags": []
   },
   "outputs": [],
   "source": [
    "6023\n",
    "\n",
    "2017: (3412469, 9)\n",
    "2018: (4674219, 9)\n",
    "2019: (4785879, 9)\n",
    "2020: (4841254, 9)\n",
    "2021: (4137853, 9)\n",
    "2022: (4223800, 10)\n",
    "2023: (1751297, 10)\n",
    "\n",
    "5923\n",
    "\n",
    "2017: (2585284, 9)\n",
    "2018: (2689164, 9)\n",
    "2019: (2415684, 9)\n",
    "2020: (2393381, 9)\n",
    "2021: (2121860, 9)88\n",
    "2022: (3049512, 10)6\n",
    "2023: (977892, 10)"
   ]
  },
  {
   "cell_type": "code",
   "execution_count": null,
   "id": "62",
   "metadata": {
    "tags": []
   },
   "outputs": [],
   "source": [
    "test1.head()"
   ]
  },
  {
   "cell_type": "code",
   "execution_count": null,
   "id": "63",
   "metadata": {
    "tags": []
   },
   "outputs": [],
   "source": [
    "test2.head()"
   ]
  },
  {
   "cell_type": "code",
   "execution_count": null,
   "id": "64",
   "metadata": {
    "tags": []
   },
   "outputs": [],
   "source": [
    "# remove aar\n",
    "test1 = test1.drop(columns=['aar'])\n",
    "\n",
    "# test1['aar'] = year\n",
    "\n",
    "# test1.dtypes"
   ]
  },
  {
   "cell_type": "code",
   "execution_count": null,
   "id": "65",
   "metadata": {
    "tags": []
   },
   "outputs": [],
   "source": [
    "# fil_path = [\n",
    "#     f\n",
    "#     for f in fs.glob(\n",
    "#         f\"gs://ssb-strukt-naering-data-produkt-prod/naringer/inndata/skjemadata/skjema=RA-1100/aar={year}/skjemadata_data_0.parquet\"\n",
    "#     )\n",
    "#     if f.endswith(\".parquet\")\n",
    "# ]\n",
    "\n",
    "# # Use the ParquetDataset to read multiple files\n",
    "# # dataset = pq.ParquetDataset(fil_path, filesystem=fs)\n",
    "# test2 = pd.read_parquet(fil_path, filesystem=fs)\n",
    "\n",
    "# # ssb-prod-noeku-data-produkt/statistikkfiler/g2017\n",
    "\n",
    "# print(test2.shape)"
   ]
  },
  {
   "cell_type": "code",
   "execution_count": null,
   "id": "66",
   "metadata": {
    "tags": []
   },
   "outputs": [],
   "source": [
    "destination_path = f\"gs://ssb-strukt-naering-data-produkt-prod/naringer/inndata/skjemadata/skjema=RA-0174-1/aar=2023/skjemadata_data_0.parquet\"\n",
    "test2.to_parquet(destination_path, filesystem=fs, index=False)"
   ]
  },
  {
   "cell_type": "code",
   "execution_count": null,
   "id": "67",
   "metadata": {
    "tags": []
   },
   "outputs": [],
   "source": [
    "fil_path = [\n",
    "    f\n",
    "    for f in fs.glob(\n",
    "        f\"gs://ssb-strukt-naering-data-produkt-prod/naringer/inndata/skjemadata/skjema=RA-1403/aar={year}/skjemadata_data_0.parquet\"\n",
    "    )\n",
    "    if f.endswith(\".parquet\")\n",
    "]\n",
    "\n",
    "# Use the ParquetDataset to read multiple files\n",
    "# dataset = pq.ParquetDataset(fil_path, filesystem=fs)\n",
    "test3 = pd.read_parquet(fil_path, filesystem=fs)\n",
    "\n",
    "# ssb-prod-noeku-data-produkt/statistikkfiler/g2017\n",
    "\n",
    "print(test3.shape)"
   ]
  },
  {
   "cell_type": "code",
   "execution_count": null,
   "id": "68",
   "metadata": {
    "tags": []
   },
   "outputs": [],
   "source": [
    "year = 2021"
   ]
  },
  {
   "cell_type": "code",
   "execution_count": null,
   "id": "69",
   "metadata": {},
   "outputs": [],
   "source": []
  },
  {
   "cell_type": "code",
   "execution_count": null,
   "id": "70",
   "metadata": {
    "tags": []
   },
   "outputs": [],
   "source": [
    "import pyarrow.parquet as pq\n",
    "import pyarrow as pa\n",
    "\n",
    "# Step 1: Read the Parquet file\n",
    "parquet_file = pq.ParquetDataset('gs://ssb-prod-skatt-naering-data-synk-opp/test/dynadata_8923.parquet', filesystem=fs)\n",
    "\n",
    "# Convert it to a table\n",
    "table = parquet_file.read()\n",
    "\n",
    "if 'aar' in table.column_names:\n",
    "    table = table.drop(['aar'])\n",
    "\n",
    "# Step 2: Create a new schema with renamed columns\n",
    "# Rename the columns as needed (from original names to new names)\n",
    "new_column_names = {\n",
    "    'AKTIV': 'aktiv',\n",
    "    'DELREG_NR': 'delreg_nr',\n",
    "    'ENHETS_ID': 'id',\n",
    "    'LOPENR': 'lopenr',\n",
    "    'RAD_NR': 'radnr',\n",
    "    'FELT_ID': 'feltnavn',\n",
    "    'FELT_VERDI': 'feltverdi'\n",
    "}\n",
    "\n",
    "# Apply renaming by creating a new table with updated column names\n",
    "renamed_table = table.rename_columns([new_column_names.get(col, col) for col in table.column_names])\n",
    "\n",
    "# Step 3: Save the renamed Parquet file\n",
    "destination_path = f\"gs://ssb-strukt-naering-data-produkt-prod/naringer/inndata/skjemadata/skjema=RA-1100/aar=2023/skjemadata_data_0.parquet\"\n",
    "pq.write_table(renamed_table, destination_path, filesystem=fs)"
   ]
  },
  {
   "cell_type": "code",
   "execution_count": null,
   "id": "71",
   "metadata": {
    "tags": []
   },
   "outputs": [],
   "source": [
    "renamed_table"
   ]
  },
  {
   "cell_type": "code",
   "execution_count": null,
   "id": "72",
   "metadata": {
    "tags": []
   },
   "outputs": [],
   "source": [
    "skjema.head()"
   ]
  },
  {
   "cell_type": "code",
   "execution_count": null,
   "id": "73",
   "metadata": {},
   "outputs": [],
   "source": []
  }
 ],
 "metadata": {
  "language_info": {
   "codemirror_mode": {
    "name": "ipython"
   },
   "file_extension": ".py",
   "mimetype": "text/x-python",
   "name": "python",
   "nbconvert_exporter": "python"
  }
 },
 "nbformat": 4,
 "nbformat_minor": 5
}
