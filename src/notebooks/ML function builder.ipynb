{
 "cells": [
  {
   "cell_type": "markdown",
   "id": "0",
   "metadata": {
    "tags": []
   },
   "source": [
    "# Create training data with training variables function\n",
    "#### To be merged with current year good_df and then passed into relevent machine learning functions for training. The bad_df will be used as the test_df. "
   ]
  },
  {
   "cell_type": "code",
   "execution_count": null,
   "id": "1",
   "metadata": {
    "tags": []
   },
   "outputs": [],
   "source": [
    "import pandas as pd\n",
    "from sklearn.ensemble import IsolationForest\n",
    "from sklearn.cluster import DBSCAN\n",
    "import pyarrow as pa\n",
    "import pyarrow.parquet as pq\n",
    "import gcsfs\n",
    "import getpass\n",
    "import os\n",
    "from sklearn.model_selection import train_test_split\n",
    "from sklearn.linear_model import LinearRegression\n",
    "from sklearn.preprocessing import StandardScaler, OneHotEncoder\n",
    "from sklearn.compose import ColumnTransformer\n",
    "from sklearn.pipeline import Pipeline\n",
    "from sklearn.impute import SimpleImputer\n",
    "import geopandas as gpd\n",
    "import sgis as sg\n",
    "import dapla as dp\n",
    "import datetime\n",
    "from dapla.auth import AuthClient\n",
    "from dapla import FileClient\n",
    "\n",
    "fs = FileClient.get_gcs_file_system()\n",
    "import numpy as np\n",
    "\n",
    "\n",
    "import warnings\n",
    "\n",
    "warnings.filterwarnings(\"ignore\")"
   ]
  },
  {
   "cell_type": "code",
   "execution_count": null,
   "id": "2",
   "metadata": {
    "tags": []
   },
   "outputs": [],
   "source": [
    "# Hente data\n",
    "from imports import *\n",
    "\n",
    "year = 2022\n",
    "\n",
    "training_data, imputatable_df, foretak_pub = ml_modeller.hente_training_data(year)"
   ]
  },
  {
   "cell_type": "code",
   "execution_count": null,
   "id": "3",
   "metadata": {
    "tags": []
   },
   "outputs": [],
   "source": [
    "fil_path = [\n",
    "    f\n",
    "    for f in fs.glob(\n",
    "        f\"gs://ssb-strukt-naering-data-produkt-prod/naringer/klargjorte-data/statistikkfiler/aar=2022/statistikkfil_foretak_pub.parquet\"\n",
    "    )\n",
    "    if f.endswith(\".parquet\")\n",
    "]\n",
    "\n",
    "# Use the ParquetDataset to read multiple files\n",
    "# dataset = pq.ParquetDataset(fil_path, filesystem=fs)\n",
    "foretak_pub = pd.read_parquet(fil_path, filesystem=fs)\n",
    "\n",
    "print(foretak_pub.shape)"
   ]
  },
  {
   "cell_type": "code",
   "execution_count": null,
   "id": "4",
   "metadata": {
    "tags": []
   },
   "outputs": [],
   "source": []
  },
  {
   "cell_type": "code",
   "execution_count": null,
   "id": "5",
   "metadata": {
    "tags": []
   },
   "outputs": [],
   "source": [
    "# print all columns\n",
    "# for col in foretak_pub.columns:\n",
    "#     print(col)\n",
    "\n",
    "foretak_pub = foretak_pub[['omsetning', 'enhets_id', 'sysselsetting_syss', 'naring_f']]"
   ]
  },
  {
   "cell_type": "code",
   "execution_count": null,
   "id": "6",
   "metadata": {
    "tags": []
   },
   "outputs": [],
   "source": [
    "foretak_pub.head() df['n3'] = df['naring_f'].str[:3]"
   ]
  },
  {
   "cell_type": "code",
   "execution_count": null,
   "id": "7",
   "metadata": {
    "tags": []
   },
   "outputs": [],
   "source": [
    "import pandas as pd\n",
    "from sklearn.linear_model import LinearRegression\n",
    "from sklearn.metrics import mean_absolute_error\n",
    "import matplotlib.pyplot as plt\n",
    "import seaborn as sns\n",
    "\n",
    "# Keep rows where the substring (characters 2 and 3) of 'nacef_5' is '45', '46', or '47'\n",
    "df = foretak_pub[foretak_pub['naring_f'].str[:2].isin(['45', '46', '47'])]\n",
    "\n",
    "df['n3'] = df['naring_f'].str[:3]\n",
    "\n",
    "# Initialize a dictionary to store the results for each 'naring_f'\n",
    "results = {}\n",
    "\n",
    "# Iterate over each unique 'naring_f'\n",
    "for category in df['n3'].unique():\n",
    "    # Filter data for the current category\n",
    "    category_data = df[df['n3'] == category]\n",
    "    \n",
    "    # Define features and target\n",
    "    X = category_data[['sysselsetting_syss']]\n",
    "    y = category_data['omsetning']\n",
    "\n",
    "    # Fit a linear regression model\n",
    "    model = LinearRegression()\n",
    "    model.fit(X, y)\n",
    "\n",
    "    # Make predictions\n",
    "    y_pred = model.predict(X)\n",
    "    \n",
    "    # Calculate MAE for the current category\n",
    "    mae = mean_absolute_error(y, y_pred)\n",
    "    \n",
    "    # Store the model and evaluation metric\n",
    "    results[category] = {\n",
    "        'model': model,\n",
    "        'MAE': mae,\n",
    "        'y_true': y,\n",
    "        'y_pred': y_pred\n",
    "    }\n",
    "    \n",
    "    # Visualize residuals\n",
    "    plt.figure(figsize=(10, 6))\n",
    "    sns.residplot(x=y, y=y_pred - y, lowess=True)\n",
    "    plt.title(f'Residual Plot for {category}')\n",
    "    plt.xlabel('Actual Values')\n",
    "    plt.ylabel('Residuals')\n",
    "    plt.show()\n",
    "    \n",
    "    # Visualize prediction vs actual\n",
    "    plt.figure(figsize=(10, 6))\n",
    "    plt.scatter(y, y_pred)\n",
    "    plt.plot([y.min(), y.max()], [y.min(), y.max()], color='red', linestyle='--')  # Line of perfect prediction\n",
    "    plt.title(f'Prediction vs Actual for {category}')\n",
    "    plt.xlabel('Actual Values')\n",
    "    plt.ylabel('Predicted Values')\n",
    "    plt.show()\n",
    "\n",
    "# Calculate the overall MAE for the entire dataset\n",
    "overall_y_true = df['omsetning']\n",
    "overall_y_pred = pd.concat([pd.Series(results[cat]['y_pred'], index=results[cat]['y_true'].index) for cat in results])\n",
    "overall_mae = mean_absolute_error(overall_y_true, overall_y_pred)\n",
    "\n",
    "print(f'Overall MAE: {overall_mae}')\n",
    "\n",
    "# Show MAE per 'naring_f'\n",
    "mae_df = pd.DataFrame({'n3': results.keys(), 'MAE': [results[cat]['MAE'] for cat in results]})\n",
    "print(mae_df)\n"
   ]
  },
  {
   "cell_type": "code",
   "execution_count": null,
   "id": "8",
   "metadata": {
    "tags": []
   },
   "outputs": [],
   "source": [
    "import pandas as pd\n",
    "import numpy as np\n",
    "import matplotlib.pyplot as plt\n",
    "import seaborn as sns\n",
    "from sklearn.linear_model import LinearRegression\n",
    "from sklearn.metrics import mean_absolute_error\n",
    "\n",
    "# Load your data\n",
    "# Assuming training_data is already defined and loaded\n",
    "# training_data = pd.read_csv('your_file.csv')  # Uncomment this if you need to load data\n",
    "\n",
    "# Step 1: Filter the data\n",
    "# Keep rows where the substring (characters 2 and 3) of 'nacef_5' is '45', '46', or '47'\n",
    "df = foretak_pub[foretak_pub['naring_f'].str[:2].isin(['45', '46', '47'])]\n",
    "\n",
    "df['n3'] = df['naring_f'].str[:3]\n",
    "\n",
    "# Step 2: Prepare the data\n",
    "X = df[['sysselsetting_syss']]  # Feature\n",
    "y = df['omsetning']                # Target\n",
    "\n",
    "# Step 3: Train the Linear Regression Model\n",
    "model = LinearRegression()\n",
    "model.fit(X, y)\n",
    "\n",
    "# Predict new_oms\n",
    "df['predicted_new_oms'] = model.predict(X)\n",
    "\n",
    "# Step 4: Calculate MAE\n",
    "# Overall MAE\n",
    "overall_mae = mean_absolute_error(y, df['predicted_new_oms'])\n",
    "print(f\"Overall MAE: {overall_mae}\")\n",
    "\n",
    "# MAE per 'nacef_5'\n",
    "mae_per_nacef_5 = df.groupby('naring_f').apply(\n",
    "    lambda group: mean_absolute_error(group['omsetning'], group['predicted_new_oms'])\n",
    ").reset_index().rename(columns={0: 'MAE'})\n",
    "\n",
    "# Display the MAE per 'nacef_5'\n",
    "print(\"MAE per 'nacef_5':\")\n",
    "print(mae_per_nacef_5)\n",
    "\n",
    "# Step 5: Visualization\n",
    "# Calculate residuals\n",
    "df['residuals'] = df['omsetning'] - df['predicted_new_oms']\n",
    "\n",
    "# Visualization - Residual Plot\n",
    "plt.figure(figsize=(10, 6))\n",
    "sns.scatterplot(data=df, x='predicted_new_oms', y='residuals')\n",
    "plt.axhline(0, color='red', linestyle='--')\n",
    "plt.title('Residual Plot')\n",
    "plt.xlabel('Predicted new_oms')\n",
    "plt.ylabel('Residuals')\n",
    "plt.show()\n",
    "\n",
    "# Visualization - Prediction vs Actual Plot\n",
    "plt.figure(figsize=(10, 6))\n",
    "sns.scatterplot(data=df, x='omsetning', y='predicted_new_oms', hue='naring_f', palette='viridis')\n",
    "plt.plot([y.min(), y.max()], [y.min(), y.max()], color='red', linestyle='--')  # 45-degree line for reference\n",
    "plt.title('Prediction vs Actual Plot')\n",
    "plt.xlabel('Actual new_oms')\n",
    "plt.ylabel('Predicted new_oms')\n",
    "plt.legend(title='naring_f', bbox_to_anchor=(1.05, 1), loc='upper left')\n",
    "plt.show()\n",
    "\n",
    "\n",
    "plt.figure(figsize=(10, 6))\n",
    "sns.scatterplot(data=df, x='omsetning', y='sysselsetting_syss')\n",
    "plt.axhline(0, color='red', linestyle='--')\n",
    "plt.title('Residual Plot')\n",
    "plt.xlabel('oms')\n",
    "plt.ylabel('sysselsetting_syss')\n",
    "plt.show()"
   ]
  },
  {
   "cell_type": "code",
   "execution_count": null,
   "id": "9",
   "metadata": {
    "tags": []
   },
   "outputs": [],
   "source": [
    "# filter training_data for gjeldende_bdr_syss > 600\n",
    "training_data = training_data[training_data['gjeldende_bdr_syss'] > 600]"
   ]
  },
  {
   "cell_type": "code",
   "execution_count": null,
   "id": "10",
   "metadata": {
    "tags": []
   },
   "outputs": [],
   "source": [
    "# turn on option to print all columns\n",
    "pd.set_option('display.max_columns', None)\n",
    "\n",
    "training_data.head()"
   ]
  },
  {
   "cell_type": "code",
   "execution_count": null,
   "id": "11",
   "metadata": {},
   "outputs": [],
   "source": []
  }
 ],
 "metadata": {
  "language_info": {
   "codemirror_mode": {
    "name": "ipython"
   },
   "file_extension": ".py",
   "mimetype": "text/x-python",
   "name": "python",
   "nbconvert_exporter": "python"
  }
 },
 "nbformat": 4,
 "nbformat_minor": 5
}
