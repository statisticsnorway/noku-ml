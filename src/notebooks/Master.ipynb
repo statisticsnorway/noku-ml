{
 "cells": [
  {
   "cell_type": "markdown",
   "id": "0",
   "metadata": {
    "tags": []
   },
   "source": [
    "# Innholdsfortegnelse\n",
    "\n",
    "### Imports\n",
    "\n",
    "### Velg Årgang\n",
    "\n",
    "### Visualisering\n",
    "\n",
    "### Dashboard\n",
    "\n",
    "### ML evaluering\n",
    "##### Regression Problemer:\n",
    " - XGBOOST\n",
    " - Nearest Neighbors\n",
    " - Neural Networks\n",
    "##### Klassifikasjon problember:\n",
    " - XGBOOST\n",
    " - Nearest Neighbors\n",
    "### Klargjøre oppdaterings fil for macro bedrifter editeringsløsning"
   ]
  },
  {
   "cell_type": "markdown",
   "id": "1",
   "metadata": {
    "tags": []
   },
   "source": [
    "# Imports"
   ]
  },
  {
   "cell_type": "code",
   "execution_count": null,
   "id": "2",
   "metadata": {
    "tags": []
   },
   "outputs": [],
   "source": [
    "from imports import *"
   ]
  },
  {
   "cell_type": "markdown",
   "id": "3",
   "metadata": {
    "tags": []
   },
   "source": [
    "# Velg Årgang"
   ]
  },
  {
   "cell_type": "code",
   "execution_count": null,
   "id": "4",
   "metadata": {
    "tags": []
   },
   "outputs": [],
   "source": [
    "# skriv årgang\n",
    "aar = 2021"
   ]
  },
  {
   "cell_type": "markdown",
   "id": "5",
   "metadata": {
    "tags": []
   },
   "source": [
    "# Visualisering"
   ]
  },
  {
   "cell_type": "code",
   "execution_count": null,
   "id": "6",
   "metadata": {
    "tags": []
   },
   "outputs": [],
   "source": [
    "# henter data for visualisering\n",
    "timeseries_knn_kommune, histogram_data, knn_data, timeseries_knn_agg, foretak_varendel, foretak_pub, koordinates = visualisations.gather_visualisation_data(aar)"
   ]
  },
  {
   "cell_type": "markdown",
   "id": "7",
   "metadata": {
    "tags": []
   },
   "source": [
    "#### Plot for enkelt næring"
   ]
  },
  {
   "cell_type": "code",
   "execution_count": null,
   "id": "8",
   "metadata": {
    "tags": []
   },
   "outputs": [],
   "source": [
    "visualisations.plots_time(timeseries_knn_agg)"
   ]
  },
  {
   "cell_type": "markdown",
   "id": "9",
   "metadata": {},
   "source": [
    "#### Plot hver næring"
   ]
  },
  {
   "cell_type": "code",
   "execution_count": null,
   "id": "10",
   "metadata": {
    "tags": []
   },
   "outputs": [],
   "source": [
    "visualisations.plot_all_time(timeseries_knn_agg)"
   ]
  },
  {
   "cell_type": "markdown",
   "id": "11",
   "metadata": {},
   "source": [
    "#### Multiple plots for 2-siffer nivå"
   ]
  },
  {
   "cell_type": "code",
   "execution_count": null,
   "id": "12",
   "metadata": {
    "tags": []
   },
   "outputs": [],
   "source": [
    "visualisations.plot_n2(timeseries_knn_agg)"
   ]
  },
  {
   "cell_type": "markdown",
   "id": "13",
   "metadata": {},
   "source": [
    "#### Heatmap"
   ]
  },
  {
   "cell_type": "code",
   "execution_count": null,
   "id": "14",
   "metadata": {
    "tags": []
   },
   "outputs": [],
   "source": [
    "visualisations.heatmap(timeseries_knn_agg)"
   ]
  },
  {
   "cell_type": "markdown",
   "id": "15",
   "metadata": {},
   "source": [
    "#### Interactive thematic kommune map"
   ]
  },
  {
   "cell_type": "code",
   "execution_count": null,
   "id": "16",
   "metadata": {
    "tags": []
   },
   "outputs": [],
   "source": [
    "visualisations.thematic_kommune(timeseries_knn_kommune)"
   ]
  },
  {
   "cell_type": "markdown",
   "id": "17",
   "metadata": {
    "tags": []
   },
   "source": [
    "#### Animated thematic kommune map"
   ]
  },
  {
   "cell_type": "code",
   "execution_count": null,
   "id": "18",
   "metadata": {
    "tags": []
   },
   "outputs": [],
   "source": [
    "visualisations.animated_thematic_kommune(timeseries_knn_kommune)"
   ]
  },
  {
   "cell_type": "markdown",
   "id": "19",
   "metadata": {},
   "source": [
    "#### Cumulative Histogram"
   ]
  },
  {
   "cell_type": "code",
   "execution_count": null,
   "id": "20",
   "metadata": {
    "tags": []
   },
   "outputs": [],
   "source": [
    "visualisations.cumulative_histogram(histogram_data)"
   ]
  },
  {
   "cell_type": "markdown",
   "id": "21",
   "metadata": {},
   "source": [
    "#### Linked Plots"
   ]
  },
  {
   "cell_type": "code",
   "execution_count": null,
   "id": "22",
   "metadata": {
    "tags": []
   },
   "outputs": [],
   "source": [
    "visualisations.linked_plots(timeseries_knn_agg)"
   ]
  },
  {
   "cell_type": "markdown",
   "id": "23",
   "metadata": {
    "tags": []
   },
   "source": [
    "#### Bubble Plot"
   ]
  },
  {
   "cell_type": "code",
   "execution_count": null,
   "id": "24",
   "metadata": {
    "tags": []
   },
   "outputs": [],
   "source": [
    "visualisations.bubble_plot(timeseries_knn_kommune)"
   ]
  },
  {
   "cell_type": "markdown",
   "id": "25",
   "metadata": {},
   "source": [
    "#### Parallel Coordinates Plot"
   ]
  },
  {
   "cell_type": "code",
   "execution_count": null,
   "id": "26",
   "metadata": {
    "tags": []
   },
   "outputs": [],
   "source": [
    "visualisations.parallel_coordinates(timeseries_knn_agg)"
   ]
  },
  {
   "cell_type": "markdown",
   "id": "27",
   "metadata": {},
   "source": [
    "#### Geographical Plot"
   ]
  },
  {
   "cell_type": "code",
   "execution_count": null,
   "id": "28",
   "metadata": {
    "tags": []
   },
   "outputs": [],
   "source": [
    "visualisations.geomapping(koordinates)"
   ]
  },
  {
   "cell_type": "markdown",
   "id": "29",
   "metadata": {},
   "source": [
    "#### Animated barchart"
   ]
  },
  {
   "cell_type": "code",
   "execution_count": null,
   "id": "30",
   "metadata": {
    "tags": []
   },
   "outputs": [],
   "source": [
    "visualisations.animated_barchart(timeseries_knn_agg)"
   ]
  },
  {
   "cell_type": "markdown",
   "id": "31",
   "metadata": {},
   "source": [
    "#### 3D Scatterplot"
   ]
  },
  {
   "cell_type": "code",
   "execution_count": null,
   "id": "32",
   "metadata": {
    "tags": []
   },
   "outputs": [],
   "source": [
    "visualisations.scatter_3d(timeseries_knn_agg)"
   ]
  },
  {
   "cell_type": "markdown",
   "id": "33",
   "metadata": {},
   "source": [
    "# Dashboard"
   ]
  },
  {
   "cell_type": "code",
   "execution_count": null,
   "id": "34",
   "metadata": {
    "tags": []
   },
   "outputs": [],
   "source": [
    "app, port, service_prefix, domain = dash_application.run_dash_app(aar)\n",
    "\n",
    "if __name__ == \"__main__\":\n",
    "    app.run(debug=True, port=port, jupyter_server_url=domain, jupyter_mode=\"tab\", use_reloader=False)"
   ]
  },
  {
   "cell_type": "code",
   "execution_count": null,
   "id": "35",
   "metadata": {
    "tags": []
   },
   "outputs": [],
   "source": [
    "import dash\n",
    "import dash_core_components as dcc\n",
    "import dash_html_components as html\n",
    "from dash.dependencies import Input, Output\n",
    "from dash.exceptions import PreventUpdate\n",
    "import dash_bootstrap_components as dbc\n",
    "import os\n",
    "import plotly.express as px\n",
    "import plotly.graph_objects as go\n",
    "import sgis as sg\n",
    "import sys\n",
    "import geopandas as gpd\n",
    "import json\n",
    "from plotly.subplots import make_subplots\n",
    "\n",
    "sys.path.append(\"../functions\")\n",
    "import kommune\n",
    "import visualisations \n",
    "\n",
    "# Load data\n",
    "aar = 2021\n",
    "timeseries_knn_kommune, histogram_data, knn_data, timeseries_knn_agg, foretak_varendel, foretak_pub, koordinates = visualisations.gather_visualisation_data(aar)\n",
    "\n",
    "# Getting environment variables for proper integration with JupyterHub\n",
    "port = 8063\n",
    "service_prefix = os.getenv(\"JUPYTERHUB_SERVICE_PREFIX\", \"/\")\n",
    "domain = os.getenv(\"JUPYTERHUB_HTTP_REFERER\", None)\n",
    "\n",
    "# Define plotting functions (as before)\n",
    "def plot_time_dash(df, n3, variable, chart_type):\n",
    "    filtered_df = df[df['n3'] == n3]\n",
    "    fig = None\n",
    "    if chart_type == 'Line Chart':\n",
    "        fig = px.line(filtered_df, x='year', y=variable, title=f'{variable} over Years for {n3}')\n",
    "    elif chart_type == 'Bar Chart':\n",
    "        fig = px.bar(filtered_df, x='year', y=variable, title=f'{variable} over Years for {n3}')\n",
    "    elif chart_type == 'Scatter Plot':\n",
    "        fig = px.scatter(filtered_df, x='year', y=variable, title=f'{variable} over Years for {n3}')\n",
    "    fig.update_layout(xaxis_title='Year', yaxis_title=variable, template='plotly_white')\n",
    "    return fig  \n",
    "\n",
    "def plot_n2_dash(df, n2, variable, chart_type):\n",
    "    filtered_df = df[df['n2'] == n2]\n",
    "    fig = None\n",
    "    if chart_type == 'Line Chart':\n",
    "        fig = px.line(filtered_df, x='year', y=variable, color='n3', markers=True, title=f'{variable} over Years for n2={n2}')\n",
    "    elif chart_type == 'Bar Chart':\n",
    "        fig = px.bar(filtered_df, x='year', y=variable, color='n3', title=f'{variable} over Years for n2={n2}')\n",
    "    elif chart_type == 'Area Chart':\n",
    "        wide_df = filtered_df.pivot(index='year', columns='n3', values=variable).fillna(0)\n",
    "        fig = px.area(wide_df, title=f'{variable} over Years for n2={n2}')\n",
    "    fig.update_layout(xaxis_title='Year', yaxis_title=variable, legend_title='n3', template='plotly_white')\n",
    "    return fig\n",
    "\n",
    "def plot_heatmap_dash(df, n2, variable):\n",
    "    filtered_df = df[df['n2'] == n2]\n",
    "    heatmap_data = filtered_df.pivot(index='year', columns='n3', values=variable)\n",
    "    fig = go.Figure(data=go.Heatmap(\n",
    "        z=heatmap_data.values,\n",
    "        x=heatmap_data.columns,\n",
    "        y=heatmap_data.index,\n",
    "        colorscale='YlGnBu',\n",
    "        hoverongaps=False,\n",
    "        text=heatmap_data.values,\n",
    "        hoverinfo=\"text\",\n",
    "        texttemplate=\"%{text}\",\n",
    "        showscale=True\n",
    "    ))\n",
    "    fig.update_layout(\n",
    "        title=f'Heatmap of {variable} over time for all n3 under n2={n2}',\n",
    "        xaxis_title='n3 Categories',\n",
    "        yaxis_title='Year',\n",
    "        template='plotly_white'\n",
    "    )\n",
    "    return fig\n",
    "\n",
    "def cumulative_histogram(df, variable, naring):\n",
    "    data = df[df['n3'] == naring]\n",
    "    sorted_data = data.sort_values(by=variable, ascending=False).reset_index(drop=True)\n",
    "    sorted_data['cumulative'] = sorted_data[variable].cumsum()\n",
    "    sorted_data['cumulative_pct'] = 100 * sorted_data['cumulative'] / sorted_data[variable].sum()\n",
    "    sorted_data['rank'] = range(1, len(sorted_data) + 1)\n",
    "\n",
    "    fig = go.Figure()\n",
    "    fig.add_trace(go.Bar(\n",
    "        x=sorted_data['rank'],\n",
    "        y=sorted_data[variable],\n",
    "        name=f'{variable} per Business',\n",
    "        marker=dict(color='blue'),\n",
    "        yaxis='y2'\n",
    "    ))\n",
    "    fig.add_trace(go.Scatter(\n",
    "        x=sorted_data['rank'],\n",
    "        y=sorted_data['cumulative_pct'],\n",
    "        name='Cumulative %',\n",
    "        marker=dict(color='red'),\n",
    "        mode='lines+markers'\n",
    "    ))\n",
    "    fig.update_layout(\n",
    "        title=f\"Cumulative Distribution of {variable} for {naring}\",\n",
    "        xaxis_title=\"Business Rank\",\n",
    "        yaxis=dict(\n",
    "            title=\"Cumulative Percentage (%)\",\n",
    "            range=[0, 100]\n",
    "        ),\n",
    "        yaxis2=dict(\n",
    "            title=f\"{variable} Value\",\n",
    "            overlaying='y',\n",
    "            side='right',\n",
    "            showgrid=False,\n",
    "        ),\n",
    "        hovermode='x'\n",
    "    )\n",
    "    return fig\n",
    "\n",
    "def linked_plots_dash(df, naring):\n",
    "    data = df[df['n3'] == naring]\n",
    "    variables = ['oms', 'forbruk', 'salgsint', 'drkost', 'lonn', 'syss', 'resultat', 'lonn_pr_syss', 'oms_pr_syss']\n",
    "    rows = (len(variables) + 2) // 3\n",
    "    fig = make_subplots(rows=rows, cols=3, subplot_titles=variables)\n",
    "    row, col = 1, 1\n",
    "    for index, var in enumerate(variables):\n",
    "        fig.add_trace(\n",
    "            go.Scatter(x=data['year'], y=data[var], mode='lines+markers', name=var),\n",
    "            row=row, col=col\n",
    "        )\n",
    "        col += 1\n",
    "        if col > 3:\n",
    "            col = 1\n",
    "            row += 1\n",
    "    fig.update_layout(\n",
    "        height=300 * rows,\n",
    "        hovermode='closest',\n",
    "        title_text=f\"Data Overview for {naring}\",\n",
    "        showlegend=False\n",
    "    )\n",
    "    return fig\n",
    "\n",
    "def parallel_coordinates_dash(df, selected_year):\n",
    "    n3_unique = sorted(df['n3'].unique())\n",
    "    n3_to_num = {n3: i for i, n3 in enumerate(n3_unique)}\n",
    "    df['n3_num'] = df['n3'].map(n3_to_num)\n",
    "    colors = px.colors.qualitative.Set3\n",
    "    color_scale = [color for color in colors[:len(n3_to_num)]]\n",
    "    filtered_data = df[df['year'] == selected_year]\n",
    "\n",
    "    fig = px.parallel_coordinates(\n",
    "        filtered_data,\n",
    "        dimensions=['forbruk', 'oms', 'drkost', 'salgsint', 'lonn', 'syss', 'resultat', 'lonn_pr_syss', 'oms_pr_syss'],\n",
    "        color='n3_num',\n",
    "        labels={\n",
    "            \"forbruk\": \"Forbruk\",\n",
    "            \"oms\": \"Oms\",\n",
    "            \"drkost\": \"Driftskost\",\n",
    "            \"salgsint\": \"Salgsint\",\n",
    "            \"lonn\": \"Lønn\",\n",
    "            \"syss\": \"Sysselsetting\",\n",
    "            \"resultat\": \"Resultat\",\n",
    "            \"lonn_pr_syss\": \"Lønn per Sysselsetting\",\n",
    "            \"oms_pr_syss\": \"Oms per Sysselsetting\"\n",
    "        },\n",
    "        color_continuous_scale=color_scale,\n",
    "        title=f\"Parallel Coordinates Plot for Year: {selected_year}\"\n",
    "    )\n",
    "    fig.update_layout(\n",
    "        height=800,\n",
    "        coloraxis_colorbar=dict(\n",
    "            title='N3 Category',\n",
    "            tickvals=list(n3_to_num.values()),\n",
    "            ticktext=list(n3_to_num.keys())\n",
    "        )\n",
    "    )\n",
    "    return fig\n",
    "\n",
    "def bubble_plot_dash(df, years, kommunenrs, n3s, x_axis, y_axis, size):\n",
    "    df_filtered = df[\n",
    "        (df['year'].isin(years) if years != ['All'] and isinstance(years, list) else df['year'].notnull()) &\n",
    "        (df['kommunenr'].isin(kommunenrs) if kommunenrs != ['All'] and isinstance(kommunenrs, list) else df['kommunenr'].notnull()) &\n",
    "        (df['n3'].isin(n3s) if n3s != ['All'] and isinstance(n3s, list) else df['n3'].notnull())\n",
    "    ]\n",
    "    fig = px.scatter(\n",
    "        df_filtered,\n",
    "        x=x_axis,\n",
    "        y=y_axis,\n",
    "        size=size,\n",
    "        color=size,\n",
    "        color_continuous_scale=px.colors.sequential.Viridis,\n",
    "        size_max=60,\n",
    "        title=f\"Bubble Plot of {y_axis} vs {x_axis}\"\n",
    "    )\n",
    "    fig.update_layout(\n",
    "        xaxis_title=x_axis.replace('_', ' ').title(),\n",
    "        yaxis_title=y_axis.replace('_', ' ').title()\n",
    "    )\n",
    "    return fig\n",
    "\n",
    "def animated_barchart_dash(df, value_column):\n",
    "    df['rank'] = df.groupby('year')[value_column].rank(\"dense\", ascending=False)\n",
    "    df_sorted = df.sort_values(by=['year', 'rank'], ascending=[True, True])\n",
    "    color_map = {n3: f\"#{hash(n3) & 0xFFFFFF:06x}\" for n3 in df['n3'].unique()}\n",
    "    fig = px.bar(\n",
    "        df_sorted,\n",
    "        x=value_column,\n",
    "        y='n3',\n",
    "        animation_frame='year',\n",
    "        range_x=[0, df_sorted[value_column].max() + 10],\n",
    "        color='n3',\n",
    "        color_discrete_map=color_map,\n",
    "        orientation='h'\n",
    "    )\n",
    "    fig.layout.updatemenus[0].buttons[0].args[1]['frame']['duration'] = 1000\n",
    "    fig.layout.updatemenus[0].buttons[0].args[1]['transition']['duration'] = 300\n",
    "    fig.update_yaxes(categoryorder='total ascending')\n",
    "    return fig\n",
    "\n",
    "def scatter_3d_dash(df, selected_year):\n",
    "    filtered_data = df[df['year'] == selected_year]\n",
    "    filtered_data['profit'] = filtered_data['resultat'] > 0\n",
    "    fig = px.scatter_3d(filtered_data, x='drkost', y='oms', z='lonn_pr_syss',\n",
    "                        color='n3',\n",
    "                        symbol='profit',\n",
    "                        size='syss',\n",
    "                        title=f\"3D Scatter of Turnover, Consumption, and Wages by Industry for {selected_year}\")\n",
    "    fig.update_layout(\n",
    "        width=1000,\n",
    "        height=800,\n",
    "        margin=dict(l=10, r=10, b=10, t=30)\n",
    "    )\n",
    "    fig.update_traces(marker=dict(size=filtered_data['syss'] * 10))\n",
    "    return fig\n",
    "\n",
    "def calculate_percentage_change_norge(df, variable, year, n3):\n",
    "    if year == 'All' or n3 == 'All':\n",
    "        return 0\n",
    "    temp = df.copy()\n",
    "    temp['year'] = temp['year'].astype(int)\n",
    "    year = int(year)\n",
    "    previous_year = year - 1\n",
    "\n",
    "    # Filter the DataFrame for the current and previous year for the given N3 code\n",
    "    current_year_data = temp[(temp['year'] == year) & (temp['n3'] == n3)]\n",
    "    previous_year_data = temp[(temp['year'] == previous_year) & (temp['n3'] == n3)]\n",
    "\n",
    "    # Calculate the total for the given variable in the current and previous year\n",
    "    current_total = current_year_data[variable].sum()\n",
    "    previous_total = previous_year_data[variable].sum()\n",
    "\n",
    "    if previous_total == 0:\n",
    "        return 0  # To avoid division by zero\n",
    "\n",
    "    # Calculate the percentage change\n",
    "    percentage_change = ((current_total - previous_total) / previous_total) * 100\n",
    "\n",
    "    return percentage_change, current_total\n",
    "\n",
    "    \n",
    "def calculate_percentage_change(df, variable, year, kommune, n3):\n",
    "    if year == 'All' or n3 == 'All':\n",
    "        return 0\n",
    "    temp_1 = df.copy()\n",
    "    temp_1['year'] = temp_1['year'].astype(int)\n",
    "    year = int(year)\n",
    "    previous_year = year - 1\n",
    "\n",
    "    # Filter the DataFrame for the current and previous year for the given kommune and N3 code\n",
    "    current_year_data = temp_1[(temp_1['year'] == year) & (temp_1['kommunenr'] == kommune) & (temp_1['n3'] == n3)]\n",
    "    previous_year_data = temp_1[(temp_1['year'] == previous_year) & (temp_1['kommunenr'] == kommune) & (temp_1['n3'] == n3)]\n",
    "\n",
    "    # Calculate the total for the given variable in the current and previous year\n",
    "    current_total = current_year_data[variable].sum()\n",
    "    previous_total = previous_year_data[variable].sum()\n",
    "\n",
    "    if previous_total == 0:\n",
    "        return 0  # To avoid division by zero\n",
    "\n",
    "    # Calculate the percentage change\n",
    "    percentage_change = ((current_total - previous_total) / previous_total) * 100\n",
    "\n",
    "    return percentage_change, current_total\n",
    "\n",
    "\n",
    "# Create a Dash application\n",
    "app = dash.Dash(\n",
    "    __name__,\n",
    "    requests_pathname_prefix=f\"{service_prefix}proxy/{port}/\",\n",
    "    external_stylesheets=[dbc.themes.BOOTSTRAP]\n",
    ")\n",
    "\n",
    "# Application layout\n",
    "app.layout = html.Div([\n",
    "    # Header\n",
    "    dbc.NavbarSimple(\n",
    "        brand=\"Website Usage Statistics\",\n",
    "        brand_href=\"#\",\n",
    "        color=\"green\",\n",
    "        dark=True,\n",
    "    ),\n",
    "    \n",
    "    # Main content\n",
    "    dbc.Container([\n",
    "        # Dropdowns for common filters\n",
    "        dbc.Row([\n",
    "            dbc.Col([\n",
    "                html.Label('Select Year:'),\n",
    "                dcc.Dropdown(\n",
    "                    id='year-dropdown',\n",
    "                    options=[{'label': year, 'value': year} for year in sorted(timeseries_knn_agg['year'].unique())],\n",
    "                    value=sorted(timeseries_knn_agg['year'].unique())[-1],\n",
    "                    clearable=False\n",
    "                ),\n",
    "            ], width=2),\n",
    "            dbc.Col([\n",
    "                html.Label('Select Kommune:'),\n",
    "                dcc.Dropdown(\n",
    "                    id='kommune-dropdown',\n",
    "                    options=[{'label': knr, 'value': knr} for knr in sorted(timeseries_knn_kommune['kommunenr'].unique())],\n",
    "                    value='0301',\n",
    "                    clearable=False\n",
    "                ),\n",
    "            ], width=2),\n",
    "            dbc.Col([\n",
    "                html.Label('Select NACE Code:'),\n",
    "                dcc.Dropdown(\n",
    "                    id='nace-dropdown',\n",
    "                    options=[{'label': n, 'value': n} for n in sorted(timeseries_knn_agg['n3'].unique())],\n",
    "                    value=sorted(timeseries_knn_agg['n3'].unique())[0],\n",
    "                    clearable=False\n",
    "                ),\n",
    "            ], width=2),\n",
    "            dbc.Col([\n",
    "                html.Label('Select N2 Code:'),\n",
    "                dcc.Dropdown(\n",
    "                    id='n2-dropdown',\n",
    "                    options=[{'label': n2, 'value': n2} for n2 in sorted(timeseries_knn_agg['n2'].unique())],\n",
    "                    value='47',\n",
    "                    clearable=False\n",
    "                ),\n",
    "            ], width=2),\n",
    "            dbc.Col([\n",
    "                html.Label('Select Variable:'),\n",
    "                dcc.Dropdown(\n",
    "                    id='variable-dropdown',\n",
    "                    options=[{'label': var, 'value': var} for var in timeseries_knn_agg.columns if var not in ['year', 'kommunenr', 'n3', 'n2']],\n",
    "                    value='oms',\n",
    "                    clearable=False\n",
    "                ),\n",
    "            ], width=2),\n",
    "        ], className=\"mb-4\"),\n",
    "\n",
    "        # Key Metrics\n",
    "        dbc.Row([\n",
    "            dbc.Col([\n",
    "                dbc.Card([\n",
    "                    dbc.CardBody([\n",
    "                        html.H5(\"Focus metric for Norway\", className=\"card-title\"),\n",
    "                        html.Div(id='key-metric-norge', className=\"card-text\"),\n",
    "                    ])\n",
    "                ], color=\"light\", outline=True),\n",
    "            ], width=6),\n",
    "            dbc.Col([\n",
    "                dbc.Card([\n",
    "                    dbc.CardBody([\n",
    "                        html.H5(\"Focus metric for chosen kommune\", className=\"card-title\"),\n",
    "                        html.Div(id='key-metric-kommune', className=\"card-text\"),\n",
    "                    ])\n",
    "                ], color=\"light\", outline=True),\n",
    "            ], width=6),\n",
    "        ], className=\"mb-4\"),\n",
    "        \n",
    "        # Visualizations\n",
    "        dbc.Row([\n",
    "            dbc.Col([\n",
    "                html.Label('Select Chart Type:'),\n",
    "                dcc.Dropdown(\n",
    "                    id='chart-type-time-dropdown',\n",
    "                    options=[{'label': 'Line Chart', 'value': 'Line Chart'}, {'label': 'Bar Chart', 'value': 'Bar Chart'}, {'label': 'Scatter Plot', 'value': 'Scatter Plot'}],\n",
    "                    value='Line Chart',\n",
    "                    clearable=False\n",
    "                ),\n",
    "                html.Div([\n",
    "                    dcc.Graph(id='plotly-time-chart')\n",
    "                ], style={'background-color': 'white', 'padding': '10px', 'border-radius': '5px'}),\n",
    "            ], width=6),\n",
    "            dbc.Col([\n",
    "                html.Label('Select Chart Type:'),\n",
    "                dcc.Dropdown(\n",
    "                    id='chart-type-n2-dropdown',\n",
    "                    options=[{'label': 'Line Chart', 'value': 'Line Chart'}, {'label': 'Bar Chart', 'value': 'Bar Chart'}, {'label': 'Area Chart', 'value': 'Area Chart'}],\n",
    "                    value='Bar Chart',\n",
    "                    clearable=False\n",
    "                ),\n",
    "                html.Div([\n",
    "                    dcc.Graph(id='plotly-n2-chart')\n",
    "                ], style={'background-color': 'white', 'padding': '10px', 'border-radius': '5px'}),\n",
    "            ], width=6),\n",
    "        ], className=\"mb-4\"),\n",
    "\n",
    "        dbc.Row([\n",
    "            dbc.Col([\n",
    "                html.Div([\n",
    "                    dcc.Graph(id='heatmap-graph')\n",
    "                ], style={'background-color': 'white', 'padding': '10px', 'border-radius': '5px'}),\n",
    "            ], width=12),\n",
    "        ], className=\"mb-4\"),\n",
    "\n",
    "        dbc.Row([\n",
    "            dbc.Col([\n",
    "                html.Div([\n",
    "                    dcc.Graph(id='cumulative-histogram-chart')\n",
    "                ], style={'background-color': 'white', 'padding': '10px', 'border-radius': '5px'}),\n",
    "            ], width=12),\n",
    "        ], className=\"mb-4\"),\n",
    "        \n",
    "        dbc.Row([\n",
    "            dbc.Col([\n",
    "                html.Div([\n",
    "                    dcc.Graph(id='parallel-coordinates-graph')\n",
    "                ], style={'background-color': 'white', 'padding': '10px', 'border-radius': '5px'}),\n",
    "            ], width=12),\n",
    "        ], className=\"mb-4\"),\n",
    "\n",
    "        dbc.Row([\n",
    "            dbc.Col([\n",
    "                html.Div([\n",
    "                    html.Label('Select X Axis Variable:'),\n",
    "                    dcc.Dropdown(\n",
    "                        id='x-axis-dropdown',\n",
    "                        options=[{'label': var, 'value': var} for var in timeseries_knn_agg.columns if var not in ['year', 'kommunenr', 'n3', 'n2']],\n",
    "                        value='lonn',\n",
    "                        clearable=False\n",
    "                    ),\n",
    "                    html.Label('Select Y Axis Variable:'),\n",
    "                    dcc.Dropdown(\n",
    "                        id='y-axis-dropdown',\n",
    "                        options=[{'label': var, 'value': var} for var in timeseries_knn_agg.columns if var not in ['year', 'kommunenr', 'n3', 'n2']],\n",
    "                        value='resultat',\n",
    "                        clearable=False\n",
    "                    ),\n",
    "                    html.Label('Select Bubble Size Variable:'),\n",
    "                    dcc.Dropdown(\n",
    "                        id='size-dropdown',\n",
    "                        options=[{'label': var, 'value': var} for var in timeseries_knn_agg.columns if var not in ['year', 'kommunenr', 'n3', 'n2']],\n",
    "                        value='syss',\n",
    "                        clearable=False\n",
    "                    ),\n",
    "                    dcc.Graph(id='bubble-plot-graph')\n",
    "                ], style={'background-color': 'white', 'padding': '10px', 'border-radius': '5px'}),\n",
    "            ], width=12),\n",
    "        ], className=\"mb-4\"),\n",
    "\n",
    "        dbc.Row([\n",
    "            dbc.Col([\n",
    "                html.Div([\n",
    "                    dcc.Graph(id='animated-barchart-graph')\n",
    "                ], style={'background-color': 'white', 'padding': '10px', 'border-radius': '5px'}),\n",
    "            ], width=12),\n",
    "        ], className=\"mb-4\"),\n",
    "\n",
    "        dbc.Row([\n",
    "            dbc.Col([\n",
    "                html.Div([\n",
    "                    dcc.Graph(id='3d-scatter-plot')\n",
    "                ], style={'background-color': 'white', 'padding': '10px', 'border-radius': '5px'}),\n",
    "            ], width=12),\n",
    "        ], className=\"mb-4\"),\n",
    "    ], fluid=True),\n",
    "    \n",
    "    # Footer\n",
    "    dbc.Container(\n",
    "        dbc.Row(\n",
    "            dbc.Col(\n",
    "                html.Footer(\"© 2024 SSB\", className=\"text-center\"),\n",
    "                className=\"py-4\"\n",
    "            )\n",
    "        ),\n",
    "        style={'background-color': 'green', 'color': 'white'},\n",
    "        fluid=True\n",
    "    )\n",
    "])\n",
    "\n",
    "# Callbacks for updating the graphs and metrics\n",
    "@app.callback(\n",
    "    Output('key-metric-norge', 'children'),\n",
    "    [Input('variable-dropdown', 'value'), Input('year-dropdown', 'value'), Input('nace-dropdown', 'value')]\n",
    ")\n",
    "def update_key_metric_norge(variable, year, n3):\n",
    "    percentage_change, current_total = calculate_percentage_change_norge(timeseries_knn_agg, variable, year, n3)\n",
    "    arrow = \"↑\" if percentage_change > 0 else \"↓\"\n",
    "    color = \"green\" if percentage_change > 0 else \"red\"\n",
    "    return html.Div([\n",
    "        html.H3(f\"{current_total:,.0f}\", style={\"font-weight\": \"bold\", \"color\": \"black\"}),\n",
    "        html.P(f\"{arrow} {percentage_change:.2f}%\", style={\"color\": color, \"font-size\": \"18px\"}),\n",
    "        html.P(f\"Total {variable} for Norway\", style={\"color\": \"black\"})\n",
    "   \n",
    "    ])\n",
    "\n",
    "@app.callback(\n",
    "    Output('key-metric-kommune', 'children'),\n",
    "    [Input('variable-dropdown', 'value'), Input('year-dropdown', 'value'), Input('kommune-dropdown', 'value'), Input('nace-dropdown', 'value')]\n",
    ")\n",
    "def update_key_metric_kommune(variable, year, kommune, n3):\n",
    "    percentage_change, current_total = calculate_percentage_change(timeseries_knn_kommune, variable, year, kommune, n3)\n",
    "    arrow = \"↑\" if percentage_change > 0 else \"↓\"\n",
    "    color = \"green\" if percentage_change > 0 else \"red\"\n",
    "    return html.Div([\n",
    "        html.H3(f\"{current_total:,.0f}\", style={\"font-weight\": \"bold\", \"color\": \"black\"}),\n",
    "        html.P(f\"{arrow} {percentage_change:.2f}%\", style={\"color\": color, \"font-size\": \"18px\"}),\n",
    "        html.P(f\"Total {variable} for Kommune {kommune}\", style={\"color\": \"black\"})\n",
    "    ])\n",
    "\n",
    "@app.callback(\n",
    "    Output('plotly-time-chart', 'figure'),\n",
    "    [Input('nace-dropdown', 'value'), Input('variable-dropdown', 'value'), Input('chart-type-time-dropdown', 'value')]\n",
    ")\n",
    "def update_time_chart(n3, variable, chart_type):\n",
    "    if not n3 or not variable:\n",
    "        raise PreventUpdate\n",
    "    return plot_time_dash(timeseries_knn_agg, n3, variable, chart_type)\n",
    "\n",
    "@app.callback(\n",
    "    Output('plotly-n2-chart', 'figure'),\n",
    "    [Input('n2-dropdown', 'value'), Input('variable-dropdown', 'value'), Input('chart-type-n2-dropdown', 'value')]\n",
    ")\n",
    "def update_n2_chart(n2, variable, chart_type):\n",
    "    return plot_n2_dash(timeseries_knn_agg, n2, variable, chart_type)\n",
    "\n",
    "@app.callback(\n",
    "    Output('heatmap-graph', 'figure'),\n",
    "    [Input('n2-dropdown', 'value'), Input('variable-dropdown', 'value')]\n",
    ")\n",
    "def update_heatmap(n2, variable):\n",
    "    if not n2 or not variable:\n",
    "        raise PreventUpdate\n",
    "    return plot_heatmap_dash(timeseries_knn_agg, n2, variable)\n",
    "\n",
    "@app.callback(\n",
    "    Output('cumulative-histogram-chart', 'figure'),\n",
    "    [Input('variable-dropdown', 'value'),\n",
    "     Input('nace-dropdown', 'value')]\n",
    ")\n",
    "def update_cumulative_histogram_chart(variable, n3):\n",
    "    if not variable or not n3:\n",
    "        raise PreventUpdate\n",
    "    return cumulative_histogram(histogram_data, variable, n3)\n",
    "\n",
    "@app.callback(\n",
    "    Output('parallel-coordinates-graph', 'figure'),\n",
    "    [Input('year-dropdown', 'value')]\n",
    ")\n",
    "def update_parallel_coordinates(selected_year):\n",
    "    return parallel_coordinates_dash(timeseries_knn_agg, selected_year)\n",
    "\n",
    "@app.callback(\n",
    "    Output('bubble-plot-graph', 'figure'),\n",
    "    [\n",
    "        Input('year-dropdown', 'value'),\n",
    "        Input('kommune-dropdown', 'value'),\n",
    "        Input('nace-dropdown', 'value'),\n",
    "        Input('x-axis-dropdown', 'value'),\n",
    "        Input('y-axis-dropdown', 'value'),\n",
    "        Input('size-dropdown', 'value')\n",
    "    ]\n",
    ")\n",
    "def update_bubble_plot(years, kommunenrs, n3s, x_axis, y_axis, size):\n",
    "    if 'All' in years:\n",
    "        years = timeseries_knn_kommune['year'].unique().tolist()\n",
    "    if 'All' in kommunenrs:\n",
    "        kommunenrs = timeseries_knn_kommune['kommunenr'].unique().tolist()\n",
    "    if 'All' in n3s:\n",
    "        n3s = timeseries_knn_kommune['n3'].unique().tolist()\n",
    "\n",
    "    if not x_axis or not y_axis or not size:\n",
    "        raise PreventUpdate\n",
    "\n",
    "    return bubble_plot_dash(timeseries_knn_kommune, years, kommunenrs, n3s, x_axis, y_axis, size)\n",
    "\n",
    "@app.callback(\n",
    "    Output('animated-barchart-graph', 'figure'),\n",
    "    [Input('variable-dropdown', 'value')]\n",
    ")\n",
    "def update_animated_barchart(variable):\n",
    "    if not variable:\n",
    "        raise PreventUpdate\n",
    "    return animated_barchart_dash(timeseries_knn_agg, variable)\n",
    "\n",
    "@app.callback(\n",
    "    Output('3d-scatter-plot', 'figure'),\n",
    "    [Input('year-dropdown', 'value')]\n",
    ")\n",
    "def update_3d_scatter(selected_year):\n",
    "    if not selected_year:\n",
    "        raise PreventUpdate\n",
    "    return scatter_3d_dash(timeseries_knn_agg, selected_year)\n",
    "\n",
    "if __name__ == \"__main__\":\n",
    "    app.run(debug=True, port=port, jupyter_server_url=domain, jupyter_mode=\"tab\", use_reloader=False)"
   ]
  },
  {
   "cell_type": "markdown",
   "id": "36",
   "metadata": {},
   "source": [
    "# ML evaluering"
   ]
  },
  {
   "cell_type": "code",
   "execution_count": null,
   "id": "37",
   "metadata": {
    "tags": []
   },
   "outputs": [],
   "source": [
    "def print_dataframe_summary(df):\n",
    "    print(\"DataFrame Summary:\")\n",
    "    print(df.head())\n",
    "    print(df.columns)\n",
    "    print(df.dtypes)\n",
    "    print(df.describe(include='all'))\n",
    "\n",
    "# Print summary for debugging\n",
    "print_dataframe_summary(timeseries_knn_agg)\n",
    "print_dataframe_summary(timeseries_knn_kommune)"
   ]
  },
  {
   "cell_type": "code",
   "execution_count": null,
   "id": "38",
   "metadata": {
    "tags": []
   },
   "outputs": [],
   "source": [
    "# Hente data\n",
    "\n",
    "training_data, imputatable_df, foretak_pub = ml_modeller.hente_training_data()"
   ]
  },
  {
   "cell_type": "markdown",
   "id": "39",
   "metadata": {},
   "source": [
    "#### XG BOOST"
   ]
  },
  {
   "cell_type": "code",
   "execution_count": null,
   "id": "40",
   "metadata": {
    "tags": []
   },
   "outputs": [],
   "source": [
    "# velg Scaler (StandardScaler, MinMaxScaler, RobustScaler)\n",
    "scaler = RobustScaler()\n",
    "\n",
    "results = ml_modeller.xgboost_model(training_data, scaler, imputatable_df)"
   ]
  },
  {
   "cell_type": "markdown",
   "id": "41",
   "metadata": {},
   "source": [
    "#### Nearest Neighbors"
   ]
  },
  {
   "cell_type": "code",
   "execution_count": null,
   "id": "42",
   "metadata": {
    "tags": []
   },
   "outputs": [],
   "source": [
    "results = ml_modeller.knn_model(training_data, scaler, imputatable_df)"
   ]
  },
  {
   "cell_type": "markdown",
   "id": "43",
   "metadata": {},
   "source": [
    "#### Neural Networks"
   ]
  },
  {
   "cell_type": "code",
   "execution_count": null,
   "id": "44",
   "metadata": {
    "tags": []
   },
   "outputs": [],
   "source": [
    "# velg Scaler (StandardScaler, MinMaxScaler, RobustScaler)\n",
    "scaler = RobustScaler()\n",
    "\n",
    "# velg epoch antall (mer = bedre læring/convergence, mindre = mindre )\n",
    "epochs_number = 200\n",
    "batch_size = 500\n",
    "\n",
    "results = ml_modeller.nn_model(training_data, scaler, epochs_number, batch_size, imputatable_df)\n",
    "\n"
   ]
  },
  {
   "cell_type": "code",
   "execution_count": null,
   "id": "45",
   "metadata": {
    "tags": []
   },
   "outputs": [],
   "source": [
    "results = ml_modeller.xgboost_n3_klass(foretak_pub)"
   ]
  },
  {
   "cell_type": "code",
   "execution_count": null,
   "id": "46",
   "metadata": {
    "tags": []
   },
   "outputs": [],
   "source": [
    "results = ml_modeller.knn_n3_klass(foretak_pub)"
   ]
  },
  {
   "cell_type": "markdown",
   "id": "47",
   "metadata": {},
   "source": [
    "---------------------------------------------------------------------------------------------------------------------------------"
   ]
  },
  {
   "cell_type": "markdown",
   "id": "48",
   "metadata": {},
   "source": [
    "<div style=\"background-color: #F0F0F0; padding: 10px; font-size: 32px; font-weight: bold; text-align: center; border-radius: 10px;\">\n",
    "  <span style=\"color: green;\">Maskinlæringsløsninger for produksjonen av all statistikk i S423</span>\n",
    "</div>\n",
    "\n",
    "\n",
    "\n",
    "---------------------------------------------------------------------------------------------------------------------------------"
   ]
  },
  {
   "cell_type": "markdown",
   "id": "49",
   "metadata": {},
   "source": [
    "# Planen"
   ]
  },
  {
   "cell_type": "markdown",
   "id": "50",
   "metadata": {},
   "source": [
    "### Kortsiktig plan (innen 1 år eller tidligere):\n",
    "\n",
    "- Utvikle en algoritme basert på maskinlæring som automatisk kan oppdatere bedriftslisten for varehandel - inkludert foretak som ikke leverer noen data.\n",
    "- Fullstendig automatisere nøkkelindikatorer for næring 45.\n",
    "- Erstatte nærmeste nabo-funksjonene i Nøkkelindikatorproduksjonssystemet (Viggens program) med mer moderne/nøyaktige maskinlæringsverktøy.\n",
    "- Samarbeide med VoF og S422 for å samle nyttige data for å hjelpe med å trene modeller. (Har allerede hatt noen samtaler med folk fra disse avdelingene). Vi har nå muligheten til å produsere statistikk av mye høyere kvalitet basert på det de kan tilby oss.\n",
    "- Rulle ut løsningen til andre grupper i S423."
   ]
  },
  {
   "cell_type": "markdown",
   "id": "51",
   "metadata": {
    "tags": []
   },
   "source": [
    "#### Her er hvordan den tidlige algoritmen vil fungere.\n",
    "##### Gir gode resultater tidlig i prosessen - med enkle forbedringer som ennå kan gjøres. Dette bør gjøre det mulig å slippe å erstatte Madli."
   ]
  },
  {
   "cell_type": "code",
   "execution_count": null,
   "id": "52",
   "metadata": {
    "tags": []
   },
   "outputs": [],
   "source": [
    "# from IPython.display import Image\n",
    "\n",
    "# # Provide the path to your image file\n",
    "# image_path = \"flow chart.png\"\n",
    "\n",
    "# # Display the image\n",
    "# Image(filename=image_path)"
   ]
  },
  {
   "cell_type": "markdown",
   "id": "53",
   "metadata": {},
   "source": [
    "### Langsiktig plan (1-3 år)\n",
    "\n",
    "- Fullstendig overskrive Viggens program. Start helt fra bunnen av og bruk moderne løsninger. Spesielt bør vi bruke data fra andre avsnitt der det er mulig og bruke ML for å estimere variabler der vi tidligere bare brukte hardkodede funksjoner. Nevrale nettverk kan kanskje finne løsninger per næring.\n",
    "- Eliminere behovet for bedriftsfordeling av omsetning og driftskostnader. Vi kan fjerne det fra OKI-skjemaene.\n",
    "- Produsere mer/bedre statistikk. Vi vil ha mer tid, derfor kan vi publisere nye og mer interessante statistikker.\n",
    "\n",
    "\n",
    "\n",
    "- Etter min mening, til tross for at vi har startet et editeringsløsning-team, har vi en veldig reell mulighet til å ikke trenge et editeringsprodukt i S423. Vi kan kontrollere og rydde våre data ved hjelp av mer moderne løsninger."
   ]
  },
  {
   "cell_type": "markdown",
   "id": "54",
   "metadata": {},
   "source": [
    "# Koden så langt - KNN modell"
   ]
  },
  {
   "cell_type": "markdown",
   "id": "55",
   "metadata": {},
   "source": [
    "---------------------------------------------------------------------------------------------------------------------------------\n",
    "\n",
    "\n",
    "### Har startet med en KNN-modell. Gode resultater så langt. Vil også legge til flere funksjoner i treningsdatasettet - skal teste også andre modeller f.eks:\n",
    "\n",
    "- Decision Tree\n",
    "- Random Forest \n",
    "- Neural Networks\n",
    "\n",
    "---------------------------------------------------------------------------------------------------------------------------------"
   ]
  },
  {
   "cell_type": "markdown",
   "id": "56",
   "metadata": {},
   "source": [
    "### Kjør programmet\n",
    "##### Eksempel:\n",
    "##### Næring : 45.200\n",
    "\n",
    "- 879263662\n",
    "\n",
    "- K-nærmeste naboer blir funnet ved hjelp av en maskinlæringsalgoritme som forsøker å minimere feil ved å bruke geografisk avstand, omsetning, sysselsetting og oms per syss som variabler for å trene modellen.\n",
    "- Vi kan legge til og fjerne disse treningsvariablene som vi vil. Vi kan bruke flere verktøy for å teste hvilke variabler som er mest nyttige - også kan vi bruke nevrale nettverk for å finne de riktige variablene automatisk.\n",
    "- S422 har noen variabler som jeg tror vil være til stor hjelp."
   ]
  },
  {
   "cell_type": "markdown",
   "id": "57",
   "metadata": {
    "tags": []
   },
   "source": [
    "# Kartlegging av næringen"
   ]
  },
  {
   "cell_type": "code",
   "execution_count": null,
   "id": "58",
   "metadata": {
    "tags": []
   },
   "outputs": [],
   "source": [
    "n3 = '45.2'\n",
    "variable = 'oms'\n",
    "top_limit = 0.30\n",
    "# create a df called explore that is based on filtering the column 'n3' by the value 'n3'\n",
    "\n",
    "# drop duplicates\n",
    "\n",
    "explore = knn_data[knn_data[\"n3\"] == n3]\n",
    "explore = explore [['id',\n",
    "                    'nacef_5', \n",
    "                    'orgnr_n_1', \n",
    "                    variable, \n",
    "                    'b_sysselsetting_syss', \n",
    "                    'regtype', \n",
    "                    'x_koordinat',\n",
    "                    'y_koordinat', \n",
    "                    'rute_100m', \n",
    "                    'rute_1000m',\n",
    "                    'geometry',]]\n",
    "\n",
    "# filter explore so only the top 'top_limit' of values based on variable are included\n",
    "\n",
    "explore = explore[explore['x_koordinat'].notna()]\n",
    "\n",
    "explore = explore.sort_values(by=variable, ascending=False).head(int(top_limit * len(explore)))\n",
    "\n",
    "explore['geometry'] = explore['geometry'].apply(wkt.loads)\n",
    "\n",
    "explore = gpd.GeoDataFrame(explore, geometry='geometry')\n",
    "\n",
    "# if 'x_koordinat' is NaN then delete the row\n"
   ]
  },
  {
   "cell_type": "code",
   "execution_count": null,
   "id": "59",
   "metadata": {
    "tags": []
   },
   "outputs": [],
   "source": [
    "explore.head()"
   ]
  },
  {
   "cell_type": "code",
   "execution_count": null,
   "id": "60",
   "metadata": {
    "tags": []
   },
   "outputs": [],
   "source": [
    "explore.dtypes"
   ]
  },
  {
   "cell_type": "markdown",
   "id": "61",
   "metadata": {
    "tags": []
   },
   "source": [
    "# 2022 nøku data"
   ]
  },
  {
   "cell_type": "code",
   "execution_count": null,
   "id": "62",
   "metadata": {
    "tags": []
   },
   "outputs": [],
   "source": [
    "# sg.explore(merged_gdf, \"omsetning\")\n",
    "sg.explore(explore, 'oms')"
   ]
  },
  {
   "cell_type": "markdown",
   "id": "63",
   "metadata": {
    "tags": []
   },
   "source": [
    "# Kartlegging av foretaket"
   ]
  },
  {
   "cell_type": "code",
   "execution_count": null,
   "id": "64",
   "metadata": {
    "tags": []
   },
   "outputs": [],
   "source": [
    "sg.explore(enhet_df, \"omsetning\")"
   ]
  },
  {
   "cell_type": "markdown",
   "id": "65",
   "metadata": {
    "tags": []
   },
   "source": [
    "# Å finne nærmeste naboer"
   ]
  },
  {
   "cell_type": "code",
   "execution_count": null,
   "id": "66",
   "metadata": {
    "tags": []
   },
   "outputs": [],
   "source": [
    "sg.explore(naermeste_naboer, \"orgnr_foretak\")"
   ]
  },
  {
   "cell_type": "markdown",
   "id": "67",
   "metadata": {},
   "source": [
    "# Evaluering av resultater for reg_type 2 virksomheter"
   ]
  },
  {
   "cell_type": "code",
   "execution_count": null,
   "id": "68",
   "metadata": {
    "tags": []
   },
   "outputs": [],
   "source": [
    "# Calculate Mean Absolute Error (MAE) using the adjusted predictions\n",
    "mae_new_predicted = mean_absolute_error(\n",
    "    reg_type_02_df[\"actual_omsetning\"], reg_type_02_df[\"new_predicted\"]\n",
    ")\n",
    "r2_new_predicted = r2_score(\n",
    "    reg_type_02_df[\"actual_omsetning\"], reg_type_02_df[\"new_predicted\"]\n",
    ")\n",
    "print(\n",
    "    f\"Mean Absolute Error (MAE) / Gjennomsnittlig absolutt feil for reg_type 2: {mae_new_predicted}\"\n",
    ")\n",
    "print(f\"R-kvadrert (R2) for reg_type 2: {r2_new_predicted}\")"
   ]
  },
  {
   "cell_type": "markdown",
   "id": "69",
   "metadata": {
    "tags": []
   },
   "source": [
    "# # Evaluering av resultater for reg_type 2 virksomheter etter optimisere funksjon"
   ]
  },
  {
   "cell_type": "code",
   "execution_count": null,
   "id": "70",
   "metadata": {
    "tags": []
   },
   "outputs": [],
   "source": [
    "mae_new_predicted = mean_absolute_error(\n",
    "    adjusted_result_df[\"actual_omsetning\"], adjusted_result_df[\"new_predicted\"]\n",
    ")\n",
    "r2_new_predicted = r2_score(\n",
    "    adjusted_result_df[\"actual_omsetning\"], adjusted_result_df[\"new_predicted\"]\n",
    ")\n",
    "print(\n",
    "    f\"Mean Absolute Error (MAE)/ Gjennomsnittlig absolutt feil for hele næringen: {mae_new_predicted}\"\n",
    ")\n",
    "print(f\"R-squared (R2) for hele næringen: {r2_new_predicted}\")"
   ]
  },
  {
   "cell_type": "markdown",
   "id": "71",
   "metadata": {
    "tags": []
   },
   "source": [
    "# Resultater "
   ]
  },
  {
   "cell_type": "code",
   "execution_count": null,
   "id": "72",
   "metadata": {
    "tags": []
   },
   "outputs": [],
   "source": [
    "reg_type_02_df"
   ]
  },
  {
   "cell_type": "markdown",
   "id": "73",
   "metadata": {},
   "source": [
    "--------------------------------------------------------------------------------------------------------------------------------\n",
    "\n",
    "<div style=\"background-color: #F0F0F0; padding: 10px; font-size: 32px; font-weight: bold; text-align: center; border-radius: 10px;\">\n",
    "  <span style=\"color: green;\">Veien videre</span>\n",
    "</div>\n",
    "\n",
    "--------------------------------------------------------------------------------------------------------------------------------"
   ]
  },
  {
   "cell_type": "markdown",
   "id": "74",
   "metadata": {},
   "source": [
    "# Samarbeid med S422 og S424 og data fra avdeling 300"
   ]
  },
  {
   "cell_type": "markdown",
   "id": "75",
   "metadata": {},
   "source": [
    "#### Stort potensial her: \n",
    "\n",
    "- Jeg har snakket med S422, og de har transaksjonsdata på virksomhetsnivå. Dette ville ikke bare eliminere behovet for å be om bedriftsfordeling i OKI-skjemaet (først for varehandel OG tjenesteyting, men for alle sammen litt senere) , men det ville også være svært kraftige data å trene maskinlæringsmodeller på , noe som forbedrer deres nøyaktighet. De har også investeringsdata som ville være svært nyttige for vår avdeling.\n",
    "\n",
    "- Selv om vi ikke kan eliminere behovet for bedriftsfordeling i OKI-skjemaet for alle gruppene ennå, kan nok transaksjonsdataene vi har for industri/bygg osv. være svært kraftige for å trene opp en automatisk rettingmodell for disse næringer.\n",
    "\n",
    "- Jeg har fått tilgang til noen av datasettene hos VoF, som gjør det mulig for oss å kartlegge og koble våre statistikker med hvor virksomhetene befinner seg, ikke bare geografisk, men også i forhold til ting som reisetid, antall kjøretøy som passerer virksomheten osv.\n",
    "\n",
    "- Jeg har også brukt data som jeg har hentet fra avdeling 300 for å lage statistikk over befolkningstetthet og inntektstetthet for å kartlegge til våre virksomheter - jeg tror dette har potensial til å hjelpe oss med å trene svært nyttige modeller. Dette kan ses nedenfor:"
   ]
  },
  {
   "cell_type": "markdown",
   "id": "76",
   "metadata": {
    "tags": []
   },
   "source": [
    "### Legg til flere treningsvariabler"
   ]
  },
  {
   "cell_type": "code",
   "execution_count": null,
   "id": "77",
   "metadata": {
    "tags": []
   },
   "outputs": [],
   "source": [
    "kommuner = kommune.kommune()"
   ]
  },
  {
   "cell_type": "code",
   "execution_count": null,
   "id": "78",
   "metadata": {
    "tags": []
   },
   "outputs": [],
   "source": [
    "# m = sg.ThematicMap(enhet_df, kommuner, column=\"befolkning\", size=15)\n",
    "# m.title = \"Befolkning i kommunene\"\n",
    "# m.plot()\n",
    "\n",
    "m = sg.ThematicMap(kommuner, column=\"oms\", size=15)\n",
    "m.title = \"oms i kommunene\"\n",
    "m.plot()"
   ]
  },
  {
   "cell_type": "code",
   "execution_count": null,
   "id": "79",
   "metadata": {
    "tags": []
   },
   "outputs": [],
   "source": [
    "m = sg.ThematicMap(enhet_df, kommuner, column=\"inntekt\", size=15)\n",
    "m.title = \"Inntekt i kommunene\"\n",
    "m.plot()"
   ]
  },
  {
   "cell_type": "markdown",
   "id": "80",
   "metadata": {},
   "source": [
    "# Nettverksanalyse"
   ]
  },
  {
   "cell_type": "code",
   "execution_count": null,
   "id": "81",
   "metadata": {
    "tags": []
   },
   "outputs": [],
   "source": [
    "frequencies = networks.networks(aar)"
   ]
  },
  {
   "cell_type": "code",
   "execution_count": null,
   "id": "82",
   "metadata": {
    "tags": []
   },
   "outputs": [],
   "source": [
    "filtered_df = enhet_df[enhet_df[\"kommune\"].str.startswith(\"03\")]"
   ]
  },
  {
   "cell_type": "code",
   "execution_count": null,
   "id": "83",
   "metadata": {
    "tags": []
   },
   "outputs": [],
   "source": [
    "m = sg.ThematicMap(sg.buff(frequencies, 18), filtered_df, column=\"frequency\", size=15)\n",
    "m.black = True\n",
    "m.cmap = \"plasma\"  # fargepaletten\n",
    "m.title = \"Antall ganger hver vei ble brukt\"\n",
    "m.legend.title = \"Antall\"\n",
    "m.plot()"
   ]
  },
  {
   "cell_type": "markdown",
   "id": "84",
   "metadata": {
    "tags": []
   },
   "source": [
    "# Trender over flere tidsperioder\n",
    "\n",
    "Kan spørre Statbank API"
   ]
  },
  {
   "cell_type": "code",
   "execution_count": null,
   "id": "85",
   "metadata": {
    "tags": []
   },
   "outputs": [],
   "source": [
    "# Provide the path to your image file\n",
    "image_path = \"trend.png\"\n",
    "\n",
    "# Display the image\n",
    "Image(filename=image_path)"
   ]
  },
  {
   "cell_type": "markdown",
   "id": "86",
   "metadata": {
    "tags": []
   },
   "source": [
    "--------------------------------------------------------------------------------------------------------------------------------\n",
    "\n",
    "<div style=\"background-color: #F0F0F0; padding: 10px; font-size: 32px; font-weight: bold; text-align: center; border-radius: 10px;\">\n",
    "  <span style=\"color: green;\">Modellvalg</span>\n",
    "</div>\n",
    "\n",
    "--------------------------------------------------------------------------------------------------------------------------------"
   ]
  },
  {
   "cell_type": "markdown",
   "id": "87",
   "metadata": {},
   "source": [
    "- KNN (K- nærmeste naboer)\n",
    "- Beslutningstær (Decision Trees)\n",
    "- Tilfeldige skoger (Random Forests)\n",
    "- Nevrale nettverk (Neural Networks)\n"
   ]
  },
  {
   "cell_type": "markdown",
   "id": "88",
   "metadata": {},
   "source": [
    "# KNN"
   ]
  },
  {
   "cell_type": "markdown",
   "id": "89",
   "metadata": {
    "tags": []
   },
   "source": [
    "KNN, eller k-nærmeste naboer, er en type maskinlæringsmodell som brukes for klassifisering og regresjon. I KNN-algoritmen, for å gjøre en prediksjon for en ny datapunkt, finner algoritmen de 'k' nærmeste datapunktene i treningssettet og gjør en prediksjon basert på disse.\n",
    "\n",
    "Fordeler med KNN:\n",
    "1. Enkel å forstå og implementere.\n",
    "2. Modellen tilpasser seg automatisk i takt med at mer data blir tilgjengelig.\n",
    "3. Effektiv for datasett med et lite antall dimensjoner.\n",
    "\n",
    "Ulemper med KNN:\n",
    "1. Kan være treg for store datasett, da den krever beregning av avstanden til hvert punkt i treningssettet.\n",
    "2. Sensitiv for skalerte data og irrelevant funksjoner, noe som kan påvirke nøyaktigheten.\n",
    "3. Krever en god definisjon av hva som utgjør \"nærhet\", noe som kan være utfordrende i noen domener."
   ]
  },
  {
   "cell_type": "markdown",
   "id": "90",
   "metadata": {},
   "source": [
    "# Beslutningstær (Decision Trees)"
   ]
  },
  {
   "cell_type": "markdown",
   "id": "91",
   "metadata": {},
   "source": [
    "Beslutningstrær er en type maskinlæringsmodell som brukes for både klassifisering og regresjon. I beslutningstrær lages en modell som forutsier verdien av en målvariabel basert på enkle beslutningsregler utledet fra dataegenskapene.\n",
    "\n",
    "Fordeler med beslutningstrær:\n",
    "1. Enkle å forstå og visualisere, noe som gjør dem tilgjengelige for brukere med ikke-teknisk bakgrunn.\n",
    "2. Krever lite dataforberedelse sammenlignet med andre algoritmer.\n",
    "3. Kan håndtere både numeriske og kategoriske data.\n",
    "\n",
    "Ulemper med beslutningstrær:\n",
    "1. Kan lett overtilpasse seg dataene, noe som fører til dårlig generalisering på nye data.\n",
    "2. Er følsomme for små endringer i dataene, noe som kan føre til store endringer i strukturen på treet.\n",
    "3. Kan være partiske mot de funksjonene som har flere nivåer."
   ]
  },
  {
   "cell_type": "markdown",
   "id": "92",
   "metadata": {},
   "source": [
    "# Tilfeldige skoger (Random Forests)"
   ]
  },
  {
   "cell_type": "markdown",
   "id": "93",
   "metadata": {},
   "source": [
    "Tilfeldige skoger er en ensemble-læringsmetode for klassifisering, regresjon og andre oppgaver. Den opererer ved å konstruere en mengde beslutningstrær ved treningstidspunktet og utleder den endelige beslutningen basert på flertallet av trærne eller gjennomsnittet av deres prediksjoner.\n",
    "\n",
    "Fordeler med tilfeldige skoger:\n",
    "1. Reduserer risikoen for overtilpasning som er vanlig i enkeltstående beslutningstrær.\n",
    "2. Effektiv på store datasett og kan håndtere tusenvis av inngangsvariabler uten variabeldeletelse.\n",
    "3. Gir en indikasjon på hvilke funksjoner som er viktigst i klassifiseringen.\n",
    "\n",
    "Ulemper med tilfeldige skoger:\n",
    "1. Modellene kan bli ganske store og krever mye ressurser for både trening og prediksjon.\n",
    "2. Mindre intuitiv og vanskeligere å visualisere sammenlignet med enkeltstående beslutningstrær.\n",
    "3. Prediksjonene fra tilfeldige skoger er mindre tolkbare enn de fra beslutningstrær."
   ]
  },
  {
   "cell_type": "markdown",
   "id": "94",
   "metadata": {},
   "source": [
    "# Nevrale nettverk (Neural Network)"
   ]
  },
  {
   "cell_type": "markdown",
   "id": "95",
   "metadata": {},
   "source": [
    "Nevrale nettverk er en klasse av maskinlæringsalgoritmer som er inspirert av strukturen og funksjonene til menneskelige hjerner. De består av lag med knutepunkter (nevroner) som simulerer hvordan hjernen behandler og reagerer på inngående informasjon.\n",
    "\n",
    "Fordeler med nevrale nettverk:\n",
    "1. Evne til å lære og modellere ikke-lineære og komplekse relasjoner.\n",
    "2. Etter tilstrekkelig trening, er de ekstremt nøyaktige i prediksjoner.\n",
    "3. Fleksible til å tilpasse seg ulike typer data og kan håndtere både klassifisering og regresjonsoppgaver.\n",
    "\n",
    "Ulemper med nevrale nettverk:\n",
    "1. Krever store mengder data for å trene effektivt.\n",
    "2. Tidskrevende og ressursintensiv trening, spesielt for større nettverk.\n",
    "3. Modellens beslutninger er ofte ikke gjennomsiktige (kjent som \"black box\" problemet), noe som gjør det vanskelig å forstå hvorfor nettverket har tatt en bestemt beslutning."
   ]
  },
  {
   "cell_type": "markdown",
   "id": "96",
   "metadata": {},
   "source": [
    "# Modell Stacking"
   ]
  },
  {
   "cell_type": "markdown",
   "id": "97",
   "metadata": {},
   "source": [
    "Vi kan 'stack' modeller (bruke felere modeller samtidig). I AO programmet finner du et eksempel nederst. KNN og simple linear regresseion brukes (pre - optimisering) - og Mean Absolute Error gikk ned fra 79725 til  41684"
   ]
  },
  {
   "cell_type": "markdown",
   "id": "98",
   "metadata": {},
   "source": [
    "# Production RUN"
   ]
  },
  {
   "cell_type": "code",
   "execution_count": null,
   "id": "99",
   "metadata": {
    "tags": []
   },
   "outputs": [],
   "source": [
    "year = 2021\n",
    "fjor = year - 1\n",
    "limit = 0.6\n",
    "good_df, onlygoodoms, bad_df, merged_df = input_data.split_input_data(year, limit)"
   ]
  }
 ],
 "metadata": {
  "language_info": {
   "codemirror_mode": {
    "name": "ipython"
   },
   "file_extension": ".py",
   "mimetype": "text/x-python",
   "name": "python",
   "nbconvert_exporter": "python"
  }
 },
 "nbformat": 4,
 "nbformat_minor": 5
}
