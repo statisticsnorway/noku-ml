{
 "cells": [
  {
   "cell_type": "code",
   "execution_count": null,
   "id": "88b97aad-7de0-49e4-8362-f70b61f21c77",
   "metadata": {
    "tags": []
   },
   "outputs": [],
   "source": [
    "import pandas as pd\n",
    "from sklearn.ensemble import IsolationForest\n",
    "from sklearn.cluster import DBSCAN\n",
    "import pyarrow as pa\n",
    "import pyarrow.parquet as pq\n",
    "import gcsfs\n",
    "import getpass\n",
    "import os\n",
    "from sklearn.model_selection import train_test_split\n",
    "from sklearn.linear_model import LinearRegression\n",
    "from sklearn.preprocessing import StandardScaler, OneHotEncoder\n",
    "from sklearn.compose import ColumnTransformer\n",
    "from sklearn.pipeline import Pipeline\n",
    "from sklearn.impute import SimpleImputer\n",
    "import geopandas as gpd\n",
    "import sgis as sg\n",
    "import dapla as dp\n",
    "import datetime\n",
    "from dapla.auth import AuthClient\n",
    "from dapla import FileClient\n",
    "from sklearn.metrics import mean_absolute_error, r2_score\n",
    "from graphviz import Digraph\n",
    "\n",
    "import sys\n",
    "\n",
    "sys.path.append(\"../functions\")\n",
    "\n",
    "import knn\n",
    "import networks\n",
    "import plan\n",
    "import kommune\n",
    "\n",
    "fs = FileClient.get_gcs_file_system()\n",
    "import numpy as np\n",
    "\n",
    "\n",
    "import warnings\n",
    "\n",
    "warnings.filterwarnings(\"ignore\")\n",
    "\n",
    "\n",
    "# aar = input(\"Årgang: \")\n",
    "# enhet = input(\"orgnr_foretak #: \")\n",
    "\n",
    "aar = \"2021\"\n",
    "enhet = \"879263662\"\n",
    "\n",
    "enhet_df, merged_gdf, reg_type_02_df, adjusted_result_df, naermeste_naboer = knn.knn(\n",
    "    aar, enhet\n",
    ")"
   ]
  },
  {
   "cell_type": "markdown",
   "id": "99f8c8ed-fc44-454c-9e2a-2d15f16081ac",
   "metadata": {},
   "source": [
    "---------------------------------------------------------------------------------------------------------------------------------\n",
    "\n",
    "\n",
    "\n",
    "<div style=\"background-color: #F0F0F0; padding: 10px; font-size: 32px; font-weight: bold; text-align: center; border-radius: 10px;\">\n",
    "  <span style=\"color: green;\">Maskinlæringsløsninger for produksjonen av all statistikk i S423</span>\n",
    "</div>\n",
    "\n",
    "\n",
    "\n",
    "---------------------------------------------------------------------------------------------------------------------------------"
   ]
  },
  {
   "cell_type": "markdown",
   "id": "8fa3fbda-725b-4332-9db8-80c002f498f8",
   "metadata": {},
   "source": [
    "# Planen"
   ]
  },
  {
   "cell_type": "markdown",
   "id": "343b9a4e-8425-4847-b966-dc5655d467a5",
   "metadata": {},
   "source": [
    "### Kortsiktig plan (innen 1 år eller tidligere):\n",
    "\n",
    "- Utvikle en algoritme basert på maskinlæring som automatisk kan oppdatere bedriftslisten for varehandel - inkludert foretak som ikke leverer noen data.\n",
    "- Fullstendig automatisere nøkkelindikatorer for næring 45.\n",
    "- Erstatte nærmeste nabo-funksjonene i Nøkkelindikatorproduksjonssystemet (Viggens program) med mer moderne/nøyaktige maskinlæringsverktøy.\n",
    "- Samarbeide med VoF og S422 for å samle nyttige data for å hjelpe med å trene modeller. (Har allerede hatt noen samtaler med folk fra disse avdelingene). Vi har nå muligheten til å produsere statistikk av mye høyere kvalitet basert på det de kan tilby oss.\n",
    "- Rulle ut løsningen til andre grupper i S423."
   ]
  },
  {
   "cell_type": "markdown",
   "id": "f12b8985-6ee4-4af4-8f09-51b61ee2e1d5",
   "metadata": {
    "tags": []
   },
   "source": [
    "#### Her er hvordan den tidlige algoritmen vil fungere.\n",
    "##### Gir gode resultater tidlig i prosessen - med enkle forbedringer som ennå kan gjøres. Dette bør gjøre det mulig å slippe å erstatte Madli."
   ]
  },
  {
   "cell_type": "code",
   "execution_count": null,
   "id": "9e04b2fd-076f-481d-a9dc-cf3cc312aa6a",
   "metadata": {
    "tags": []
   },
   "outputs": [],
   "source": [
    "from IPython.display import Image\n",
    "\n",
    "# Provide the path to your image file\n",
    "image_path = \"flow chart.png\"\n",
    "\n",
    "# Display the image\n",
    "Image(filename=image_path)"
   ]
  },
  {
   "cell_type": "markdown",
   "id": "45f58600-5c72-4eca-a769-d843c8ca4a66",
   "metadata": {},
   "source": [
    "### Langsiktig plan (1-3 år)\n",
    "\n",
    "- Fullstendig overskrive Viggens program. Start helt fra bunnen av og bruk moderne løsninger. Spesielt bør vi bruke data fra andre avsnitt der det er mulig og bruke ML for å estimere variabler der vi tidligere bare brukte hardkodede funksjoner. Nevrale nettverk kan kanskje finne løsninger per næring.\n",
    "- Eliminere behovet for bedriftsfordeling av omsetning og driftskostnader. Vi kan fjerne det fra OKI-skjemaene.\n",
    "- Produsere mer/bedre statistikk. Vi vil ha mer tid, derfor kan vi publisere nye og mer interessante statistikker.\n",
    "\n",
    "\n",
    "\n",
    "- Etter min mening, til tross for at vi har startet et editeringsløsning-team, har vi en veldig reell mulighet til å ikke trenge et editeringsprodukt i S423. Vi kan kontrollere og rydde våre data ved hjelp av mer moderne løsninger."
   ]
  },
  {
   "cell_type": "markdown",
   "id": "8736c0c4-8fd8-4cad-b8fd-f993d985af8d",
   "metadata": {},
   "source": [
    "# Koden så langt - KNN modell"
   ]
  },
  {
   "cell_type": "markdown",
   "id": "8037a45c-5637-48b2-8602-bdc9d3efc18a",
   "metadata": {},
   "source": [
    "---------------------------------------------------------------------------------------------------------------------------------\n",
    "\n",
    "\n",
    "### Har startet med en KNN-modell. Gode resultater så langt. Vil også legge til flere funksjoner i treningsdatasettet - skal teste også andre modeller f.eks:\n",
    "\n",
    "- Decision Tree\n",
    "- Random Forest \n",
    "- Neural Networks\n",
    "\n",
    "---------------------------------------------------------------------------------------------------------------------------------"
   ]
  },
  {
   "cell_type": "markdown",
   "id": "06f0e7b3-8b5b-4d75-bbf7-99e3ff67ae9c",
   "metadata": {},
   "source": [
    "### Kjør programmet\n",
    "##### Eksempel:\n",
    "##### Næring : 45.200\n",
    "\n",
    "- 879263662\n",
    "\n",
    "- K-nærmeste naboer blir funnet ved hjelp av en maskinlæringsalgoritme som forsøker å minimere feil ved å bruke geografisk avstand, omsetning, sysselsetting og oms per syss som variabler for å trene modellen.\n",
    "- Vi kan legge til og fjerne disse treningsvariablene som vi vil. Vi kan bruke flere verktøy for å teste hvilke variabler som er mest nyttige - også kan vi bruke nevrale nettverk for å finne de riktige variablene automatisk.\n",
    "- S422 har noen variabler som jeg tror vil være til stor hjelp."
   ]
  },
  {
   "cell_type": "markdown",
   "id": "4281488c-3c0f-4681-8eb5-a67c0e070018",
   "metadata": {
    "tags": []
   },
   "source": [
    "# Kartlegging av næringen"
   ]
  },
  {
   "cell_type": "code",
   "execution_count": null,
   "id": "1abaec37-1ffb-4104-916e-19dda7d613ba",
   "metadata": {
    "tags": []
   },
   "outputs": [],
   "source": [
    "sg.explore(merged_gdf, \"omsetning\")"
   ]
  },
  {
   "cell_type": "markdown",
   "id": "1f258342-43e1-4f03-a266-769b15985490",
   "metadata": {
    "tags": []
   },
   "source": [
    "# Kartlegging av foretaket"
   ]
  },
  {
   "cell_type": "code",
   "execution_count": null,
   "id": "d27bbd2f-ee1d-406a-95bf-af45cb906020",
   "metadata": {
    "tags": []
   },
   "outputs": [],
   "source": [
    "sg.explore(enhet_df, \"omsetning\")"
   ]
  },
  {
   "cell_type": "markdown",
   "id": "94ea9b84-b4cb-4c84-a463-699b09ade6b9",
   "metadata": {
    "tags": []
   },
   "source": [
    "# Å finne nærmeste naboer"
   ]
  },
  {
   "cell_type": "code",
   "execution_count": null,
   "id": "a84af855-8136-466a-beb4-6f1c5d427875",
   "metadata": {
    "tags": []
   },
   "outputs": [],
   "source": [
    "sg.explore(naermeste_naboer, \"orgnr_foretak\")"
   ]
  },
  {
   "cell_type": "markdown",
   "id": "c38aa989-d640-4be9-bef7-61344b25bc06",
   "metadata": {},
   "source": [
    "# Evaluering av resultater for reg_type 2 virksomheter"
   ]
  },
  {
   "cell_type": "code",
   "execution_count": null,
   "id": "ccc1dddd-67b2-477c-8dea-6b96b90767f6",
   "metadata": {
    "tags": []
   },
   "outputs": [],
   "source": [
    "# Calculate Mean Absolute Error (MAE) using the adjusted predictions\n",
    "mae_new_predicted = mean_absolute_error(\n",
    "    reg_type_02_df[\"actual_omsetning\"], reg_type_02_df[\"new_predicted\"]\n",
    ")\n",
    "r2_new_predicted = r2_score(\n",
    "    reg_type_02_df[\"actual_omsetning\"], reg_type_02_df[\"new_predicted\"]\n",
    ")\n",
    "print(\n",
    "    f\"Mean Absolute Error (MAE) / Gjennomsnittlig absolutt feil for reg_type 2: {mae_new_predicted}\"\n",
    ")\n",
    "print(f\"R-kvadrert (R2) for reg_type 2: {r2_new_predicted}\")"
   ]
  },
  {
   "cell_type": "markdown",
   "id": "f2419ed2-c159-4d4d-8690-1ab9172d47f2",
   "metadata": {
    "tags": []
   },
   "source": [
    "# # Evaluering av resultater for reg_type 2 virksomheter etter optimisere funksjon"
   ]
  },
  {
   "cell_type": "code",
   "execution_count": null,
   "id": "3fe42be2-2c4a-42fb-9719-27d9b9715f98",
   "metadata": {
    "tags": []
   },
   "outputs": [],
   "source": [
    "mae_new_predicted = mean_absolute_error(\n",
    "    adjusted_result_df[\"actual_omsetning\"], adjusted_result_df[\"new_predicted\"]\n",
    ")\n",
    "r2_new_predicted = r2_score(\n",
    "    adjusted_result_df[\"actual_omsetning\"], adjusted_result_df[\"new_predicted\"]\n",
    ")\n",
    "print(\n",
    "    f\"Mean Absolute Error (MAE)/ Gjennomsnittlig absolutt feil for hele næringen: {mae_new_predicted}\"\n",
    ")\n",
    "print(f\"R-squared (R2) for hele næringen: {r2_new_predicted}\")"
   ]
  },
  {
   "cell_type": "markdown",
   "id": "e7b82c31-1bd2-473a-ae85-93bcb83d8add",
   "metadata": {
    "tags": []
   },
   "source": [
    "# Resultater "
   ]
  },
  {
   "cell_type": "code",
   "execution_count": null,
   "id": "ae5b4a30-1e00-480a-9eb6-c6b4555f4d35",
   "metadata": {
    "tags": []
   },
   "outputs": [],
   "source": [
    "reg_type_02_df"
   ]
  },
  {
   "cell_type": "markdown",
   "id": "91ad29dc-c4c1-4c16-86b1-102ce4267e8a",
   "metadata": {},
   "source": [
    "--------------------------------------------------------------------------------------------------------------------------------\n",
    "\n",
    "<div style=\"background-color: #F0F0F0; padding: 10px; font-size: 32px; font-weight: bold; text-align: center; border-radius: 10px;\">\n",
    "  <span style=\"color: green;\">Veien videre</span>\n",
    "</div>\n",
    "\n",
    "--------------------------------------------------------------------------------------------------------------------------------"
   ]
  },
  {
   "cell_type": "markdown",
   "id": "a407f6e7-dc6f-4d77-85fa-50e86db10e0c",
   "metadata": {},
   "source": [
    "# Samarbeid med S422 og S424 og data fra avdeling 300"
   ]
  },
  {
   "cell_type": "markdown",
   "id": "5f7d4a2f-a8c4-4ee7-8566-3b27d6a9c4c2",
   "metadata": {},
   "source": [
    "#### Stort potensial her: \n",
    "\n",
    "- Jeg har snakket med S422, og de har transaksjonsdata på virksomhetsnivå. Dette ville ikke bare eliminere behovet for å be om bedriftsfordeling i OKI-skjemaet (først for varehandel OG tjenesteyting, men for alle sammen litt senere) , men det ville også være svært kraftige data å trene maskinlæringsmodeller på , noe som forbedrer deres nøyaktighet. De har også investeringsdata som ville være svært nyttige for vår avdeling.\n",
    "\n",
    "- Selv om vi ikke kan eliminere behovet for bedriftsfordeling i OKI-skjemaet for alle gruppene ennå, kan nok transaksjonsdataene vi har for industri/bygg osv. være svært kraftige for å trene opp en automatisk rettingmodell for disse næringer.\n",
    "\n",
    "- Jeg har fått tilgang til noen av datasettene hos VoF, som gjør det mulig for oss å kartlegge og koble våre statistikker med hvor virksomhetene befinner seg, ikke bare geografisk, men også i forhold til ting som reisetid, antall kjøretøy som passerer virksomheten osv.\n",
    "\n",
    "- Jeg har også brukt data som jeg har hentet fra avdeling 300 for å lage statistikk over befolkningstetthet og inntektstetthet for å kartlegge til våre virksomheter - jeg tror dette har potensial til å hjelpe oss med å trene svært nyttige modeller. Dette kan ses nedenfor:"
   ]
  },
  {
   "cell_type": "markdown",
   "id": "81301f23-0018-4190-b10c-bc17a805c1c6",
   "metadata": {
    "tags": []
   },
   "source": [
    "### Legg til flere treningsvariabler"
   ]
  },
  {
   "cell_type": "code",
   "execution_count": null,
   "id": "a74ffbcc-d972-442d-a6b5-49498e9d36ca",
   "metadata": {
    "tags": []
   },
   "outputs": [],
   "source": [
    "kommuner = kommune.kommune()"
   ]
  },
  {
   "cell_type": "code",
   "execution_count": null,
   "id": "b81d256c-2c48-4d05-93b9-1b3817024e95",
   "metadata": {
    "tags": []
   },
   "outputs": [],
   "source": [
    "m = sg.ThematicMap(enhet_df, kommuner, column=\"befolkning\", size=15)\n",
    "m.title = \"Befolkning i kommunene\"\n",
    "m.plot()"
   ]
  },
  {
   "cell_type": "code",
   "execution_count": null,
   "id": "10a4471b-f5bc-4947-b82b-f49709ee470b",
   "metadata": {
    "tags": []
   },
   "outputs": [],
   "source": [
    "m = sg.ThematicMap(enhet_df, kommuner, column=\"inntekt\", size=15)\n",
    "m.title = \"Inntekt i kommunene\"\n",
    "m.plot()"
   ]
  },
  {
   "cell_type": "markdown",
   "id": "ff5e1441-5134-4f35-a51c-e57e553edbfc",
   "metadata": {},
   "source": [
    "# Nettverksanalyse"
   ]
  },
  {
   "cell_type": "code",
   "execution_count": null,
   "id": "e96604e4-0a43-4378-819a-3f1d67f86b87",
   "metadata": {
    "tags": []
   },
   "outputs": [],
   "source": [
    "frequencies = networks.networks(aar)"
   ]
  },
  {
   "cell_type": "code",
   "execution_count": null,
   "id": "60a834ed-d610-4fdd-83e1-204bcb4190d1",
   "metadata": {
    "tags": []
   },
   "outputs": [],
   "source": [
    "filtered_df = enhet_df[enhet_df[\"kommune\"].str.startswith(\"03\")]"
   ]
  },
  {
   "cell_type": "code",
   "execution_count": null,
   "id": "c2ff9a15-fa1b-4d16-b3a2-42d702e11a47",
   "metadata": {
    "tags": []
   },
   "outputs": [],
   "source": [
    "m = sg.ThematicMap(sg.buff(frequencies, 18), filtered_df, column=\"frequency\", size=15)\n",
    "m.black = True\n",
    "m.cmap = \"plasma\"  # fargepaletten\n",
    "m.title = \"Antall ganger hver vei ble brukt\"\n",
    "m.legend.title = \"Antall\"\n",
    "m.plot()"
   ]
  },
  {
   "cell_type": "markdown",
   "id": "3a439c33-a64b-4e5d-a42c-85317f3ebe27",
   "metadata": {
    "tags": []
   },
   "source": [
    "# Trender over flere tidsperioder\n",
    "\n",
    "Kan spørre Statbank API"
   ]
  },
  {
   "cell_type": "code",
   "execution_count": null,
   "id": "1c17a842-d0f8-4880-9404-cd99b0426ff8",
   "metadata": {
    "tags": []
   },
   "outputs": [],
   "source": [
    "# Provide the path to your image file\n",
    "image_path = \"trend.png\"\n",
    "\n",
    "# Display the image\n",
    "Image(filename=image_path)"
   ]
  },
  {
   "cell_type": "markdown",
   "id": "98f65e77-c507-4faf-a6dc-0daa3072d8d4",
   "metadata": {
    "tags": []
   },
   "source": [
    "--------------------------------------------------------------------------------------------------------------------------------\n",
    "\n",
    "<div style=\"background-color: #F0F0F0; padding: 10px; font-size: 32px; font-weight: bold; text-align: center; border-radius: 10px;\">\n",
    "  <span style=\"color: green;\">Modellvalg</span>\n",
    "</div>\n",
    "\n",
    "--------------------------------------------------------------------------------------------------------------------------------"
   ]
  },
  {
   "cell_type": "markdown",
   "id": "089ba9e9-1203-4599-a59a-1b4f3b4886a5",
   "metadata": {},
   "source": [
    "- KNN (K- nærmeste naboer)\n",
    "- Beslutningstær (Decision Trees)\n",
    "- Tilfeldige skoger (Random Forests)\n",
    "- Nevrale nettverk (Neural Networks)\n"
   ]
  },
  {
   "cell_type": "markdown",
   "id": "22b4d62a-219d-4b03-8b84-73d8c6bb7153",
   "metadata": {},
   "source": [
    "# KNN"
   ]
  },
  {
   "cell_type": "markdown",
   "id": "24a753b5-9bc6-4279-91ae-dda61ea22cb5",
   "metadata": {
    "tags": []
   },
   "source": [
    "KNN, eller k-nærmeste naboer, er en type maskinlæringsmodell som brukes for klassifisering og regresjon. I KNN-algoritmen, for å gjøre en prediksjon for en ny datapunkt, finner algoritmen de 'k' nærmeste datapunktene i treningssettet og gjør en prediksjon basert på disse.\n",
    "\n",
    "Fordeler med KNN:\n",
    "1. Enkel å forstå og implementere.\n",
    "2. Modellen tilpasser seg automatisk i takt med at mer data blir tilgjengelig.\n",
    "3. Effektiv for datasett med et lite antall dimensjoner.\n",
    "\n",
    "Ulemper med KNN:\n",
    "1. Kan være treg for store datasett, da den krever beregning av avstanden til hvert punkt i treningssettet.\n",
    "2. Sensitiv for skalerte data og irrelevant funksjoner, noe som kan påvirke nøyaktigheten.\n",
    "3. Krever en god definisjon av hva som utgjør \"nærhet\", noe som kan være utfordrende i noen domener."
   ]
  },
  {
   "cell_type": "markdown",
   "id": "4f9db056-3a30-41bd-b77a-616804bde625",
   "metadata": {},
   "source": [
    "# Beslutningstær (Decision Trees)"
   ]
  },
  {
   "cell_type": "markdown",
   "id": "6a4d9621-ee47-4e76-b91d-ce07334d8eb2",
   "metadata": {},
   "source": [
    "Beslutningstrær er en type maskinlæringsmodell som brukes for både klassifisering og regresjon. I beslutningstrær lages en modell som forutsier verdien av en målvariabel basert på enkle beslutningsregler utledet fra dataegenskapene.\n",
    "\n",
    "Fordeler med beslutningstrær:\n",
    "1. Enkle å forstå og visualisere, noe som gjør dem tilgjengelige for brukere med ikke-teknisk bakgrunn.\n",
    "2. Krever lite dataforberedelse sammenlignet med andre algoritmer.\n",
    "3. Kan håndtere både numeriske og kategoriske data.\n",
    "\n",
    "Ulemper med beslutningstrær:\n",
    "1. Kan lett overtilpasse seg dataene, noe som fører til dårlig generalisering på nye data.\n",
    "2. Er følsomme for små endringer i dataene, noe som kan føre til store endringer i strukturen på treet.\n",
    "3. Kan være partiske mot de funksjonene som har flere nivåer."
   ]
  },
  {
   "cell_type": "markdown",
   "id": "3cf841d5-6447-4887-8269-8aa815377541",
   "metadata": {},
   "source": [
    "# Tilfeldige skoger (Random Forests)"
   ]
  },
  {
   "cell_type": "markdown",
   "id": "0be2a11e-0856-46e6-a54f-60a26e7c6d7f",
   "metadata": {},
   "source": [
    "Tilfeldige skoger er en ensemble-læringsmetode for klassifisering, regresjon og andre oppgaver. Den opererer ved å konstruere en mengde beslutningstrær ved treningstidspunktet og utleder den endelige beslutningen basert på flertallet av trærne eller gjennomsnittet av deres prediksjoner.\n",
    "\n",
    "Fordeler med tilfeldige skoger:\n",
    "1. Reduserer risikoen for overtilpasning som er vanlig i enkeltstående beslutningstrær.\n",
    "2. Effektiv på store datasett og kan håndtere tusenvis av inngangsvariabler uten variabeldeletelse.\n",
    "3. Gir en indikasjon på hvilke funksjoner som er viktigst i klassifiseringen.\n",
    "\n",
    "Ulemper med tilfeldige skoger:\n",
    "1. Modellene kan bli ganske store og krever mye ressurser for både trening og prediksjon.\n",
    "2. Mindre intuitiv og vanskeligere å visualisere sammenlignet med enkeltstående beslutningstrær.\n",
    "3. Prediksjonene fra tilfeldige skoger er mindre tolkbare enn de fra beslutningstrær."
   ]
  },
  {
   "cell_type": "markdown",
   "id": "92abdda6-3a4f-4162-b210-b6af6bd49244",
   "metadata": {},
   "source": [
    "# Nevrale nettverk (Neural Network)"
   ]
  },
  {
   "cell_type": "markdown",
   "id": "14cbaf99-9f8d-4ba8-a1e1-17b08d5436a8",
   "metadata": {},
   "source": [
    "Nevrale nettverk er en klasse av maskinlæringsalgoritmer som er inspirert av strukturen og funksjonene til menneskelige hjerner. De består av lag med knutepunkter (nevroner) som simulerer hvordan hjernen behandler og reagerer på inngående informasjon.\n",
    "\n",
    "Fordeler med nevrale nettverk:\n",
    "1. Evne til å lære og modellere ikke-lineære og komplekse relasjoner.\n",
    "2. Etter tilstrekkelig trening, er de ekstremt nøyaktige i prediksjoner.\n",
    "3. Fleksible til å tilpasse seg ulike typer data og kan håndtere både klassifisering og regresjonsoppgaver.\n",
    "\n",
    "Ulemper med nevrale nettverk:\n",
    "1. Krever store mengder data for å trene effektivt.\n",
    "2. Tidskrevende og ressursintensiv trening, spesielt for større nettverk.\n",
    "3. Modellens beslutninger er ofte ikke gjennomsiktige (kjent som \"black box\" problemet), noe som gjør det vanskelig å forstå hvorfor nettverket har tatt en bestemt beslutning."
   ]
  },
  {
   "cell_type": "code",
   "execution_count": null,
   "id": "84bf465c-4da1-42fc-92e5-2eeba48d656c",
   "metadata": {},
   "outputs": [],
   "source": []
  }
 ],
 "metadata": {
  "language_info": {
   "codemirror_mode": {
    "name": "ipython"
   },
   "file_extension": ".py",
   "mimetype": "text/x-python",
   "name": "python",
   "nbconvert_exporter": "python"
  }
 },
 "nbformat": 4,
 "nbformat_minor": 5
}
