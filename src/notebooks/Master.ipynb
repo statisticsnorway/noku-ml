{
 "cells": [
  {
   "cell_type": "markdown",
   "id": "0",
   "metadata": {
    "tags": []
   },
   "source": [
    "<div style=\"background-color: #F0F0F0; padding: 10px; font-size: 32px; font-weight: bold; text-align: center; border-radius: 10px;\">\n",
    "  <span style=\"color: green;\">Maskinlæringsløsninger for produksjonen av all statistikk i S423</span>\n",
    "</div>\n",
    "\n",
    "\n",
    "\n",
    "---------------------------------------------------------------------------------------------------------------------------------"
   ]
  },
  {
   "cell_type": "markdown",
   "id": "1",
   "metadata": {
    "tags": []
   },
   "source": [
    "# Innholdsfortegnelse\n",
    "\n",
    "### |[ Imports ](#Imports)            |\n",
    "\n",
    "### | [Velg Årgang](#Velg_Årgang)     |\n",
    "\n",
    "### | [Visualisering](#Visualisering) |\n",
    "\n",
    "### | [Dashboard](#Dashboard)         |\n",
    "\n",
    "### | [ML evaluering](#ML) |\n",
    "##### [Regression Problemer:](#Regression_Problemer)\n",
    " - [XGBOOST](#XGBOOST)\n",
    " - [Nearest Neighbors](#KNN)\n",
    " - [Neural Networks](#NN)\n",
    "##### [Klassifikasjon problember:](#klassifikasjon_Problemer)\n",
    " - [XGBOOST](#XG)\n",
    " - [Nearest Neighbors](#KNN_2)\n",
    "### | [Oppdateringsfil](#oppdateringsfil) |"
   ]
  },
  {
   "cell_type": "markdown",
   "id": "2",
   "metadata": {
    "tags": []
   },
   "source": [
    "# | [Imports](#Imports) |"
   ]
  },
  {
   "cell_type": "code",
   "execution_count": null,
   "id": "3",
   "metadata": {
    "tags": []
   },
   "outputs": [],
   "source": [
    "from imports import *"
   ]
  },
  {
   "cell_type": "markdown",
   "id": "4",
   "metadata": {
    "tags": []
   },
   "source": [
    "# | [Velg Årgang](#Velg_Årgang) |"
   ]
  },
  {
   "cell_type": "code",
   "execution_count": null,
   "id": "5",
   "metadata": {
    "tags": []
   },
   "outputs": [],
   "source": [
    "# skriv årgang\n",
    "aar = 2021"
   ]
  },
  {
   "cell_type": "markdown",
   "id": "6",
   "metadata": {
    "tags": []
   },
   "source": [
    "# | [Visualisering](#Visualisering) |"
   ]
  },
  {
   "cell_type": "code",
   "execution_count": null,
   "id": "7",
   "metadata": {
    "tags": []
   },
   "outputs": [],
   "source": [
    "# henter data for visualisering\n",
    "timeseries_knn_kommune, histogram_data, knn_data, timeseries_knn_agg, koordinates = visualisations.gather_visualisation_data(aar)"
   ]
  },
  {
   "cell_type": "markdown",
   "id": "8",
   "metadata": {
    "tags": []
   },
   "source": [
    "#### Plot for enkelt næring"
   ]
  },
  {
   "cell_type": "code",
   "execution_count": null,
   "id": "9",
   "metadata": {
    "tags": []
   },
   "outputs": [],
   "source": [
    "visualisations.plots_time(timeseries_knn_agg)"
   ]
  },
  {
   "cell_type": "markdown",
   "id": "10",
   "metadata": {},
   "source": [
    "#### Plot hver næring"
   ]
  },
  {
   "cell_type": "code",
   "execution_count": null,
   "id": "11",
   "metadata": {
    "tags": []
   },
   "outputs": [],
   "source": [
    "visualisations.plot_all_time(timeseries_knn_agg)"
   ]
  },
  {
   "cell_type": "markdown",
   "id": "12",
   "metadata": {},
   "source": [
    "#### Multiple plots for 2-siffer nivå"
   ]
  },
  {
   "cell_type": "code",
   "execution_count": null,
   "id": "13",
   "metadata": {
    "tags": []
   },
   "outputs": [],
   "source": [
    "visualisations.plot_n2(timeseries_knn_agg)"
   ]
  },
  {
   "cell_type": "code",
   "execution_count": null,
   "id": "14",
   "metadata": {},
   "outputs": [],
   "source": [
    "#### Heatmap"
   ]
  },
  {
   "cell_type": "code",
   "execution_count": null,
   "id": "15",
   "metadata": {
    "tags": []
   },
   "outputs": [],
   "source": [
    "visualisations.heatmap(timeseries_knn_agg)"
   ]
  },
  {
   "cell_type": "markdown",
   "id": "16",
   "metadata": {},
   "source": [
    "#### Interactive thematic kommune map"
   ]
  },
  {
   "cell_type": "code",
   "execution_count": null,
   "id": "17",
   "metadata": {
    "tags": []
   },
   "outputs": [],
   "source": [
    "visualisations.thematic_kommune(timeseries_knn_kommune)"
   ]
  },
  {
   "cell_type": "markdown",
   "id": "18",
   "metadata": {
    "tags": []
   },
   "source": [
    "#### Animated thematic kommune map"
   ]
  },
  {
   "cell_type": "code",
   "execution_count": null,
   "id": "19",
   "metadata": {
    "tags": []
   },
   "outputs": [],
   "source": [
    "visualisations.animated_thematic_kommune(timeseries_knn_kommune)"
   ]
  },
  {
   "cell_type": "markdown",
   "id": "20",
   "metadata": {},
   "source": [
    "#### Cumulative Histogram"
   ]
  },
  {
   "cell_type": "code",
   "execution_count": null,
   "id": "21",
   "metadata": {
    "tags": []
   },
   "outputs": [],
   "source": [
    "visualisations.cumulative_histogram(histogram_data)"
   ]
  },
  {
   "cell_type": "markdown",
   "id": "22",
   "metadata": {},
   "source": [
    "#### Linked Plots"
   ]
  },
  {
   "cell_type": "code",
   "execution_count": null,
   "id": "23",
   "metadata": {
    "tags": []
   },
   "outputs": [],
   "source": [
    "visualisations.linked_plots(timeseries_knn_agg)"
   ]
  },
  {
   "cell_type": "markdown",
   "id": "24",
   "metadata": {
    "tags": []
   },
   "source": [
    "#### Bubble Plot"
   ]
  },
  {
   "cell_type": "code",
   "execution_count": null,
   "id": "25",
   "metadata": {
    "tags": []
   },
   "outputs": [],
   "source": [
    "visualisations.bubble_plot(timeseries_knn_kommune)"
   ]
  },
  {
   "cell_type": "markdown",
   "id": "26",
   "metadata": {},
   "source": [
    "#### Parallel Coordinates Plot"
   ]
  },
  {
   "cell_type": "code",
   "execution_count": null,
   "id": "27",
   "metadata": {
    "tags": []
   },
   "outputs": [],
   "source": [
    "visualisations.parallel_coordinates(timeseries_knn_agg)"
   ]
  },
  {
   "cell_type": "markdown",
   "id": "28",
   "metadata": {},
   "source": [
    "#### Geographical Plot"
   ]
  },
  {
   "cell_type": "code",
   "execution_count": null,
   "id": "29",
   "metadata": {
    "tags": []
   },
   "outputs": [],
   "source": [
    "visualisations.geomapping(koordinates)"
   ]
  },
  {
   "cell_type": "markdown",
   "id": "30",
   "metadata": {},
   "source": [
    "#### Animated barchart"
   ]
  },
  {
   "cell_type": "code",
   "execution_count": null,
   "id": "31",
   "metadata": {
    "tags": []
   },
   "outputs": [],
   "source": [
    "visualisations.animated_barchart(timeseries_knn_agg)"
   ]
  },
  {
   "cell_type": "markdown",
   "id": "32",
   "metadata": {},
   "source": [
    "#### 3D Scatterplot"
   ]
  },
  {
   "cell_type": "code",
   "execution_count": null,
   "id": "33",
   "metadata": {
    "tags": []
   },
   "outputs": [],
   "source": [
    "visualisations.scatter_3d(timeseries_knn_agg)"
   ]
  },
  {
   "cell_type": "markdown",
   "id": "34",
   "metadata": {},
   "source": [
    "# | [Dashboard](#Dashboard) |"
   ]
  },
  {
   "cell_type": "code",
   "execution_count": null,
   "id": "35",
   "metadata": {
    "tags": []
   },
   "outputs": [],
   "source": [
    "app, port, service_prefix, domain = dash_application.run_dash_app(aar, timeseries_knn_kommune, histogram_data, knn_data, timeseries_knn_agg, koordinates)\n",
    "\n",
    "if __name__ == \"__main__\":\n",
    "    app.run(debug=True, port=port, jupyter_server_url=domain, jupyter_mode=\"tab\", use_reloader=False)"
   ]
  },
  {
   "cell_type": "markdown",
   "id": "36",
   "metadata": {},
   "source": [
    "# | [ML evaluering](#ML) |"
   ]
  },
  {
   "cell_type": "code",
   "execution_count": null,
   "id": "37",
   "metadata": {
    "tags": []
   },
   "outputs": [],
   "source": [
    "# Hente data\n",
    "\n",
    "training_data, imputatable_df, foretak_pub = ml_modeller.hente_training_data()"
   ]
  },
  {
   "cell_type": "markdown",
   "id": "38",
   "metadata": {
    "tags": []
   },
   "source": [
    "### [Regression Problemer](#Regression_Problemer)"
   ]
  },
  {
   "cell_type": "markdown",
   "id": "39",
   "metadata": {},
   "source": [
    "#### [XG BOOST](#XGBOOST)"
   ]
  },
  {
   "cell_type": "code",
   "execution_count": null,
   "id": "40",
   "metadata": {
    "tags": []
   },
   "outputs": [],
   "source": [
    "# velg Scaler (StandardScaler, MinMaxScaler, RobustScaler)\n",
    "scaler = RobustScaler()\n",
    "# Slå av GridSearch for fortere kjøring\n",
    "results = ml_modeller.xgboost_model(training_data, scaler, imputatable_df, GridSearch=False)"
   ]
  },
  {
   "cell_type": "markdown",
   "id": "41",
   "metadata": {},
   "source": [
    "#### [Nearest Neighbors](#KNN)"
   ]
  },
  {
   "cell_type": "code",
   "execution_count": null,
   "id": "42",
   "metadata": {
    "tags": []
   },
   "outputs": [],
   "source": [
    "# velg Scaler (StandardScaler, MinMaxScaler, RobustScaler)\n",
    "scaler = RobustScaler()\n",
    "# Slå av GridSearch for fortere kjøring\n",
    "results = ml_modeller.knn_model(training_data, scaler, imputatable_df, GridSearch=False)\n",
    "\n",
    "# best resultat for gridsearch så langt:\n",
    "# Best parameters found by GridSearch: {'n_neighbors': 2}\n"
   ]
  },
  {
   "cell_type": "markdown",
   "id": "43",
   "metadata": {},
   "source": [
    "#### [Neural Networks](#NN)"
   ]
  },
  {
   "cell_type": "code",
   "execution_count": null,
   "id": "44",
   "metadata": {
    "tags": []
   },
   "outputs": [],
   "source": [
    "# velg Scaler (StandardScaler, MinMaxScaler, RobustScaler)\n",
    "scaler = RobustScaler()\n",
    "\n",
    "# velg epoch antall (mer = bedre læring/convergence, mindre = mindre )\n",
    "epochs_number = 200\n",
    "batch_size = 500\n",
    "\n",
    "results = ml_modeller.nn_model(training_data, scaler, epochs_number, batch_size, imputatable_df)\n",
    "\n"
   ]
  },
  {
   "cell_type": "markdown",
   "id": "45",
   "metadata": {
    "tags": []
   },
   "source": [
    "### [Klassifikasjon Problemer](#klassifikasjon_Problemer)"
   ]
  },
  {
   "cell_type": "markdown",
   "id": "46",
   "metadata": {
    "tags": []
   },
   "source": [
    "#### [XGBOOST](#XG)"
   ]
  },
  {
   "cell_type": "code",
   "execution_count": null,
   "id": "47",
   "metadata": {
    "tags": []
   },
   "outputs": [],
   "source": [
    "results = ml_modeller.xgboost_n3_klass(foretak_pub)"
   ]
  },
  {
   "cell_type": "markdown",
   "id": "48",
   "metadata": {
    "tags": []
   },
   "source": [
    "#### [Nearest Neighbors](#KNN_2)"
   ]
  },
  {
   "cell_type": "code",
   "execution_count": null,
   "id": "49",
   "metadata": {
    "tags": []
   },
   "outputs": [],
   "source": [
    "results = ml_modeller.knn_n3_klass(foretak_pub)"
   ]
  },
  {
   "cell_type": "markdown",
   "id": "50",
   "metadata": {
    "tags": []
   },
   "source": [
    "# | [Oppdaterings Fil](#oppdateringsfil) |"
   ]
  },
  {
   "cell_type": "code",
   "execution_count": null,
   "id": "51",
   "metadata": {
    "tags": []
   },
   "outputs": [],
   "source": [
    "year = 2021\n",
    "# Choose between knn_model, xgboost_model or nn_model\n",
    "model = 'knn_model'\n",
    "rate = 0.65\n",
    "scaler = RobustScaler()\n",
    "GridSearch=False\n",
    "\n",
    "oppdateringsfil, timeseries_knn_agg, timeseries_knn__kommune_agg, check_totals, check_manually = oppdateringsfil.create_bedrift_fil(year, model, rate, scaler, GridSearch=GridSearch)\n",
    "\n"
   ]
  },
  {
   "cell_type": "code",
   "execution_count": null,
   "id": "52",
   "metadata": {
    "tags": []
   },
   "outputs": [],
   "source": [
    "# change pd option to show all rows\n",
    "pd.set_option('display.max_rows', None)\n",
    "check_totals.head(25)"
   ]
  },
  {
   "cell_type": "code",
   "execution_count": null,
   "id": "53",
   "metadata": {
    "tags": []
   },
   "outputs": [],
   "source": [
    "visualisations.guage(check_totals)"
   ]
  },
  {
   "cell_type": "code",
   "execution_count": null,
   "id": "54",
   "metadata": {
    "tags": []
   },
   "outputs": [],
   "source": [
    "visualisations.thermometer(check_totals)"
   ]
  },
  {
   "cell_type": "markdown",
   "id": "55",
   "metadata": {
    "tags": []
   },
   "source": [
    "### Test Results"
   ]
  },
  {
   "cell_type": "code",
   "execution_count": null,
   "id": "56",
   "metadata": {
    "tags": []
   },
   "outputs": [],
   "source": [
    "results = ml_modeller.test_results(oppdateringsfil, aar)"
   ]
  },
  {
   "cell_type": "markdown",
   "id": "57",
   "metadata": {},
   "source": [
    "---------------------------------------------------------------------------------------------------------------------------------"
   ]
  },
  {
   "cell_type": "markdown",
   "id": "58",
   "metadata": {},
   "source": [
    "<div style=\"background-color: #F0F0F0; padding: 10px; font-size: 32px; font-weight: bold; text-align: center; border-radius: 10px;\">\n",
    "  <span style=\"color: green;\">Maskinlæringsløsninger for produksjonen av all statistikk i S423</span>\n",
    "</div>\n",
    "\n",
    "\n",
    "\n",
    "---------------------------------------------------------------------------------------------------------------------------------"
   ]
  },
  {
   "cell_type": "markdown",
   "id": "59",
   "metadata": {},
   "source": [
    "# Planen"
   ]
  },
  {
   "cell_type": "markdown",
   "id": "60",
   "metadata": {},
   "source": [
    "### Kortsiktig plan (innen 1 år eller tidligere):\n",
    "\n",
    "- Utvikle en algoritme basert på maskinlæring som automatisk kan oppdatere bedriftslisten for varehandel - inkludert foretak som ikke leverer noen data.\n",
    "- Fullstendig automatisere nøkkelindikatorer for næring 45.\n",
    "- Erstatte nærmeste nabo-funksjonene i Nøkkelindikatorproduksjonssystemet (Viggens program) med mer moderne/nøyaktige maskinlæringsverktøy.\n",
    "- Samarbeide med VoF og S422 for å samle nyttige data for å hjelpe med å trene modeller. (Har allerede hatt noen samtaler med folk fra disse avdelingene). Vi har nå muligheten til å produsere statistikk av mye høyere kvalitet basert på det de kan tilby oss.\n",
    "- Rulle ut løsningen til andre grupper i S423."
   ]
  },
  {
   "cell_type": "markdown",
   "id": "61",
   "metadata": {
    "tags": []
   },
   "source": [
    "#### Her er hvordan den tidlige algoritmen vil fungere.\n",
    "##### Gir gode resultater tidlig i prosessen - med enkle forbedringer som ennå kan gjøres. Dette bør gjøre det mulig å slippe å erstatte Madli."
   ]
  },
  {
   "cell_type": "code",
   "execution_count": null,
   "id": "62",
   "metadata": {
    "tags": []
   },
   "outputs": [],
   "source": [
    "# from IPython.display import Image\n",
    "\n",
    "# # Provide the path to your image file\n",
    "# image_path = \"flow chart.png\"\n",
    "\n",
    "# # Display the image\n",
    "# Image(filename=image_path)"
   ]
  },
  {
   "cell_type": "markdown",
   "id": "63",
   "metadata": {},
   "source": [
    "### Langsiktig plan (1-3 år)\n",
    "\n",
    "- Fullstendig overskrive Viggens program. Start helt fra bunnen av og bruk moderne løsninger. Spesielt bør vi bruke data fra andre avsnitt der det er mulig og bruke ML for å estimere variabler der vi tidligere bare brukte hardkodede funksjoner. Nevrale nettverk kan kanskje finne løsninger per næring.\n",
    "- Eliminere behovet for bedriftsfordeling av omsetning og driftskostnader. Vi kan fjerne det fra OKI-skjemaene.\n",
    "- Produsere mer/bedre statistikk. Vi vil ha mer tid, derfor kan vi publisere nye og mer interessante statistikker.\n",
    "\n",
    "\n",
    "\n",
    "- Etter min mening, til tross for at vi har startet et editeringsløsning-team, har vi en veldig reell mulighet til å ikke trenge et editeringsprodukt i S423. Vi kan kontrollere og rydde våre data ved hjelp av mer moderne løsninger."
   ]
  },
  {
   "cell_type": "markdown",
   "id": "64",
   "metadata": {},
   "source": [
    "# Koden så langt - KNN modell"
   ]
  },
  {
   "cell_type": "markdown",
   "id": "65",
   "metadata": {},
   "source": [
    "---------------------------------------------------------------------------------------------------------------------------------\n",
    "\n",
    "\n",
    "### Har startet med en KNN-modell. Gode resultater så langt. Vil også legge til flere funksjoner i treningsdatasettet - skal teste også andre modeller f.eks:\n",
    "\n",
    "- Decision Tree\n",
    "- Random Forest \n",
    "- Neural Networks\n",
    "\n",
    "---------------------------------------------------------------------------------------------------------------------------------"
   ]
  },
  {
   "cell_type": "markdown",
   "id": "66",
   "metadata": {},
   "source": [
    "### Kjør programmet\n",
    "##### Eksempel:\n",
    "##### Næring : 45.200\n",
    "\n",
    "- 879263662\n",
    "\n",
    "- K-nærmeste naboer blir funnet ved hjelp av en maskinlæringsalgoritme som forsøker å minimere feil ved å bruke geografisk avstand, omsetning, sysselsetting og oms per syss som variabler for å trene modellen.\n",
    "- Vi kan legge til og fjerne disse treningsvariablene som vi vil. Vi kan bruke flere verktøy for å teste hvilke variabler som er mest nyttige - også kan vi bruke nevrale nettverk for å finne de riktige variablene automatisk.\n",
    "- S422 har noen variabler som jeg tror vil være til stor hjelp."
   ]
  },
  {
   "cell_type": "markdown",
   "id": "67",
   "metadata": {
    "tags": []
   },
   "source": [
    "# Kartlegging av næringen"
   ]
  },
  {
   "cell_type": "code",
   "execution_count": null,
   "id": "68",
   "metadata": {
    "tags": []
   },
   "outputs": [],
   "source": [
    "n3 = '45.2'\n",
    "variable = 'oms'\n",
    "top_limit = 0.30\n",
    "# create a df called explore that is based on filtering the column 'n3' by the value 'n3'\n",
    "\n",
    "# drop duplicates\n",
    "\n",
    "explore = knn_data[knn_data[\"n3\"] == n3]\n",
    "explore = explore [['id',\n",
    "                    'nacef_5', \n",
    "                    'orgnr_n_1', \n",
    "                    variable, \n",
    "                    'b_sysselsetting_syss', \n",
    "                    'regtype', \n",
    "                    'x_koordinat',\n",
    "                    'y_koordinat', \n",
    "                    'rute_100m', \n",
    "                    'rute_1000m',\n",
    "                    'geometry',]]\n",
    "\n",
    "# filter explore so only the top 'top_limit' of values based on variable are included\n",
    "\n",
    "explore = explore[explore['x_koordinat'].notna()]\n",
    "\n",
    "explore = explore.sort_values(by=variable, ascending=False).head(int(top_limit * len(explore)))\n",
    "\n",
    "explore['geometry'] = explore['geometry'].apply(wkt.loads)\n",
    "\n",
    "explore = gpd.GeoDataFrame(explore, geometry='geometry')\n",
    "\n",
    "# if 'x_koordinat' is NaN then delete the row\n"
   ]
  },
  {
   "cell_type": "code",
   "execution_count": null,
   "id": "69",
   "metadata": {
    "tags": []
   },
   "outputs": [],
   "source": [
    "explore.head()"
   ]
  },
  {
   "cell_type": "code",
   "execution_count": null,
   "id": "70",
   "metadata": {
    "tags": []
   },
   "outputs": [],
   "source": [
    "explore.dtypes"
   ]
  },
  {
   "cell_type": "markdown",
   "id": "71",
   "metadata": {
    "tags": []
   },
   "source": [
    "# 2022 nøku data"
   ]
  },
  {
   "cell_type": "code",
   "execution_count": null,
   "id": "72",
   "metadata": {
    "tags": []
   },
   "outputs": [],
   "source": [
    "# sg.explore(merged_gdf, \"omsetning\")\n",
    "sg.explore(explore, 'oms')"
   ]
  },
  {
   "cell_type": "markdown",
   "id": "73",
   "metadata": {
    "tags": []
   },
   "source": [
    "# Kartlegging av foretaket"
   ]
  },
  {
   "cell_type": "code",
   "execution_count": null,
   "id": "74",
   "metadata": {
    "tags": []
   },
   "outputs": [],
   "source": [
    "sg.explore(enhet_df, \"omsetning\")"
   ]
  },
  {
   "cell_type": "markdown",
   "id": "75",
   "metadata": {
    "tags": []
   },
   "source": [
    "# Å finne nærmeste naboer"
   ]
  },
  {
   "cell_type": "code",
   "execution_count": null,
   "id": "76",
   "metadata": {
    "tags": []
   },
   "outputs": [],
   "source": [
    "sg.explore(naermeste_naboer, \"orgnr_foretak\")"
   ]
  },
  {
   "cell_type": "markdown",
   "id": "77",
   "metadata": {},
   "source": [
    "# Evaluering av resultater for reg_type 2 virksomheter"
   ]
  },
  {
   "cell_type": "code",
   "execution_count": null,
   "id": "78",
   "metadata": {
    "tags": []
   },
   "outputs": [],
   "source": [
    "# Calculate Mean Absolute Error (MAE) using the adjusted predictions\n",
    "mae_new_predicted = mean_absolute_error(\n",
    "    reg_type_02_df[\"actual_omsetning\"], reg_type_02_df[\"new_predicted\"]\n",
    ")\n",
    "r2_new_predicted = r2_score(\n",
    "    reg_type_02_df[\"actual_omsetning\"], reg_type_02_df[\"new_predicted\"]\n",
    ")\n",
    "print(\n",
    "    f\"Mean Absolute Error (MAE) / Gjennomsnittlig absolutt feil for reg_type 2: {mae_new_predicted}\"\n",
    ")\n",
    "print(f\"R-kvadrert (R2) for reg_type 2: {r2_new_predicted}\")"
   ]
  },
  {
   "cell_type": "markdown",
   "id": "79",
   "metadata": {
    "tags": []
   },
   "source": [
    "# # Evaluering av resultater for reg_type 2 virksomheter etter optimisere funksjon"
   ]
  },
  {
   "cell_type": "code",
   "execution_count": null,
   "id": "80",
   "metadata": {
    "tags": []
   },
   "outputs": [],
   "source": [
    "mae_new_predicted = mean_absolute_error(\n",
    "    adjusted_result_df[\"actual_omsetning\"], adjusted_result_df[\"new_predicted\"]\n",
    ")\n",
    "r2_new_predicted = r2_score(\n",
    "    adjusted_result_df[\"actual_omsetning\"], adjusted_result_df[\"new_predicted\"]\n",
    ")\n",
    "print(\n",
    "    f\"Mean Absolute Error (MAE)/ Gjennomsnittlig absolutt feil for hele næringen: {mae_new_predicted}\"\n",
    ")\n",
    "print(f\"R-squared (R2) for hele næringen: {r2_new_predicted}\")"
   ]
  },
  {
   "cell_type": "markdown",
   "id": "81",
   "metadata": {
    "tags": []
   },
   "source": [
    "# Resultater "
   ]
  },
  {
   "cell_type": "code",
   "execution_count": null,
   "id": "82",
   "metadata": {
    "tags": []
   },
   "outputs": [],
   "source": [
    "reg_type_02_df"
   ]
  },
  {
   "cell_type": "markdown",
   "id": "83",
   "metadata": {},
   "source": [
    "--------------------------------------------------------------------------------------------------------------------------------\n",
    "\n",
    "<div style=\"background-color: #F0F0F0; padding: 10px; font-size: 32px; font-weight: bold; text-align: center; border-radius: 10px;\">\n",
    "  <span style=\"color: green;\">Veien videre</span>\n",
    "</div>\n",
    "\n",
    "--------------------------------------------------------------------------------------------------------------------------------"
   ]
  },
  {
   "cell_type": "markdown",
   "id": "84",
   "metadata": {},
   "source": [
    "# Samarbeid med S422 og S424 og data fra avdeling 300"
   ]
  },
  {
   "cell_type": "markdown",
   "id": "85",
   "metadata": {},
   "source": [
    "#### Stort potensial her: \n",
    "\n",
    "- Jeg har snakket med S422, og de har transaksjonsdata på virksomhetsnivå. Dette ville ikke bare eliminere behovet for å be om bedriftsfordeling i OKI-skjemaet (først for varehandel OG tjenesteyting, men for alle sammen litt senere) , men det ville også være svært kraftige data å trene maskinlæringsmodeller på , noe som forbedrer deres nøyaktighet. De har også investeringsdata som ville være svært nyttige for vår avdeling.\n",
    "\n",
    "- Selv om vi ikke kan eliminere behovet for bedriftsfordeling i OKI-skjemaet for alle gruppene ennå, kan nok transaksjonsdataene vi har for industri/bygg osv. være svært kraftige for å trene opp en automatisk rettingmodell for disse næringer.\n",
    "\n",
    "- Jeg har fått tilgang til noen av datasettene hos VoF, som gjør det mulig for oss å kartlegge og koble våre statistikker med hvor virksomhetene befinner seg, ikke bare geografisk, men også i forhold til ting som reisetid, antall kjøretøy som passerer virksomheten osv.\n",
    "\n",
    "- Jeg har også brukt data som jeg har hentet fra avdeling 300 for å lage statistikk over befolkningstetthet og inntektstetthet for å kartlegge til våre virksomheter - jeg tror dette har potensial til å hjelpe oss med å trene svært nyttige modeller. Dette kan ses nedenfor:"
   ]
  },
  {
   "cell_type": "markdown",
   "id": "86",
   "metadata": {
    "tags": []
   },
   "source": [
    "### Legg til flere treningsvariabler"
   ]
  },
  {
   "cell_type": "code",
   "execution_count": null,
   "id": "87",
   "metadata": {
    "tags": []
   },
   "outputs": [],
   "source": [
    "kommuner = kommune.kommune()"
   ]
  },
  {
   "cell_type": "code",
   "execution_count": null,
   "id": "88",
   "metadata": {
    "tags": []
   },
   "outputs": [],
   "source": [
    "# m = sg.ThematicMap(enhet_df, kommuner, column=\"befolkning\", size=15)\n",
    "# m.title = \"Befolkning i kommunene\"\n",
    "# m.plot()\n",
    "\n",
    "m = sg.ThematicMap(kommuner, column=\"oms\", size=15)\n",
    "m.title = \"oms i kommunene\"\n",
    "m.plot()"
   ]
  },
  {
   "cell_type": "code",
   "execution_count": null,
   "id": "89",
   "metadata": {
    "tags": []
   },
   "outputs": [],
   "source": [
    "m = sg.ThematicMap(enhet_df, kommuner, column=\"inntekt\", size=15)\n",
    "m.title = \"Inntekt i kommunene\"\n",
    "m.plot()"
   ]
  },
  {
   "cell_type": "markdown",
   "id": "90",
   "metadata": {},
   "source": [
    "# Nettverksanalyse"
   ]
  },
  {
   "cell_type": "code",
   "execution_count": null,
   "id": "91",
   "metadata": {
    "tags": []
   },
   "outputs": [],
   "source": [
    "frequencies = networks.networks(aar)"
   ]
  },
  {
   "cell_type": "code",
   "execution_count": null,
   "id": "92",
   "metadata": {
    "tags": []
   },
   "outputs": [],
   "source": [
    "filtered_df = enhet_df[enhet_df[\"kommune\"].str.startswith(\"03\")]"
   ]
  },
  {
   "cell_type": "code",
   "execution_count": null,
   "id": "93",
   "metadata": {
    "tags": []
   },
   "outputs": [],
   "source": [
    "m = sg.ThematicMap(sg.buff(frequencies, 18), filtered_df, column=\"frequency\", size=15)\n",
    "m.black = True\n",
    "m.cmap = \"plasma\"  # fargepaletten\n",
    "m.title = \"Antall ganger hver vei ble brukt\"\n",
    "m.legend.title = \"Antall\"\n",
    "m.plot()"
   ]
  },
  {
   "cell_type": "markdown",
   "id": "94",
   "metadata": {
    "tags": []
   },
   "source": [
    "# Trender over flere tidsperioder\n",
    "\n",
    "Kan spørre Statbank API"
   ]
  },
  {
   "cell_type": "code",
   "execution_count": null,
   "id": "95",
   "metadata": {
    "tags": []
   },
   "outputs": [],
   "source": [
    "# Provide the path to your image file\n",
    "image_path = \"trend.png\"\n",
    "\n",
    "# Display the image\n",
    "Image(filename=image_path)"
   ]
  },
  {
   "cell_type": "markdown",
   "id": "96",
   "metadata": {
    "tags": []
   },
   "source": [
    "--------------------------------------------------------------------------------------------------------------------------------\n",
    "\n",
    "<div style=\"background-color: #F0F0F0; padding: 10px; font-size: 32px; font-weight: bold; text-align: center; border-radius: 10px;\">\n",
    "  <span style=\"color: green;\">Modellvalg</span>\n",
    "</div>\n",
    "\n",
    "--------------------------------------------------------------------------------------------------------------------------------"
   ]
  },
  {
   "cell_type": "markdown",
   "id": "97",
   "metadata": {},
   "source": [
    "- KNN (K- nærmeste naboer)\n",
    "- Beslutningstær (Decision Trees)\n",
    "- Tilfeldige skoger (Random Forests)\n",
    "- Nevrale nettverk (Neural Networks)\n"
   ]
  },
  {
   "cell_type": "markdown",
   "id": "98",
   "metadata": {},
   "source": [
    "# KNN- nearest neighbors"
   ]
  },
  {
   "cell_type": "markdown",
   "id": "99",
   "metadata": {
    "tags": []
   },
   "source": [
    "KNN, eller k-nærmeste naboer, er en type maskinlæringsmodell som brukes for klassifisering og regresjon. I KNN-algoritmen, for å gjøre en prediksjon for en ny datapunkt, finner algoritmen de 'k' nærmeste datapunktene i treningssettet og gjør en prediksjon basert på disse.\n",
    "\n",
    "Fordeler med KNN:\n",
    "1. Enkel å forstå og implementere.\n",
    "2. Modellen tilpasser seg automatisk i takt med at mer data blir tilgjengelig.\n",
    "3. Effektiv for datasett med et lite antall dimensjoner.\n",
    "\n",
    "Ulemper med KNN:\n",
    "1. Kan være treg for store datasett, da den krever beregning av avstanden til hvert punkt i treningssettet.\n",
    "2. Sensitiv for skalerte data og irrelevant funksjoner, noe som kan påvirke nøyaktigheten.\n",
    "3. Krever en god definisjon av hva som utgjør \"nærhet\", noe som kan være utfordrende i noen domener."
   ]
  },
  {
   "cell_type": "markdown",
   "id": "100",
   "metadata": {},
   "source": [
    "# Beslutningstær (Decision Trees)"
   ]
  },
  {
   "cell_type": "markdown",
   "id": "101",
   "metadata": {},
   "source": [
    "Beslutningstrær er en type maskinlæringsmodell som brukes for både klassifisering og regresjon. I beslutningstrær lages en modell som forutsier verdien av en målvariabel basert på enkle beslutningsregler utledet fra dataegenskapene.\n",
    "\n",
    "Fordeler med beslutningstrær:\n",
    "1. Enkle å forstå og visualisere, noe som gjør dem tilgjengelige for brukere med ikke-teknisk bakgrunn.\n",
    "2. Krever lite dataforberedelse sammenlignet med andre algoritmer.\n",
    "3. Kan håndtere både numeriske og kategoriske data.\n",
    "\n",
    "Ulemper med beslutningstrær:\n",
    "1. Kan lett overtilpasse seg dataene, noe som fører til dårlig generalisering på nye data.\n",
    "2. Er følsomme for små endringer i dataene, noe som kan føre til store endringer i strukturen på treet.\n",
    "3. Kan være partiske mot de funksjonene som har flere nivåer."
   ]
  },
  {
   "cell_type": "markdown",
   "id": "102",
   "metadata": {},
   "source": [
    "# Tilfeldige skoger (Random Forests)"
   ]
  },
  {
   "cell_type": "markdown",
   "id": "103",
   "metadata": {},
   "source": [
    "Tilfeldige skoger er en ensemble-læringsmetode for klassifisering, regresjon og andre oppgaver. Den opererer ved å konstruere en mengde beslutningstrær ved treningstidspunktet og utleder den endelige beslutningen basert på flertallet av trærne eller gjennomsnittet av deres prediksjoner.\n",
    "\n",
    "Fordeler med tilfeldige skoger:\n",
    "1. Reduserer risikoen for overtilpasning som er vanlig i enkeltstående beslutningstrær.\n",
    "2. Effektiv på store datasett og kan håndtere tusenvis av inngangsvariabler uten variabeldeletelse.\n",
    "3. Gir en indikasjon på hvilke funksjoner som er viktigst i klassifiseringen.\n",
    "\n",
    "Ulemper med tilfeldige skoger:\n",
    "1. Modellene kan bli ganske store og krever mye ressurser for både trening og prediksjon.\n",
    "2. Mindre intuitiv og vanskeligere å visualisere sammenlignet med enkeltstående beslutningstrær.\n",
    "3. Prediksjonene fra tilfeldige skoger er mindre tolkbare enn de fra beslutningstrær."
   ]
  },
  {
   "cell_type": "markdown",
   "id": "104",
   "metadata": {},
   "source": [
    "# Nevrale nettverk (Neural Network)"
   ]
  },
  {
   "cell_type": "markdown",
   "id": "105",
   "metadata": {},
   "source": [
    "Nevrale nettverk er en klasse av maskinlæringsalgoritmer som er inspirert av strukturen og funksjonene til menneskelige hjerner. De består av lag med knutepunkter (nevroner) som simulerer hvordan hjernen behandler og reagerer på inngående informasjon.\n",
    "\n",
    "Fordeler med nevrale nettverk:\n",
    "1. Evne til å lære og modellere ikke-lineære og komplekse relasjoner.\n",
    "2. Etter tilstrekkelig trening, er de ekstremt nøyaktige i prediksjoner.\n",
    "3. Fleksible til å tilpasse seg ulike typer data og kan håndtere både klassifisering og regresjonsoppgaver.\n",
    "\n",
    "Ulemper med nevrale nettverk:\n",
    "1. Krever store mengder data for å trene effektivt.\n",
    "2. Tidskrevende og ressursintensiv trening, spesielt for større nettverk.\n",
    "3. Modellens beslutninger er ofte ikke gjennomsiktige (kjent som \"black box\" problemet), noe som gjør det vanskelig å forstå hvorfor nettverket har tatt en bestemt beslutning."
   ]
  },
  {
   "cell_type": "markdown",
   "id": "106",
   "metadata": {},
   "source": [
    "# Modell Stacking"
   ]
  },
  {
   "cell_type": "markdown",
   "id": "107",
   "metadata": {},
   "source": [
    "Vi kan 'stack' modeller (bruke felere modeller samtidig). I AO programmet finner du et eksempel nederst. KNN og simple linear regresseion brukes (pre - optimisering) - og Mean Absolute Error gikk ned fra 79725 til  41684"
   ]
  },
  {
   "cell_type": "markdown",
   "id": "108",
   "metadata": {},
   "source": [
    "# Production RUN"
   ]
  },
  {
   "cell_type": "code",
   "execution_count": null,
   "id": "109",
   "metadata": {
    "tags": []
   },
   "outputs": [],
   "source": [
    "year = 2021\n",
    "fjor = year - 1\n",
    "limit = 0.6\n",
    "good_df, onlygoodoms, bad_df, merged_df = input_data.split_input_data(year, limit)"
   ]
  }
 ],
 "metadata": {
  "language_info": {
   "codemirror_mode": {
    "name": "ipython"
   },
   "file_extension": ".py",
   "mimetype": "text/x-python",
   "name": "python",
   "nbconvert_exporter": "python"
  }
 },
 "nbformat": 4,
 "nbformat_minor": 5
}
