{
 "cells": [
  {
   "cell_type": "markdown",
   "id": "0",
   "metadata": {
    "tags": []
   },
   "source": [
    "<div style=\"background-color: #ffffff; padding: 20px; font-size: 28px; font-weight: bold; text-align: center; border-radius: 10px; box-shadow: 0 4px 8px rgba(0, 0, 0, 0.1);\">\n",
    "  <span style=\"color: #4CAF50;\">Machine Learning Solutions for the Production of Structure Statistics</span>\n",
    "</div>\n",
    "\n",
    "---------------------------------------------------------------------------------------------------------------------------------"
   ]
  },
  {
   "cell_type": "markdown",
   "id": "1",
   "metadata": {
    "tags": []
   },
   "source": [
    "# Table of Contents\n",
    "\n",
    "<div style=\"background-color: #f9f9f9; border: 2px solid #4CAF50; border-radius: 10px; padding: 20px;\">\n",
    "\n",
    "### | [Imports](#imports) |\n",
    "<ul>\n",
    "  <li><strong>Import necessary libraries</strong></li>\n",
    "</ul>\n",
    "\n",
    "### | [Choose Year](#velg-aargang) |\n",
    "<ul>\n",
    "  <li><strong>Declare the year you wish to work with</strong></li>\n",
    "</ul>\n",
    "\n",
    "### | [Visualisation](#visualisering) |\n",
    "<ul>\n",
    "  <li><strong>Collect the edited 'delreg' data and choose a plot to view</strong></li>\n",
    "  <ul>\n",
    "    <li><a href=\"#1\">Plot for single industry</a></li>\n",
    "    <li><a href=\"#2\">Plot for every industry</a></li>\n",
    "    <li><a href=\"#3\">Plot based on 2 digit industry level</a></li>\n",
    "    <li><a href=\"#4\">Heatmap</a></li>\n",
    "    <li><a href=\"#5\">Interactive thematic kommune map</a></li>\n",
    "    <li><a href=\"#6\">Animated thematic kommune map</a></li>\n",
    "    <li><a href=\"#7\">Cumulative Histogram</a></li>\n",
    "    <li><a href=\"#8\">Linked Plots</a></li>\n",
    "    <li><a href=\"#9\">Bubble Plot</a></li>\n",
    "    <li><a href=\"#10\">Parallel Coordinates Plot</a></li>\n",
    "    <li><a href=\"#11\">Geographical Plot</a></li>\n",
    "    <li><a href=\"#12\">Animated barchart</a></li>\n",
    "    <li><a href=\"#13\">3D Scatterplot</a></li>\n",
    "  </ul>   \n",
    "</ul>\n",
    "\n",
    "### | [Dashboard](#dashboard) |\n",
    "<ul>\n",
    "  <li><strong>Run and Open in another browser tab</strong></li>\n",
    "</ul>\n",
    "\n",
    "### | [ML Evaluation](#ml) |\n",
    "<ul>\n",
    "  <li><strong>Regression Problems:</strong></li>\n",
    "  <ul>\n",
    "    <li><a href=\"#14\">XGBOOST</a></li>\n",
    "    <li><a href=\"#15\">Nearest Neighbors</a></li>\n",
    "    <li><a href=\"#16\">Neural Networks</a></li>\n",
    "  </ul>\n",
    "  <li><strong>Classification Problems:</strong></li>\n",
    "  <ul>\n",
    "    <li><a href=\"#17\">XGBOOST</a></li>\n",
    "    <li><a href=\"#18\">Nearest Neighbors</a></li>\n",
    "  </ul>\n",
    "</ul>\n",
    "\n",
    "### | [Update File](#oppdateringsfil) |\n",
    "<ul>\n",
    "  <li><strong>Run update file for chosen year. Can compare performance if looking at previous year</strong></li>\n",
    "   <ul>\n",
    "    <li><a href=\"#19\">Test Restults</a></li>\n",
    "    <li><a href=\"#20\">Historic Test Results</a></li>\n",
    "  </ul>\n",
    "</ul>\n",
    "\n",
    "### | [Moving Forward](#future) |\n",
    "<ul>\n",
    "  <li><strong>What are the current challenges/opportunities facing us in the future</strong></li>\n",
    "</ul>\n",
    "</div>\n"
   ]
  },
  {
   "cell_type": "markdown",
   "id": "2",
   "metadata": {
    "tags": []
   },
   "source": [
    "<a id='imports'></a>\n",
    "# | [Imports](#imports) |"
   ]
  },
  {
   "cell_type": "code",
   "execution_count": null,
   "id": "3",
   "metadata": {
    "tags": []
   },
   "outputs": [],
   "source": [
    "from imports import *"
   ]
  },
  {
   "cell_type": "markdown",
   "id": "4",
   "metadata": {
    "tags": []
   },
   "source": [
    "<a id='velg_aargang'></a>\n",
    "# | [Choose Year](##velg_aargang) |"
   ]
  },
  {
   "cell_type": "code",
   "execution_count": null,
   "id": "5",
   "metadata": {
    "tags": []
   },
   "outputs": [],
   "source": [
    "# skriv årgang\n",
    "aar = 2021"
   ]
  },
  {
   "cell_type": "markdown",
   "id": "6",
   "metadata": {
    "tags": []
   },
   "source": [
    "<a id='visualisering'></a>\n",
    "# | [Visualisation](#visualisering) |"
   ]
  },
  {
   "cell_type": "code",
   "execution_count": null,
   "id": "7",
   "metadata": {
    "tags": []
   },
   "outputs": [],
   "source": [
    "# henter data for visualisering\n",
    "\n",
    "timeseries_knn_kommune, histogram_data, knn_data, timeseries_knn_agg, koordinates = visualisations.gather_visualisation_data(aar)"
   ]
  },
  {
   "cell_type": "markdown",
   "id": "8",
   "metadata": {
    "tags": []
   },
   "source": [
    "<a id='1'></a>\n",
    "#### Plot for single industry"
   ]
  },
  {
   "cell_type": "code",
   "execution_count": null,
   "id": "9",
   "metadata": {
    "tags": []
   },
   "outputs": [],
   "source": [
    "visualisations.plots_time(timeseries_knn_agg)"
   ]
  },
  {
   "cell_type": "markdown",
   "id": "10",
   "metadata": {},
   "source": [
    "<a id='2'></a>\n",
    "#### Plot for every industry"
   ]
  },
  {
   "cell_type": "code",
   "execution_count": null,
   "id": "11",
   "metadata": {
    "tags": []
   },
   "outputs": [],
   "source": [
    "visualisations.plot_all_time(timeseries_knn_agg)"
   ]
  },
  {
   "cell_type": "markdown",
   "id": "12",
   "metadata": {},
   "source": [
    "<a id='3'></a>\n",
    "#### Plot based on 2 digit industry level"
   ]
  },
  {
   "cell_type": "code",
   "execution_count": null,
   "id": "13",
   "metadata": {
    "tags": []
   },
   "outputs": [],
   "source": [
    "visualisations.plot_n2(timeseries_knn_agg)"
   ]
  },
  {
   "cell_type": "markdown",
   "id": "14",
   "metadata": {},
   "source": [
    "<a id='4'></a>\n",
    "#### Heatmap"
   ]
  },
  {
   "cell_type": "code",
   "execution_count": null,
   "id": "15",
   "metadata": {
    "tags": []
   },
   "outputs": [],
   "source": [
    "visualisations.heatmap(timeseries_knn_agg)"
   ]
  },
  {
   "cell_type": "markdown",
   "id": "16",
   "metadata": {},
   "source": [
    "<a id='5'></a>\n",
    "#### Interactive thematic kommune map"
   ]
  },
  {
   "cell_type": "code",
   "execution_count": null,
   "id": "17",
   "metadata": {
    "tags": []
   },
   "outputs": [],
   "source": [
    "visualisations.thematic_kommune(timeseries_knn_kommune)"
   ]
  },
  {
   "cell_type": "markdown",
   "id": "18",
   "metadata": {
    "tags": []
   },
   "source": [
    "<a id='6'></a>\n",
    "#### Animated thematic kommune map"
   ]
  },
  {
   "cell_type": "code",
   "execution_count": null,
   "id": "19",
   "metadata": {
    "tags": []
   },
   "outputs": [],
   "source": [
    "visualisations.animated_thematic_kommune(timeseries_knn_kommune)"
   ]
  },
  {
   "cell_type": "markdown",
   "id": "20",
   "metadata": {},
   "source": [
    "<a id='7'></a>\n",
    "#### Cumulative Histogram"
   ]
  },
  {
   "cell_type": "code",
   "execution_count": null,
   "id": "21",
   "metadata": {
    "tags": []
   },
   "outputs": [],
   "source": [
    "visualisations.cumulative_histogram(histogram_data)"
   ]
  },
  {
   "cell_type": "markdown",
   "id": "22",
   "metadata": {},
   "source": [
    "<a id='8'></a>\n",
    "#### Linked Plots"
   ]
  },
  {
   "cell_type": "code",
   "execution_count": null,
   "id": "23",
   "metadata": {
    "tags": []
   },
   "outputs": [],
   "source": [
    "visualisations.linked_plots(timeseries_knn_agg)"
   ]
  },
  {
   "cell_type": "markdown",
   "id": "24",
   "metadata": {
    "tags": []
   },
   "source": [
    "<a id='9'></a>\n",
    "#### Bubble Plot"
   ]
  },
  {
   "cell_type": "code",
   "execution_count": null,
   "id": "25",
   "metadata": {
    "tags": []
   },
   "outputs": [],
   "source": [
    "visualisations.bubble_plot(timeseries_knn_kommune)"
   ]
  },
  {
   "cell_type": "markdown",
   "id": "26",
   "metadata": {},
   "source": [
    "<a id='10'></a>\n",
    "#### Parallel Coordinates Plot"
   ]
  },
  {
   "cell_type": "code",
   "execution_count": null,
   "id": "27",
   "metadata": {
    "tags": []
   },
   "outputs": [],
   "source": [
    "visualisations.parallel_coordinates(timeseries_knn_agg)"
   ]
  },
  {
   "cell_type": "markdown",
   "id": "28",
   "metadata": {},
   "source": [
    "<a id='11'></a>\n",
    "#### Geographical Plot"
   ]
  },
  {
   "cell_type": "code",
   "execution_count": null,
   "id": "29",
   "metadata": {
    "tags": []
   },
   "outputs": [],
   "source": [
    "visualisations.geomapping(koordinates)"
   ]
  },
  {
   "cell_type": "markdown",
   "id": "30",
   "metadata": {},
   "source": [
    "<a id='12'></a>\n",
    "#### Animated barchart"
   ]
  },
  {
   "cell_type": "code",
   "execution_count": null,
   "id": "31",
   "metadata": {
    "tags": []
   },
   "outputs": [],
   "source": [
    "visualisations.animated_barchart(timeseries_knn_agg)"
   ]
  },
  {
   "cell_type": "markdown",
   "id": "32",
   "metadata": {},
   "source": [
    "<a id='13'></a>\n",
    "#### 3D Scatterplot"
   ]
  },
  {
   "cell_type": "code",
   "execution_count": null,
   "id": "33",
   "metadata": {
    "tags": []
   },
   "outputs": [],
   "source": [
    "visualisations.scatter_3d(timeseries_knn_agg)"
   ]
  },
  {
   "cell_type": "markdown",
   "id": "34",
   "metadata": {},
   "source": [
    "# <a id='dashboard'></a>\n",
    "# | [Dashboard](#dashboard) |"
   ]
  },
  {
   "cell_type": "code",
   "execution_count": null,
   "id": "35",
   "metadata": {
    "tags": []
   },
   "outputs": [],
   "source": [
    "app, port, service_prefix, domain = dash_application.run_dash_app(aar, timeseries_knn_kommune, histogram_data, knn_data, timeseries_knn_agg, koordinates)\n",
    "\n",
    "if __name__ == \"__main__\":\n",
    "    app.run(debug=True, port=port, jupyter_server_url=domain, jupyter_mode=\"tab\", use_reloader=False)"
   ]
  },
  {
   "cell_type": "markdown",
   "id": "36",
   "metadata": {},
   "source": [
    "# <a id='ml'></a>\n",
    "# | [ML Evaluation](#ml) |"
   ]
  },
  {
   "cell_type": "code",
   "execution_count": null,
   "id": "37",
   "metadata": {
    "tags": []
   },
   "outputs": [],
   "source": [
    "# Hente data\n",
    "\n",
    "training_data, imputatable_df, foretak_pub = ml_modeller.hente_training_data()"
   ]
  },
  {
   "cell_type": "markdown",
   "id": "38",
   "metadata": {
    "tags": []
   },
   "source": [
    "# <a id='regression-problemer'></a>\n",
    "### [Regression Problemer](#regression-problemer)"
   ]
  },
  {
   "cell_type": "markdown",
   "id": "39",
   "metadata": {},
   "source": [
    "# <a id='14'></a>\n",
    "#### [XG BOOST](#14)"
   ]
  },
  {
   "cell_type": "code",
   "execution_count": null,
   "id": "40",
   "metadata": {
    "tags": []
   },
   "outputs": [],
   "source": [
    "# Choose Scaler (StandardScaler, MinMaxScaler, RobustScaler)\n",
    "scaler = RobustScaler()\n",
    "\n",
    "# Turn off GridSearch for faster run time\n",
    "GridSearch=False\n",
    "\n",
    "results = ml_modeller.xgboost_model(training_data, scaler, imputatable_df, GridSearch=GridSearch)\n",
    "\n",
    "# Best result for GridSearch so far:"
   ]
  },
  {
   "cell_type": "markdown",
   "id": "41",
   "metadata": {},
   "source": [
    "# <a id='15'></a>\n",
    "#### [Nearest Neighbors](#15)"
   ]
  },
  {
   "cell_type": "code",
   "execution_count": null,
   "id": "42",
   "metadata": {
    "tags": []
   },
   "outputs": [],
   "source": [
    "# velg Scaler (StandardScaler, MinMaxScaler, RobustScaler)\n",
    "scaler = RobustScaler()\n",
    "\n",
    "# Turn off GridSearch for faster run time\n",
    "GridSearch=False\n",
    "\n",
    "results = ml_modeller.knn_model(training_data, scaler, imputatable_df, GridSearch=GridSearch)\n",
    "\n",
    "# Best result for GridSearch so far:\n",
    "# Best parameters found by GridSearch: {'n_neighbors': 2}\n"
   ]
  },
  {
   "cell_type": "markdown",
   "id": "43",
   "metadata": {},
   "source": [
    "# <a id='16'></a>\n",
    "#### [Neural Networks](#16)"
   ]
  },
  {
   "cell_type": "code",
   "execution_count": null,
   "id": "44",
   "metadata": {
    "tags": []
   },
   "outputs": [],
   "source": [
    "# choose Scaler (StandardScaler, MinMaxScaler, RobustScaler)\n",
    "scaler = RobustScaler()\n",
    "\n",
    "# choose epoch number and batch size (more = faster, less = possibly better learning/convergence ) If using GridSearch these numbers wont matter.\n",
    "# GridSearch will take a long time to run. \n",
    "epochs_number = 200\n",
    "batch_size = 500\n",
    "GridSearch=False\n",
    "\n",
    "# results = ml_modeller.nn_model_1(training_data, scaler, epochs_number, batch_size, imputatable_df, GridSearch=GridSearch)\n",
    "results = ml_modeller.nn_model_2(training_data, scaler, epochs_number, batch_size, imputatable_df)\n",
    "\n"
   ]
  },
  {
   "cell_type": "markdown",
   "id": "45",
   "metadata": {
    "tags": []
   },
   "source": [
    "# <a id='klassifikasjon-problemer'></a>\n",
    "### [Classification Problems](#klassifikasjon-problemer)"
   ]
  },
  {
   "cell_type": "markdown",
   "id": "46",
   "metadata": {
    "tags": []
   },
   "source": [
    "<a id='17'></a>\n",
    "#### [XGBOOST](#17)"
   ]
  },
  {
   "cell_type": "code",
   "execution_count": null,
   "id": "47",
   "metadata": {
    "tags": []
   },
   "outputs": [],
   "source": [
    "results = ml_modeller.xgboost_n3_klass(foretak_pub)"
   ]
  },
  {
   "cell_type": "markdown",
   "id": "48",
   "metadata": {
    "tags": []
   },
   "source": [
    "<a id='18'></a>\n",
    "#### [Nearest Neighbors](#18)"
   ]
  },
  {
   "cell_type": "code",
   "execution_count": null,
   "id": "49",
   "metadata": {
    "tags": []
   },
   "outputs": [],
   "source": [
    "results = ml_modeller.knn_n3_klass(foretak_pub)"
   ]
  },
  {
   "cell_type": "markdown",
   "id": "50",
   "metadata": {
    "tags": []
   },
   "source": [
    "# <a id='oppdateringsfil'></a>\n",
    "# | [Update File](#oppdateringsfil) |"
   ]
  },
  {
   "cell_type": "code",
   "execution_count": null,
   "id": "51",
   "metadata": {
    "tags": []
   },
   "outputs": [],
   "source": [
    "year = 2021\n",
    "\n",
    "model = 'knn_model' # Choose between knn_model, xgboost_model or nn_model\n",
    "rate = 0.65 # rate will determine which survey responses are sorted into a good/bad df. The bad df will be updated/corrected using machine learning, while the good_df will go through more tradional cleaning\n",
    "scaler = RobustScaler() # Choose between StandardScaler(), MinMaxScaler(), RobustScaler(), etc\n",
    "GridSearch=False # Choose between StandardScaler, MinMaxScaler, RobustScaler, etc\n",
    "\n",
    "update_file, timeseries_knn_agg, timeseries_knn__kommune_agg, check_totals, check_manually = oppdateringsfil.create_bedrift_fil(year, model, rate, scaler, GridSearch=GridSearch)\n",
    "\n"
   ]
  },
  {
   "cell_type": "markdown",
   "id": "52",
   "metadata": {
    "tags": []
   },
   "source": [
    "# <a id='19'></a>\n",
    "### Test Results"
   ]
  },
  {
   "cell_type": "code",
   "execution_count": null,
   "id": "53",
   "metadata": {
    "tags": []
   },
   "outputs": [],
   "source": [
    "# change pd option to show all rows\n",
    "pd.set_option('display.max_rows', None)\n",
    "check_totals.head(25)"
   ]
  },
  {
   "cell_type": "code",
   "execution_count": null,
   "id": "54",
   "metadata": {
    "tags": []
   },
   "outputs": [],
   "source": [
    "visualisations.guage(check_totals)"
   ]
  },
  {
   "cell_type": "code",
   "execution_count": null,
   "id": "55",
   "metadata": {
    "tags": []
   },
   "outputs": [],
   "source": [
    "visualisations.thermometer(check_totals)"
   ]
  },
  {
   "cell_type": "code",
   "execution_count": null,
   "id": "56",
   "metadata": {
    "tags": []
   },
   "outputs": [],
   "source": [
    "results = ml_modeller.test_results(update_file, aar)"
   ]
  },
  {
   "cell_type": "markdown",
   "id": "57",
   "metadata": {},
   "source": [
    "---------------------------------------------------------------------------------------------------------------------------------"
   ]
  },
  {
   "cell_type": "markdown",
   "id": "58",
   "metadata": {},
   "source": [
    "# <a id='20'></a>\n",
    "### Historic Results:"
   ]
  },
  {
   "cell_type": "markdown",
   "id": "59",
   "metadata": {},
   "source": [
    "#### 2021 XGBOOST:\n",
    "\n",
    "- Mean Absolute Error for entire delreg: 8432.291199426325\n",
    "- R² Score for entire delreg: 0.9606052910127973\n",
    "-----------------------------------\n",
    "- Mean Absolute Error for reg_type 02: 7087.746839112336\n",
    "- R² Score for reg_type 02: 0.9232697374725767\n",
    "\n",
    "\n",
    "#### 2021 K-Nearest Neighbors:\n",
    "\n",
    "- Mean Absolute Error for entire delreg: 6559.171895864407\n",
    "- R² Score for entire delreg: 0.982181406248118\n",
    "-----------------------------------\n",
    "- Mean Absolute Error for reg_type 02: 5615.106485704415\n",
    "- R² Score for reg_type 02: 0.966718048747369\n",
    "\n",
    "#### 2021 Neural Network:\n",
    "\n",
    "Mean Absolute Error for entire delreg: 6728.031814063407\n",
    "R² Score for entire delreg: 0.9820746908179295\n",
    "-----------------------------------\n",
    "Mean Absolute Error for reg_type 02: 5719.670829491291\n",
    "R² Score for reg_type 02: 0.9665182851658081"
   ]
  },
  {
   "cell_type": "markdown",
   "id": "60",
   "metadata": {},
   "source": [
    "--------------------------------------------------------------------------------------------------------------------------------\n",
    "# <a id='future'></a>\n",
    "<div style=\"background-color: #ffffff; padding: 20px; font-size: 28px; font-weight: bold; text-align: center; border-radius: 10px; box-shadow: 0 4px 8px rgba(0, 0, 0, 0.1);\">\n",
    "  <span style=\"color: #4CAF50;\">Moving Forward.....</span>\n",
    "</div>\n",
    "\n",
    "---------------------------------------------------------------------------------------------------------------------------------\n",
    "--------------------------------------------------------------------------------------------------------------------------------"
   ]
  },
  {
   "cell_type": "markdown",
   "id": "61",
   "metadata": {},
   "source": [
    "# Co-operation with other sections"
   ]
  },
  {
   "cell_type": "markdown",
   "id": "62",
   "metadata": {},
   "source": [
    "#### A lot of potential here:\n",
    "\n",
    "- S422 Has transaction data on a virksomhet level (but only international transactions and credit card data). This needs to be explored. There will be challenges but could be very useful. \n",
    "\n",
    "- The naring classification machine learning algorithms need to be improved and explored. I have only used financial data so far - with lack luster results, but there is a lot of potential to use 'yrke' data as well as implement more feature engineering. We can get this data from VoF\n",
    "\n",
    "- It could be beneficial to create specific machine learning algorithms for each industry. For example 47.3 could benefit from road/highway network analyis (Data from SSB's SSIG package). We are able to calculate things like distance to nearest public transport, how often a road is used, distance via road to nearest gas station etc. This could be very useful but this would take a lot of resources - perhaps everyone should devlop their own machine learning algorithms for the industries they have responsibility for. \n",
    "\n",
    "#### Things left to do:\n",
    "\n",
    "- controls for industrial variables are nearly finished, just a few bugs that need fixing. \n",
    "- the GridSearch for the Neural Network model is computationally heavy and will take a long time to run - but it may be worth running one time and saving the results for future runs. "
   ]
  },
  {
   "cell_type": "markdown",
   "id": "63",
   "metadata": {},
   "source": [
    "# Network Analysis"
   ]
  },
  {
   "cell_type": "code",
   "execution_count": null,
   "id": "64",
   "metadata": {
    "tags": []
   },
   "outputs": [],
   "source": [
    "import knn\n",
    "import networks\n",
    "\n",
    "# Add enhet number here\n",
    "enhet = ''\n",
    "\n",
    "# Collect locations for a single enhet\n",
    "enhet_df, _, _, _, _ = knn.knn(aar, enhet)\n",
    "\n",
    "# Collect road frequencies data\n",
    "frequencies = networks.networks(aar)\n",
    "\n",
    "# Filter the dataset as the networks dataset is very large and is computationally heavy\n",
    "filtered_df = enhet_df[enhet_df[\"kommune\"].str.startswith(\"03\")]"
   ]
  },
  {
   "cell_type": "code",
   "execution_count": null,
   "id": "65",
   "metadata": {
    "tags": []
   },
   "outputs": [],
   "source": [
    "# Available colormaps in sgis\n",
    "colormaps = [\"viridis\", \"inferno\", \"magma\", \"cividis\", \"coolwarm\", \"Spectral\", \"RdYlBu\", \"plasma\"]\n",
    "\n",
    "m = sg.ThematicMap(sg.buff(frequencies, 18), filtered_df, column=\"frequency\", size=15)\n",
    "m.black = True\n",
    "m.cmap = \"plasma\"  # You can change this to any of the colormaps listed above\n",
    "m.title = \"How often each road has been used\"\n",
    "m.legend.title = \"Count\"\n",
    "m.plot()"
   ]
  },
  {
   "cell_type": "code",
   "execution_count": null,
   "id": "66",
   "metadata": {},
   "outputs": [],
   "source": []
  },
  {
   "cell_type": "code",
   "execution_count": null,
   "id": "67",
   "metadata": {},
   "outputs": [],
   "source": []
  }
 ],
 "metadata": {
  "language_info": {
   "codemirror_mode": {
    "name": "ipython"
   },
   "file_extension": ".py",
   "mimetype": "text/x-python",
   "name": "python",
   "nbconvert_exporter": "python"
  }
 },
 "nbformat": 4,
 "nbformat_minor": 5
}
