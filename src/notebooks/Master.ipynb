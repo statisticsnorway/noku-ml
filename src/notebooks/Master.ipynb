{
 "cells": [
  {
   "cell_type": "code",
   "execution_count": null,
   "id": "47307387-97e7-4cdd-96e5-9cdb7496f52a",
   "metadata": {
    "tags": []
   },
   "outputs": [],
   "source": [
    "import pandas as pd\n",
    "from sklearn.ensemble import IsolationForest\n",
    "from sklearn.cluster import DBSCAN\n",
    "import pyarrow as pa\n",
    "import pyarrow.parquet as pq\n",
    "import gcsfs\n",
    "import getpass\n",
    "import os\n",
    "from sklearn.model_selection import train_test_split\n",
    "from sklearn.linear_model import LinearRegression\n",
    "from sklearn.preprocessing import StandardScaler, OneHotEncoder\n",
    "from sklearn.compose import ColumnTransformer\n",
    "from sklearn.pipeline import Pipeline\n",
    "from sklearn.impute import SimpleImputer\n",
    "import geopandas as gpd\n",
    "import sgis as sg\n",
    "import dapla as dp\n",
    "import datetime\n",
    "from dapla.auth import AuthClient\n",
    "from dapla import FileClient\n",
    "from sklearn.metrics import mean_absolute_error, r2_score\n",
    "\n",
    "import sys\n",
    "\n",
    "sys.path.append(\"../functions\")\n",
    "\n",
    "import knn\n",
    "\n",
    "fs = FileClient.get_gcs_file_system()\n",
    "import numpy as np\n",
    "\n",
    "\n",
    "import warnings\n",
    "\n",
    "warnings.filterwarnings(\"ignore\")"
   ]
  },
  {
   "cell_type": "markdown",
   "id": "b2ee6ffe-f5a9-41ff-bab6-056b99170fc0",
   "metadata": {},
   "source": [
    "# Strategien"
   ]
  },
  {
   "cell_type": "markdown",
   "id": "55bf0b4b-9609-4eb1-a690-f2ea33fdd829",
   "metadata": {},
   "source": []
  },
  {
   "cell_type": "markdown",
   "id": "dff3c50a-ec01-494f-bb41-3d180b287d7e",
   "metadata": {},
   "source": [
    "# Brukerinput"
   ]
  },
  {
   "cell_type": "markdown",
   "id": "6391a177-5acc-4f54-8388-b518e80dfc1d",
   "metadata": {},
   "source": [
    "#### Eksempel:\n",
    "###### 1\n",
    "879263662\n"
   ]
  },
  {
   "cell_type": "code",
   "execution_count": null,
   "id": "5f7633cc-a1e8-4677-a0ca-1f330c3e0621",
   "metadata": {
    "tags": []
   },
   "outputs": [],
   "source": [
    "aar = input(\"Årgang: \")\n",
    "\n",
    "enhet = input(\"orgnr_foretak #: \")"
   ]
  },
  {
   "cell_type": "code",
   "execution_count": null,
   "id": "32aa1c96-babd-4934-aee4-8cbc314e3ac3",
   "metadata": {
    "tags": []
   },
   "outputs": [],
   "source": [
    "enhet_df, merged_gdf, reg_type_02_df, adjusted_result_df, naermeste_naboer = knn.knn(\n",
    "    aar, enhet\n",
    ")"
   ]
  },
  {
   "cell_type": "markdown",
   "id": "4281488c-3c0f-4681-8eb5-a67c0e070018",
   "metadata": {
    "tags": []
   },
   "source": [
    "# Kartlegging av næringen"
   ]
  },
  {
   "cell_type": "code",
   "execution_count": null,
   "id": "1abaec37-1ffb-4104-916e-19dda7d613ba",
   "metadata": {
    "tags": []
   },
   "outputs": [],
   "source": [
    "sg.explore(merged_gdf, \"omsetning\")"
   ]
  },
  {
   "cell_type": "markdown",
   "id": "1f258342-43e1-4f03-a266-769b15985490",
   "metadata": {
    "tags": []
   },
   "source": [
    "# Kartlegging av foretaket"
   ]
  },
  {
   "cell_type": "code",
   "execution_count": null,
   "id": "d27bbd2f-ee1d-406a-95bf-af45cb906020",
   "metadata": {
    "tags": []
   },
   "outputs": [],
   "source": [
    "sg.explore(enhet_df, \"omsetning\")"
   ]
  },
  {
   "cell_type": "markdown",
   "id": "94ea9b84-b4cb-4c84-a463-699b09ade6b9",
   "metadata": {
    "tags": []
   },
   "source": [
    "# Å finne nærmeste naboer"
   ]
  },
  {
   "cell_type": "code",
   "execution_count": null,
   "id": "a84af855-8136-466a-beb4-6f1c5d427875",
   "metadata": {
    "tags": []
   },
   "outputs": [],
   "source": [
    "sg.explore(naermeste_naboer, \"orgnr_foretak\")"
   ]
  },
  {
   "cell_type": "markdown",
   "id": "c38aa989-d640-4be9-bef7-61344b25bc06",
   "metadata": {},
   "source": [
    "# Evaluering av resultater for reg_type 2 virksomheter"
   ]
  },
  {
   "cell_type": "code",
   "execution_count": null,
   "id": "ccc1dddd-67b2-477c-8dea-6b96b90767f6",
   "metadata": {
    "tags": []
   },
   "outputs": [],
   "source": [
    "# Calculate Mean Absolute Error (MAE) using the adjusted predictions\n",
    "mae_new_predicted = mean_absolute_error(\n",
    "    reg_type_02_df[\"actual_omsetning\"], reg_type_02_df[\"new_predicted\"]\n",
    ")\n",
    "r2_new_predicted = r2_score(\n",
    "    reg_type_02_df[\"actual_omsetning\"], reg_type_02_df[\"new_predicted\"]\n",
    ")\n",
    "print(\n",
    "    f\"Mean Absolute Error (MAE) / Gjennomsnittlig absolutt feil for reg_type 2: {mae_new_predicted}\"\n",
    ")\n",
    "print(f\"R-kvadrert (R2) for reg_type 2: {r2_new_predicted}\")"
   ]
  },
  {
   "cell_type": "markdown",
   "id": "f2419ed2-c159-4d4d-8690-1ab9172d47f2",
   "metadata": {
    "tags": []
   },
   "source": [
    "# # Evaluering av resultater for reg_type 2 virksomheter"
   ]
  },
  {
   "cell_type": "code",
   "execution_count": null,
   "id": "3fe42be2-2c4a-42fb-9719-27d9b9715f98",
   "metadata": {
    "tags": []
   },
   "outputs": [],
   "source": [
    "mae_new_predicted = mean_absolute_error(\n",
    "    adjusted_result_df[\"actual_omsetning\"], adjusted_result_df[\"new_predicted\"]\n",
    ")\n",
    "r2_new_predicted = r2_score(\n",
    "    adjusted_result_df[\"actual_omsetning\"], adjusted_result_df[\"new_predicted\"]\n",
    ")\n",
    "print(\n",
    "    f\"Mean Absolute Error (MAE)/ Gjennomsnittlig absolutt feil for hele næringen: {mae_new_predicted}\"\n",
    ")\n",
    "print(f\"R-squared (R2) for hele næringen: {r2_new_predicted}\")"
   ]
  },
  {
   "cell_type": "markdown",
   "id": "e7b82c31-1bd2-473a-ae85-93bcb83d8add",
   "metadata": {
    "tags": []
   },
   "source": [
    "# Resultater "
   ]
  },
  {
   "cell_type": "code",
   "execution_count": null,
   "id": "ae5b4a30-1e00-480a-9eb6-c6b4555f4d35",
   "metadata": {
    "tags": []
   },
   "outputs": [],
   "source": [
    "reg_type_02_df"
   ]
  },
  {
   "cell_type": "code",
   "execution_count": null,
   "id": "cafe651d-b828-4ff9-89fc-1261f47fe303",
   "metadata": {
    "tags": []
   },
   "outputs": [],
   "source": [
    "# need to make sure the unit is in the df unless it destroys the results too much\n",
    "\n",
    "enhet_resultater = reg_type_02_df[reg_type_02_df[\"orgnr_foretak\"] == enhet]\n",
    "enhet_resultater"
   ]
  },
  {
   "cell_type": "markdown",
   "id": "6ba458fe-1fcd-474c-8f0c-1959240c022a",
   "metadata": {},
   "source": [
    "# Veien videre"
   ]
  },
  {
   "cell_type": "markdown",
   "id": "7a654bcb-8101-479b-8f55-a0fa7456e7ce",
   "metadata": {},
   "source": [
    "#### Mean Absolute Error\n",
    "Mean Absolute Error (MAE) for reg_type using new_predicted: 79725.23541605708\n",
    "#### R-squared\n",
    "R-squared (R2) for reg_type 2 using new_predicted: 0.8070814476089739"
   ]
  },
  {
   "cell_type": "markdown",
   "id": "b8bc50be-20e7-4d7f-af04-6653b533b82b",
   "metadata": {},
   "source": [
    "#### Mean Absolute Error\n",
    "Mean Absolute Error (MAE) for the whole naring new_predicted: 17144.15600713256\n",
    "#### R-squared\n",
    "R-squared (R2) for the whole naring using new_predicted: 0.8580718457675715"
   ]
  },
  {
   "cell_type": "code",
   "execution_count": null,
   "id": "1ac7b8db-c199-4ded-a554-67fbf998ed11",
   "metadata": {
    "tags": []
   },
   "outputs": [],
   "source": [
    "# Improving the model"
   ]
  },
  {
   "cell_type": "code",
   "execution_count": null,
   "id": "e99ff392-d83b-418d-94ce-bff39dc4d82c",
   "metadata": {
    "tags": []
   },
   "outputs": [],
   "source": [
    "# Adding more features"
   ]
  },
  {
   "cell_type": "code",
   "execution_count": null,
   "id": "9a936c43-1dfc-4b71-a610-7f8e9864612e",
   "metadata": {
    "tags": []
   },
   "outputs": [],
   "source": [
    "noku - ml / src / notebooks / Befolkning.xlsx"
   ]
  },
  {
   "cell_type": "code",
   "execution_count": null,
   "id": "a74ffbcc-d972-442d-a6b5-49498e9d36ca",
   "metadata": {
    "tags": []
   },
   "outputs": [],
   "source": [
    "testdatasti = \"ssb-prod-dapla-felles-data-delt/GIS/testdata\"\n",
    "kommuner = sg.read_geopandas(f\"{testdatasti}/enkle_kommuner.parquet\")\n",
    "pop = pd.read_excel(\"Befolkning.xlsx\")\n",
    "inntekt = pd.read_excel(\"inntekt.xlsx\")\n",
    "pop[\"KOMMUNENR\"] = pop[\"KOMMUNENR\"].astype(\"object\")\n",
    "inntekt[\"KOMMUNENR\"] = inntekt[\"KOMMUNENR\"].astype(\"object\")\n",
    "\n",
    "kommuner[\"KOMMUNENR\"] = kommuner[\"KOMMUNENR\"].str.replace('\"', \"\").astype(str)\n",
    "pop[\"KOMMUNENR\"] = pop[\"KOMMUNENR\"].astype(str)\n",
    "pop[\"KOMMUNENR\"] = pop[\"KOMMUNENR\"].astype(str).str.zfill(4)\n",
    "\n",
    "inntekt[\"KOMMUNENR\"] = inntekt[\"KOMMUNENR\"].astype(str)\n",
    "inntekt[\"KOMMUNENR\"] = inntekt[\"KOMMUNENR\"].astype(str).str.zfill(4)\n",
    "\n",
    "\n",
    "kommuner = kommuner.merge(pop, on=\"KOMMUNENR\", how=\"left\")\n",
    "kommuner = kommuner.merge(inntekt, on=\"KOMMUNENR\", how=\"left\")"
   ]
  },
  {
   "cell_type": "code",
   "execution_count": null,
   "id": "b81d256c-2c48-4d05-93b9-1b3817024e95",
   "metadata": {
    "tags": []
   },
   "outputs": [],
   "source": [
    "m = sg.ThematicMap(enhet_df, kommuner, column=\"befolkning\", size=15)\n",
    "m.title = \"Befolkning i kommunene\"\n",
    "m.plot()"
   ]
  },
  {
   "cell_type": "code",
   "execution_count": null,
   "id": "10a4471b-f5bc-4947-b82b-f49709ee470b",
   "metadata": {
    "tags": []
   },
   "outputs": [],
   "source": [
    "m = sg.ThematicMap(enhet_df, kommuner, column=\"inntekt\", size=15)\n",
    "m.title = \"Inntekt i kommunene\"\n",
    "m.plot()"
   ]
  },
  {
   "cell_type": "code",
   "execution_count": null,
   "id": "b8f1ba2c-3307-4b3b-9db6-360e0787582f",
   "metadata": {},
   "outputs": [],
   "source": []
  }
 ],
 "metadata": {
  "language_info": {
   "codemirror_mode": {
    "name": "ipython"
   },
   "file_extension": ".py",
   "mimetype": "text/x-python",
   "name": "python",
   "nbconvert_exporter": "python"
  }
 },
 "nbformat": 4,
 "nbformat_minor": 5
}
