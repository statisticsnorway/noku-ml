{
 "cells": [
  {
   "cell_type": "markdown",
   "id": "4ef243ed-9628-44aa-b915-feab3e6990b4",
   "metadata": {},
   "source": [
    "\n",
    "<div style=\"background-color: #F0F0F0; padding: 10px; font-size: 32px; font-weight: bold; text-align: center; border-radius: 10px;\">\n",
    "  <span style=\"color: green;\">Bruk for å filtere datasetter og orginesere etter kvlatitet av levering. </span>\n",
    "</div>\n"
   ]
  },
  {
   "cell_type": "code",
   "execution_count": null,
   "id": "f9d5b2b1-f2a6-49e9-8408-629a2eeea68e",
   "metadata": {
    "tags": []
   },
   "outputs": [],
   "source": [
    "import pandas as pd\n",
    "from sklearn.ensemble import IsolationForest\n",
    "from sklearn.cluster import DBSCAN\n",
    "import pyarrow as pa\n",
    "import pyarrow.parquet as pq\n",
    "import gcsfs\n",
    "import getpass\n",
    "import os\n",
    "from sklearn.model_selection import train_test_split\n",
    "from sklearn.linear_model import LinearRegression\n",
    "from sklearn.preprocessing import StandardScaler, OneHotEncoder\n",
    "from sklearn.compose import ColumnTransformer\n",
    "from sklearn.pipeline import Pipeline\n",
    "from sklearn.impute import SimpleImputer\n",
    "import geopandas as gpd\n",
    "import sgis as sg\n",
    "import dapla as dp\n",
    "import datetime\n",
    "from dapla.auth import AuthClient\n",
    "from dapla import FileClient\n",
    "\n",
    "fs = FileClient.get_gcs_file_system()\n",
    "import numpy as np\n",
    "\n",
    "\n",
    "import warnings\n",
    "\n",
    "warnings.filterwarnings(\"ignore\")"
   ]
  },
  {
   "cell_type": "markdown",
   "id": "b6935f3e-e163-4c19-a534-4f3400dcf719",
   "metadata": {},
   "source": [
    "# Vi driver med steg 2 i dette program:"
   ]
  },
  {
   "cell_type": "code",
   "execution_count": null,
   "id": "a712e8ee-7164-4c04-a174-8904d7663f81",
   "metadata": {
    "tags": []
   },
   "outputs": [],
   "source": [
    "from IPython.display import Image\n",
    "\n",
    "# Provide the path to your image file\n",
    "image_path = \"flow chart 2.png\"\n",
    "\n",
    "# Display the image\n",
    "Image(filename=image_path)"
   ]
  },
  {
   "cell_type": "markdown",
   "id": "5f5fb19f-ad15-4323-a716-96cb5be83af4",
   "metadata": {
    "tags": []
   },
   "source": [
    "# Skriv Årgang"
   ]
  },
  {
   "cell_type": "code",
   "execution_count": null,
   "id": "d47509c8-fb26-4b0d-bc5a-489970c3535e",
   "metadata": {
    "tags": []
   },
   "outputs": [],
   "source": [
    "# year = input(\"Skriv inn årgang: \")\n",
    "year = \"2021\"\n",
    "skjema = \"RA-0174-1\""
   ]
  },
  {
   "cell_type": "code",
   "execution_count": null,
   "id": "49eac2c8-5ab5-46ea-a614-2a44d0fbca89",
   "metadata": {
    "tags": []
   },
   "outputs": [],
   "source": [
    "fil = [\n",
    "    f\n",
    "    for f in fs.glob(\n",
    "        f\"ssb-prod-noeku-data-produkt/eimerdb/nokubasen/skjemadata/aar={year}/skjema={skjema}/*\"\n",
    "    )\n",
    "    if f.endswith(\".parquet\")\n",
    "]\n",
    "\n",
    "tabley = pq.read_table(fil, filesystem=fs)\n",
    "df = tabley.to_pandas()  # Create a Pandas DataFrame"
   ]
  },
  {
   "cell_type": "code",
   "execution_count": null,
   "id": "460007af-ef94-4814-b618-ac2add6bc7c7",
   "metadata": {
    "tags": []
   },
   "outputs": [],
   "source": [
    "df = df.rename(columns={\"id\": \"enhets_id\"})"
   ]
  },
  {
   "cell_type": "code",
   "execution_count": null,
   "id": "fc07c3bf-134a-40d6-a9fe-a9c7ca182861",
   "metadata": {
    "tags": []
   },
   "outputs": [],
   "source": [
    "pd.set_option(\"display.max_rows\", None)\n",
    "df[\"feltnavn\"].value_counts\n",
    "# df.head()"
   ]
  },
  {
   "cell_type": "code",
   "execution_count": null,
   "id": "58f47da8-f5a1-4562-8e92-0b32a7deea55",
   "metadata": {},
   "outputs": [],
   "source": []
  }
 ],
 "metadata": {
  "language_info": {
   "codemirror_mode": {
    "name": "ipython"
   },
   "file_extension": ".py",
   "mimetype": "text/x-python",
   "name": "python",
   "nbconvert_exporter": "python"
  }
 },
 "nbformat": 4,
 "nbformat_minor": 5
}
