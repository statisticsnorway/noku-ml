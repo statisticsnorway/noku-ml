{
 "cells": [
  {
   "cell_type": "markdown",
   "id": "0",
   "metadata": {
    "tags": []
   },
   "source": [
    "# Overall strategy:\n",
    "\n",
    "#### 1) split into good and bad data. Currently only splitting based on > 50% fordelt. Need to split those who only deliver to 1 bedrift into bad as well. \n",
    "#### 2) for the bad data, use ml to guess the oms , distribute drkost based on profit level and oms. \n",
    "#### 3) merge this data back with the good data.\n",
    "#### 4) run the regular AO with 99 on th entire df\n",
    "#### 5) create an update file. Send to google cloud\n",
    "#### 6) send to linux. Use the sas code to update isee\n",
    "\n",
    "### How to organise functions in final notebook\n",
    "\n",
    "#### Choose naring\n",
    "#### Choose parameters for separating between good, bad dfs\n",
    "#### Apply which machine learning model? Varehandels\n",
    "#### Bring back everything to a final DF. Apply 999 logic to this df. \n",
    "#### Further updates to rad 0 level data (foretak) \n",
    "#### Need to think about what to do with reg_types for example reg_type 03\n",
    "\n",
    "- (A) not 100% fordelt. automatically adjust. Create a list of things of foretak to check naring. \n",
    "- avanse\n",
    "- 1000 feils\n",
    "- IKT investering\n",
    "\n",
    "\n",
    "- Need to bring in past years data and data from other sources. \n",
    "\n",
    "#### Create updatefile. \n",
    "\n",
    "## FEATURE ENGINEERING!\n",
    "\n"
   ]
  },
  {
   "cell_type": "code",
   "execution_count": null,
   "id": "1",
   "metadata": {
    "tags": []
   },
   "outputs": [],
   "source": [
    "import pandas as pd\n",
    "from sklearn.ensemble import IsolationForest\n",
    "from sklearn.cluster import DBSCAN\n",
    "import pyarrow as pa\n",
    "import pyarrow.parquet as pq\n",
    "import gcsfs\n",
    "import getpass\n",
    "import os\n",
    "from sklearn.model_selection import train_test_split\n",
    "from sklearn.linear_model import LinearRegression\n",
    "from sklearn.preprocessing import StandardScaler, OneHotEncoder\n",
    "from sklearn.compose import ColumnTransformer\n",
    "from sklearn.pipeline import Pipeline\n",
    "from sklearn.impute import SimpleImputer\n",
    "import geopandas as gpd\n",
    "import sgis as sg\n",
    "import dapla as dp\n",
    "import datetime\n",
    "from dapla.auth import AuthClient\n",
    "from dapla import FileClient\n",
    "from sklearn.experimental import enable_iterative_imputer\n",
    "from sklearn.impute import IterativeImputer\n",
    "import requests\n",
    "from pyjstat import pyjstat\n",
    "\n",
    "\n",
    "import sys\n",
    "\n",
    "sys.path.append(\"../functions\")\n",
    "import kommune_pop\n",
    "import kommune_inntekt\n",
    "\n",
    "fs = FileClient.get_gcs_file_system()\n",
    "import numpy as np\n",
    "\n",
    "\n",
    "import warnings\n",
    "\n",
    "warnings.filterwarnings(\"ignore\")"
   ]
  },
  {
   "cell_type": "markdown",
   "id": "2",
   "metadata": {
    "tags": []
   },
   "source": [
    "# Årgang"
   ]
  },
  {
   "cell_type": "code",
   "execution_count": null,
   "id": "3",
   "metadata": {
    "tags": []
   },
   "outputs": [],
   "source": [
    "year = \"2021\"\n",
    "fjor = \"2020\""
   ]
  },
  {
   "cell_type": "markdown",
   "id": "4",
   "metadata": {
    "tags": []
   },
   "source": [
    "# get dynarev data"
   ]
  },
  {
   "cell_type": "code",
   "execution_count": null,
   "id": "5",
   "metadata": {
    "tags": []
   },
   "outputs": [],
   "source": [
    "fil_path = [\n",
    "    f\n",
    "    for f in fs.glob(\n",
    "        f\"gs://ssb-prod-noeku-data-produkt/eimerdb/nokubasen/skjemadata/aar={year}/skjema=RA-0174-1/*\"\n",
    "    )\n",
    "    if f.endswith(\".parquet\")\n",
    "]\n",
    "\n",
    "# Use the ParquetDataset to read multiple files\n",
    "dataset = pq.ParquetDataset(fil_path, filesystem=fs)\n",
    "table = dataset.read()\n",
    "\n",
    "# Convert to Pandas DataFrame\n",
    "skjema = table.to_pandas()"
   ]
  },
  {
   "cell_type": "code",
   "execution_count": null,
   "id": "6",
   "metadata": {
    "tags": []
   },
   "outputs": [],
   "source": [
    "felt_id_values = [\n",
    "    \"V_ORGNR\",\n",
    "    \"F_ADRESSE\",\n",
    "    \"FJOR_NACE_B_T1\",\n",
    "    \"TMP_SN2007_5\",\n",
    "    \"B_KOMMUNENR\",\n",
    "    \"REGTYPE\",\n",
    "    \"B_SYSSELSETTING_SYSS\",\n",
    "    \"TMP_NY_BDR_SYSS\",\n",
    "    \"GJELDENDE_BDR_SYSS\",\n",
    "    \"FJOR_SYSSEL_T1\",\n",
    "    \"LONN_PST_AORDN\",\n",
    "    \"GJELDENDE_LONN_KR\",\n",
    "    \"LONN\",\n",
    "    \"FJOR_LONN_KR_T1\",\n",
    "    \"TMP_SNITTLONN\",\n",
    "    \"FJOR_SNITTLONN_T1\",\n",
    "    \"GJELDENDE_OMSETN_KR\",\n",
    "    \"OMSETN_KR\",\n",
    "    \"FJOR_OMSETN_KR_T1\",\n",
    "    \"TMP_SNITTOMS\",\n",
    "    \"FJOR_SNITTOMS_T1\",\n",
    "    \"TMP_SALGSINT_BED\",\n",
    "    \"TMP_FORBRUK_BED\",\n",
    "    \"VAREKOST_BED\",\n",
    "    \"GJELDENDE_DRIFTSK_KR\",\n",
    "    \"DRIFTSKOST_KR\",\n",
    "    \"FJOR_DRIFTSKOST_KR_T1\",\n",
    "    \"NACEF_5\",\n",
    "    \"SALGSINT\",\n",
    "    \"FORBRUK\",\n",
    "    \"TMP_NO_P4005\",\n",
    "    \"TMP_AVPROS_ORGFORB\",\n",
    "    \"ORGNR_N_1\",\n",
    "    \"TMP_NO_OMSETN\",\n",
    "    \"TMP_DRIFTSKOSTNAD_9010\",\n",
    "    \"TMP_DRIFTSKOSTNAD_9910\",\n",
    "]\n",
    "\n",
    "# Assuming `skjema` is your DataFrame and `felt_id_values` is your list of values\n",
    "skjema = skjema[skjema[\"feltnavn\"].isin(felt_id_values)]"
   ]
  },
  {
   "cell_type": "code",
   "execution_count": null,
   "id": "7",
   "metadata": {
    "tags": []
   },
   "outputs": [],
   "source": []
  },
  {
   "cell_type": "code",
   "execution_count": null,
   "id": "8",
   "metadata": {
    "tags": []
   },
   "outputs": [],
   "source": [
    "pivot_df = skjema.pivot_table(\n",
    "    index=[\"id\", \"radnr\", \"lopenr\"],\n",
    "    columns=\"feltnavn\",\n",
    "    values=\"feltverdi\",\n",
    "    aggfunc=\"first\",\n",
    ")\n",
    "pivot_df = pivot_df.reset_index()\n",
    "pivot_df.columns = pivot_df.columns.str.lower()\n",
    "pivot_df\n",
    "# test = pivot_df['FJOR_OMSETN_KR_T1']\n",
    "# test"
   ]
  },
  {
   "cell_type": "code",
   "execution_count": null,
   "id": "9",
   "metadata": {
    "tags": []
   },
   "outputs": [],
   "source": [
    "# Assuming your DataFrame is named pivot_df\n",
    "\n",
    "# Create the 'foretak' DataFrame\n",
    "foretak = pivot_df.loc[pivot_df[\"radnr\"] == 0]\n",
    "\n",
    "# Create the 'bedrift' DataFrame\n",
    "bedrift = pivot_df.loc[pivot_df[\"radnr\"] > 0]"
   ]
  },
  {
   "cell_type": "code",
   "execution_count": null,
   "id": "10",
   "metadata": {
    "tags": []
   },
   "outputs": [],
   "source": [
    "pd.set_option(\"display.max_columns\", None)\n",
    "# Assuming 'foretak' is your existing DataFrame\n",
    "\n",
    "selected_columns = [\n",
    "    \"id\",\n",
    "    \"lopenr\",\n",
    "    \"forbruk\",\n",
    "    \"nacef_5\",\n",
    "    \"orgnr_n_1\",\n",
    "    \"salgsint\",\n",
    "    \"tmp_driftskostnad_9010\",\n",
    "    \"tmp_driftskostnad_9910\",\n",
    "    \"tmp_no_omsetn\",\n",
    "    \"tmp_no_p4005\",\n",
    "]\n",
    "\n",
    "foretak = foretak[selected_columns]\n",
    "\n",
    "# Assuming 'foretak' is your DataFrame\n",
    "foretak.rename(columns={\"tmp_no_omsetn\": \"foretak_omsetning\"}, inplace=True)\n",
    "\n",
    "\n",
    "foretak = foretak.fillna(0)\n",
    "\n",
    "foretak[[\"tmp_driftskostnad_9010\", \"tmp_driftskostnad_9910\"]] = foretak[\n",
    "    [\"tmp_driftskostnad_9010\", \"tmp_driftskostnad_9910\"]\n",
    "].apply(pd.to_numeric, errors=\"coerce\")\n",
    "\n",
    "foretak[\"foretak_driftskostnad\"] = foretak[\n",
    "    [\"tmp_driftskostnad_9010\", \"tmp_driftskostnad_9910\"]\n",
    "].max(axis=1)\n",
    "\n",
    "# Drop the specified columns\n",
    "foretak.drop([\"tmp_driftskostnad_9010\", \"tmp_driftskostnad_9910\"], axis=1, inplace=True)"
   ]
  },
  {
   "cell_type": "code",
   "execution_count": null,
   "id": "11",
   "metadata": {
    "tags": []
   },
   "outputs": [],
   "source": [
    "# Assuming 'bedrift' is your DataFrame\n",
    "columns_to_drop = [\n",
    "    \"forbruk\",\n",
    "    \"nacef_5\",\n",
    "    \"orgnr_n_1\",\n",
    "    \"salgsint\",\n",
    "    \"tmp_driftskostnad_9010\",\n",
    "    \"tmp_driftskostnad_9910\",\n",
    "    \"tmp_no_omsetn\",\n",
    "    \"tmp_no_p4005\",\n",
    "]\n",
    "\n",
    "bedrift.drop(columns_to_drop, axis=1, inplace=True)"
   ]
  },
  {
   "cell_type": "code",
   "execution_count": null,
   "id": "12",
   "metadata": {
    "tags": []
   },
   "outputs": [],
   "source": [
    "# Assuming 'bedrift' is your DataFrame\n",
    "columns_to_fill = [\"omsetn_kr\", \"driftskost_kr\"]\n",
    "\n",
    "# Convert columns to numeric, replacing non-convertible values with NaN\n",
    "bedrift[columns_to_fill] = bedrift[columns_to_fill].apply(\n",
    "    pd.to_numeric, errors=\"coerce\"\n",
    ")\n",
    "\n",
    "# Fill NaN values with 0 for the specified columns\n",
    "bedrift[columns_to_fill] = bedrift[columns_to_fill].fillna(0)\n",
    "\n",
    "# Group by 'id' and calculate the sum\n",
    "grouped_bedrift = (\n",
    "    bedrift.groupby(\"id\")[[\"omsetn_kr\", \"driftskost_kr\"]].sum().reset_index()\n",
    ")\n",
    "\n",
    "# Rename the columns\n",
    "grouped_bedrift.rename(\n",
    "    columns={\"omsetn_kr\": \"tot_oms_fordelt\", \"driftskost_kr\": \"tot_driftskost_fordelt\"},\n",
    "    inplace=True,\n",
    ")\n",
    "\n",
    "# Merge the grouped DataFrame back to the original DataFrame based on 'id'\n",
    "bedrift = pd.merge(bedrift, grouped_bedrift, on=\"id\", how=\"left\")"
   ]
  },
  {
   "cell_type": "code",
   "execution_count": null,
   "id": "13",
   "metadata": {
    "tags": []
   },
   "outputs": [],
   "source": [
    "# Assuming 'foretak' and 'bedrift' are your DataFrames\n",
    "merged_df = pd.merge(foretak, bedrift, on=[\"id\", \"lopenr\"], how=\"inner\")\n",
    "# merged_df.head()"
   ]
  },
  {
   "cell_type": "code",
   "execution_count": null,
   "id": "14",
   "metadata": {
    "tags": []
   },
   "outputs": [],
   "source": [
    "# Assuming 'merged_df' is your DataFrame\n",
    "\n",
    "# Convert columns to numeric, replacing non-convertible values with NaN\n",
    "merged_df[\"tot_oms_fordelt\"] = pd.to_numeric(\n",
    "    merged_df[\"tot_oms_fordelt\"], errors=\"coerce\"\n",
    ")\n",
    "merged_df[\"foretak_omsetning\"] = pd.to_numeric(\n",
    "    merged_df[\"foretak_omsetning\"], errors=\"coerce\"\n",
    ")\n",
    "\n",
    "# Calculate omsetning_percentage\n",
    "merged_df[\"omsetning_percentage\"] = (\n",
    "    merged_df[\"tot_oms_fordelt\"] / merged_df[\"foretak_omsetning\"]\n",
    ")\n",
    "\n",
    "# Convert columns to numeric, replacing non-convertible values with NaN\n",
    "merged_df[\"tot_driftskost_fordelt\"] = pd.to_numeric(\n",
    "    merged_df[\"tot_driftskost_fordelt\"], errors=\"coerce\"\n",
    ")\n",
    "merged_df[\"foretak_driftskostnad\"] = pd.to_numeric(\n",
    "    merged_df[\"foretak_driftskostnad\"], errors=\"coerce\"\n",
    ")\n",
    "\n",
    "# Calculate driftskostnader_percentage\n",
    "merged_df[\"driftskostnader_percentage\"] = (\n",
    "    merged_df[\"tot_driftskost_fordelt\"] / merged_df[\"foretak_driftskostnad\"]\n",
    ")\n",
    "\n",
    "merged_df[\"driftskostnader_percentage\"] = (\n",
    "    merged_df[\"tot_driftskost_fordelt\"] / merged_df[\"foretak_driftskostnad\"]\n",
    ").round(4)\n",
    "\n",
    "# Fill NaN with a specific value (e.g., 0)\n",
    "merged_df[\"driftskostnader_percentage\"].fillna(0, inplace=True)\n",
    "merged_df[\"omsetning_percentage\"].fillna(0, inplace=True)"
   ]
  },
  {
   "cell_type": "code",
   "execution_count": null,
   "id": "15",
   "metadata": {
    "tags": []
   },
   "outputs": [],
   "source": [
    "# merged_df.shape"
   ]
  },
  {
   "cell_type": "code",
   "execution_count": null,
   "id": "16",
   "metadata": {
    "tags": []
   },
   "outputs": [],
   "source": [
    "# Assuming 'merged_df' is your DataFrame\n",
    "\n",
    "# Create the 'Good' DataFrame\n",
    "good_temp_df = merged_df[\n",
    "    (merged_df[\"omsetning_percentage\"] >= 0.5)\n",
    "    & (merged_df[\"driftskostnader_percentage\"] >= 0.5)\n",
    "]\n",
    "\n",
    "# Create 'bedrift_count' and 'distribution_count'\n",
    "good_temp_df[\"bedrift_count\"] = good_temp_df.groupby(\"orgnr_n_1\")[\n",
    "    \"orgnr_n_1\"\n",
    "].transform(\"count\")\n",
    "good_temp_df[\"distribution_count\"] = good_temp_df.groupby(\"orgnr_n_1\")[\n",
    "    \"omsetn_kr\"\n",
    "].transform(lambda x: (x > 0).sum())\n",
    "\n",
    "# Create 'bad_temp' DataFrame based on conditions\n",
    "bad_temp = good_temp_df[\n",
    "    (good_temp_df[\"bedrift_count\"] > 5) & (good_temp_df[\"distribution_count\"] <= 2)\n",
    "]\n",
    "\n",
    "# Create 'good_df' by excluding rows from 'bad_temp'\n",
    "good_df = (\n",
    "    pd.merge(good_temp_df, bad_temp, how=\"outer\", indicator=True)\n",
    "    .query('_merge == \"left_only\"')\n",
    "    .drop(\"_merge\", axis=1)\n",
    ")\n",
    "\n",
    "\n",
    "# Create the 'Mixed' DataFrame\n",
    "onlygoodoms = merged_df[\n",
    "    (\n",
    "        (merged_df[\"omsetning_percentage\"] > 0.5)\n",
    "        & (merged_df[\"driftskostnader_percentage\"] <= 0.5)\n",
    "    )\n",
    "]\n",
    "\n",
    "onlygooddriftskostnader = merged_df[\n",
    "    (\n",
    "        (merged_df[\"driftskostnader_percentage\"] > 0.5)\n",
    "        & (merged_df[\"omsetning_percentage\"] <= 0.5)\n",
    "    )\n",
    "]\n",
    "\n",
    "# Create the 'Bad' DataFrame\n",
    "bad_df = merged_df[\n",
    "    (merged_df[\"omsetning_percentage\"] <= 0.5)\n",
    "    & (merged_df[\"driftskostnader_percentage\"] <= 0.5)\n",
    "]\n",
    "bad_df = pd.concat([bad_df, bad_temp]).drop_duplicates(keep=False)\n",
    "bad_df = pd.concat([bad_df, onlygooddriftskostnader]).drop_duplicates(keep=False)"
   ]
  },
  {
   "cell_type": "code",
   "execution_count": null,
   "id": "17",
   "metadata": {
    "tags": []
   },
   "outputs": [],
   "source": [
    "merged_df.shape"
   ]
  },
  {
   "cell_type": "code",
   "execution_count": null,
   "id": "18",
   "metadata": {
    "tags": []
   },
   "outputs": [],
   "source": [
    "good_df.shape"
   ]
  },
  {
   "cell_type": "code",
   "execution_count": null,
   "id": "19",
   "metadata": {
    "tags": []
   },
   "outputs": [],
   "source": [
    "onlygoodoms.shape"
   ]
  },
  {
   "cell_type": "code",
   "execution_count": null,
   "id": "20",
   "metadata": {
    "tags": []
   },
   "outputs": [],
   "source": [
    "onlygooddriftskostnader.shape"
   ]
  },
  {
   "cell_type": "code",
   "execution_count": null,
   "id": "21",
   "metadata": {
    "tags": []
   },
   "outputs": [],
   "source": [
    "bad_df.shape"
   ]
  },
  {
   "cell_type": "markdown",
   "id": "22",
   "metadata": {},
   "source": [
    "good distribution delivered (both oms and dkost): 83.33%\n",
    "onlygoodoms: 11.96%\n",
    "onlygooddriftskostnader: 0.693%\n",
    "bad (bad distribution of both oms and dkost) : 4.02% "
   ]
  },
  {
   "cell_type": "markdown",
   "id": "23",
   "metadata": {},
   "source": [
    "# Step 1. \n",
    "\n",
    "Fill all bad df with NAN. Fill only onlygooddriftskostnader with NAN for oms. For onlygoodoms use profit margin to impute driftskostnader."
   ]
  },
  {
   "cell_type": "code",
   "execution_count": null,
   "id": "24",
   "metadata": {
    "tags": []
   },
   "outputs": [],
   "source": [
    "# Fill bad_df with NaN\n",
    "bad_df[\"omsetn_kr\"] = np.nan\n",
    "bad_df[\"driftskost_kr\"] = np.nan\n",
    "\n",
    "bad_df[\"new_oms\"] = bad_df[\"omsetn_kr\"]\n",
    "\n",
    "# Fill onlygooddriftskostnader 'oms' with NAN.\n",
    "onlygooddriftskostnader[\"omsetn_kr\"] = np.nan\n",
    "\n",
    "onlygooddriftskostnader[\"new_oms\"] = onlygooddriftskostnader[\"omsetn_kr\"]\n",
    "\n",
    "good_df[\"new_oms\"] = good_df[\"omsetn_kr\"]\n",
    "\n",
    "# Correct driftskostnader for onlygoodoms\n",
    "\n",
    "onlygoodoms[\"oms_share\"] = onlygoodoms[\"omsetn_kr\"] / onlygoodoms[\n",
    "    \"tot_oms_fordelt\"\n",
    "].round(5)\n",
    "\n",
    "# Round the values to whole numbers before assigning to the new columns\n",
    "onlygoodoms[\"new_oms\"] = (\n",
    "    (onlygoodoms[\"oms_share\"] * onlygoodoms[\"foretak_omsetning\"]).round(0).astype(int)\n",
    ")\n",
    "\n",
    "onlygoodoms[\"margin\"] = (\n",
    "    onlygoodoms[\"foretak_driftskostnad\"] / onlygoodoms[\"foretak_omsetning\"]\n",
    ")\n",
    "\n",
    "onlygoodoms[\"old_drkost\"] = onlygoodoms[\"driftskost_kr\"]\n",
    "\n",
    "onlygoodoms[\"new_drkost\"] = onlygoodoms[\"margin\"] * onlygoodoms[\"new_oms\"]\n",
    "\n",
    "onlygoodoms[\"driftskost_kr\"] = onlygoodoms[\"new_drkost\"]"
   ]
  },
  {
   "cell_type": "code",
   "execution_count": null,
   "id": "25",
   "metadata": {
    "tags": []
   },
   "outputs": [],
   "source": [
    "bad_df"
   ]
  },
  {
   "cell_type": "markdown",
   "id": "26",
   "metadata": {},
   "source": [
    " \n",
    "\n",
    "# Step 2: \n",
    "\n",
    "merge bad dfs back into good_df"
   ]
  },
  {
   "cell_type": "code",
   "execution_count": null,
   "id": "27",
   "metadata": {
    "tags": []
   },
   "outputs": [],
   "source": [
    "# Assuming 'onlygoodoms','bad_df', 'good_df', and 'onlygooddriftskostnader' are your DataFrames\n",
    "# Merge all DataFrames into 'imputer' in a single step\n",
    "merged_df = pd.concat(\n",
    "    [onlygoodoms, bad_df, good_df, onlygooddriftskostnader], ignore_index=True\n",
    ")\n",
    "\n",
    "# Assuming 'imputer' is your DataFrame and you want to select specific columns\n",
    "selected_columns = [\n",
    "    \"id\",\n",
    "    \"lopenr\",\n",
    "    \"forbruk\",\n",
    "    \"nacef_5\",\n",
    "    \"orgnr_n_1\",\n",
    "    \"salgsint\",\n",
    "    \"foretak_omsetning\",\n",
    "    \"tmp_no_p4005\",\n",
    "    \"foretak_driftskostnad\",\n",
    "    \"radnr\",\n",
    "    \"gjeldende_bdr_syss\",\n",
    "    \"fjor_driftskost_kr_t1\",\n",
    "    \"fjor_lonn_kr_t1\",\n",
    "    \"fjor_syssel_t1\",\n",
    "    \"gjeldende_lonn_kr\",\n",
    "    \"new_oms\",\n",
    "    \"b_kommunenr\",\n",
    "]\n",
    "\n",
    "# Create a new DataFrame with only the selected columns\n",
    "imputer = merged_df[selected_columns].copy()\n",
    "\n",
    "merged_df.head(100)\n",
    "\n",
    "# Assuming 'df' is your DataFrame\n",
    "# nan_count = imputer['new_oms'].isna().sum()\n",
    "# print(\"Number of NaN values in 'new_oms':\", nan_count)"
   ]
  },
  {
   "cell_type": "markdown",
   "id": "28",
   "metadata": {},
   "source": [
    "# step 3 . \n",
    "\n",
    "Feature engineering:\n",
    "\n",
    "- delta foretak oms\n",
    "- delta kommune population\n",
    "- delta kommune income\n",
    "- change in employees\n",
    "- consumer confidence index\n",
    "- inflation\n",
    "- gdp growth\n",
    "- past data\n",
    "- past years sales * foretak increase\n",
    "- past years sales * kommune pop\n",
    "- past years sales * kommune income"
   ]
  },
  {
   "cell_type": "markdown",
   "id": "29",
   "metadata": {
    "tags": []
   },
   "source": [
    "## Kommune belfolkning delta"
   ]
  },
  {
   "cell_type": "code",
   "execution_count": null,
   "id": "30",
   "metadata": {
    "tags": []
   },
   "outputs": [],
   "source": [
    "kommune_pop_aar = kommune_pop.fetch_population_data(year)\n",
    "kommune_pop_fjor = kommune_pop.fetch_population_data(fjor)\n",
    "kommune_befolk = kommune_pop.befolkning_behandling(kommune_pop_aar, kommune_pop_fjor)\n",
    "\n",
    "kommune_befolk.head()"
   ]
  },
  {
   "cell_type": "markdown",
   "id": "31",
   "metadata": {
    "tags": []
   },
   "source": [
    "## kommune inntekt delta"
   ]
  },
  {
   "cell_type": "code",
   "execution_count": null,
   "id": "32",
   "metadata": {
    "tags": []
   },
   "outputs": [],
   "source": [
    "kommune_innt_aar = kommune_inntekt.fetch_inntekt_data(year)\n",
    "kommune_innt_fjor = kommune_inntekt.fetch_inntekt_data(fjor)\n",
    "kommune_inntekt = kommune_inntekt.inntekt_behandling(\n",
    "    kommune_innt_aar, kommune_innt_fjor\n",
    ")\n",
    "kommune_inntekt.head()"
   ]
  },
  {
   "cell_type": "markdown",
   "id": "33",
   "metadata": {},
   "source": [
    "# Step 4\n",
    "Use IterativeImputer to imput Nan values."
   ]
  },
  {
   "cell_type": "code",
   "execution_count": null,
   "id": "34",
   "metadata": {
    "tags": []
   },
   "outputs": [],
   "source": [
    "# Assuming 'imputer' is your DataFrame and 'imputer_oms' is the variable you want to impute\n",
    "# Extract the features for imputation (excluding 'imputer_oms')\n",
    "features = [col for col in imputer.columns if col != \"imputer_oms\"]\n",
    "\n",
    "# Initialize the IterativeImputer\n",
    "imputer_model = IterativeImputer(random_state=0)\n",
    "\n",
    "# Fit the imputer model on the features with missing values\n",
    "imputer_model.fit(imputer[features])\n",
    "\n",
    "# Impute missing values in the 'imputer_oms' column\n",
    "imputer[\"imputer_oms\"] = imputer_model.transform(imputer[features])[\n",
    "    :, features.index(\"imputer_oms\")\n",
    "]"
   ]
  },
  {
   "cell_type": "markdown",
   "id": "35",
   "metadata": {},
   "source": [
    "# Step 5\n",
    "\n",
    "Use tools to evaluate the model. \n",
    "\n",
    "# Step 6\n",
    "\n",
    "Run it all through the regular AO system. "
   ]
  },
  {
   "cell_type": "markdown",
   "id": "36",
   "metadata": {},
   "source": [
    "# Links to different treatment for each type of df. All will be merged into one dataframe at the end. \n",
    "### [1. Only Good Oms DF](#onlygoodoms) | Can basically just use the profit margin of the foretak to work out driftskostnader |\n",
    "### [2. Bad DF](#baddf) | Need to incorporate the machine learning here |\n",
    "### [3. Merge into good DF](#merge) | Basically a run through of 99. Eventual plan is to have the other dfs mergedinto good_df |\n",
    "### [4. Good DF](#gooddf) | Basically a run through of 99. Eventual plan is to have the other dfs mergedinto good_df |\n"
   ]
  },
  {
   "cell_type": "markdown",
   "id": "37",
   "metadata": {
    "tags": []
   },
   "source": [
    "<a id='onlygoodoms'></a>\n",
    "# 1. Only Good Oms DF\n",
    "\n",
    "#### Uses the profit margin"
   ]
  },
  {
   "cell_type": "code",
   "execution_count": null,
   "id": "38",
   "metadata": {
    "tags": []
   },
   "outputs": [],
   "source": [
    "onlygoodoms[\"oms_share\"] = onlygoodoms[\"omsetn_kr\"] / onlygoodoms[\n",
    "    \"tot_oms_fordelt\"\n",
    "].round(5)\n",
    "\n",
    "# Round the values to whole numbers before assigning to the new columns\n",
    "onlygoodoms[\"new_oms\"] = (\n",
    "    (onlygoodoms[\"oms_share\"] * onlygoodoms[\"foretak_omsetning\"]).round(0).astype(int)\n",
    ")\n",
    "\n",
    "onlygoodoms[\"margin\"] = (\n",
    "    onlygoodoms[\"foretak_driftskostnad\"] / onlygoodoms[\"foretak_omsetning\"]\n",
    ")\n",
    "\n",
    "onlygoodoms[\"old_drkost\"] = onlygoodoms[\"driftskost_kr\"]\n",
    "\n",
    "onlygoodoms[\"new_drkost\"] = onlygoodoms[\"margin\"] * onlygoodoms[\"new_oms\"]\n",
    "\n",
    "onlygoodoms[\"driftskost_kr\"] = onlygoodoms[\"new_drkost\"]\n",
    "\n",
    "onlygoodoms.head()"
   ]
  },
  {
   "cell_type": "markdown",
   "id": "39",
   "metadata": {
    "tags": []
   },
   "source": [
    "<a id='gooddf'></a>\n",
    "# 4. Good DF AO"
   ]
  },
  {
   "cell_type": "markdown",
   "id": "40",
   "metadata": {
    "tags": []
   },
   "source": [
    "### rette oms"
   ]
  },
  {
   "cell_type": "code",
   "execution_count": null,
   "id": "41",
   "metadata": {
    "tags": []
   },
   "outputs": [],
   "source": [
    "# pd.set_option(\"display.max_rows\", None)\n",
    "\n",
    "\n",
    "good_df[\"oms_share\"] = good_df[\"omsetn_kr\"] / good_df[\"tot_oms_fordelt\"].round(5)\n",
    "\n",
    "# Round the values to whole numbers before assigning to the new columns\n",
    "good_df[\"new_oms\"] = (\n",
    "    (good_df[\"oms_share\"] * good_df[\"foretak_omsetning\"]).round(0).astype(int)\n",
    ")\n",
    "\n",
    "\n",
    "# good_df.head()"
   ]
  },
  {
   "cell_type": "markdown",
   "id": "42",
   "metadata": {},
   "source": [
    "### rette salgsint og forbruk"
   ]
  },
  {
   "cell_type": "markdown",
   "id": "43",
   "metadata": {
    "tags": []
   },
   "source": [
    "data salgsint_forbruk;\n",
    "\tset enhetene_brukes6  \n",
    "\t\t(\n",
    "\t\twhere=(rad_nr > 0)\n",
    "\t\tkeep=\n",
    "\t\torgnr_foretak \n",
    "\t\tlopenr\n",
    "\t\trad_nr\n",
    "\t\ttmp_ny_omsetn\n",
    "\t\tsalgsint\n",
    "\t\tforbruk\n",
    "\t\tnaring\n",
    "\t\tforetaksnaring\n",
    "\t\t\t);\n",
    "\tvhbed=0;\n",
    "\n",
    "\tif substr(naring,1,2) in &w_naring_vh. then\n",
    "\t\tvhbed=1;\n",
    "\n",
    "\tif naring in &w_nace1_ikke_vh. then\n",
    "\t\tvhbed=0;\n",
    "\n",
    "\tif substr(naring,1,4) in &w_nace2_ikke_vh. then\n",
    "\t\tvhbed=0;\n",
    "run;\n",
    "\n",
    "w_naring_vh = ('45', '46', '47')\n",
    "w_nace1_ikke_vh = 45.403\n",
    "w_nace2_ikke_vh =  ('45.2', '46.1')\n"
   ]
  },
  {
   "cell_type": "code",
   "execution_count": null,
   "id": "44",
   "metadata": {
    "tags": []
   },
   "outputs": [],
   "source": [
    "# 1\n",
    "# Define the values for w_naring_vh, w_nace1_ikke_vh, and w_nace2_ikke_vh\n",
    "w_naring_vh = (\"45\", \"46\", \"47\")\n",
    "w_nace1_ikke_vh = \"45.403\"\n",
    "w_nace2_ikke_vh = (\"45.2\", \"46.1\")\n",
    "\n",
    "enhetene_brukes = good_df.copy()\n",
    "\n",
    "# Filter the DataFrame based on conditions and create vhbed variable\n",
    "enhetene_brukes[\"vhbed\"] = 0\n",
    "\n",
    "# Check if the first two characters of 'naring' are in w_naring_vh\n",
    "enhetene_brukes.loc[\n",
    "    enhetene_brukes[\"tmp_sn2007_5\"].str[:2].isin(w_naring_vh), \"vhbed\"\n",
    "] = 1\n",
    "\n",
    "# Check if 'naring' is in w_nace1_ikke_vh\n",
    "enhetene_brukes.loc[enhetene_brukes[\"tmp_sn2007_5\"] == w_nace1_ikke_vh, \"vhbed\"] = 0\n",
    "\n",
    "# Check if the first four characters of 'naring' are in w_nace2_ikke_vh\n",
    "enhetene_brukes.loc[\n",
    "    enhetene_brukes[\"tmp_sn2007_5\"].str[:4].isin(w_nace2_ikke_vh), \"vhbed\"\n",
    "] = 0\n",
    "\n",
    "# enhetene_brukes.head()"
   ]
  },
  {
   "cell_type": "code",
   "execution_count": null,
   "id": "45",
   "metadata": {
    "tags": []
   },
   "outputs": [],
   "source": [
    "# 2\n",
    "salgsint_forbruk = enhetene_brukes[\n",
    "    [\n",
    "        \"orgnr_n_1\",\n",
    "        \"lopenr\",\n",
    "        \"v_orgnr\",\n",
    "        \"forbruk\",\n",
    "        \"salgsint\",\n",
    "        \"radnr\",\n",
    "        \"nacef_5\",\n",
    "        \"tmp_sn2007_5\",\n",
    "        \"new_oms\",\n",
    "        \"vhbed\",\n",
    "    ]\n",
    "]\n",
    "\n",
    "# salgsint_forbruk.head()"
   ]
  },
  {
   "cell_type": "code",
   "execution_count": null,
   "id": "46",
   "metadata": {
    "tags": []
   },
   "outputs": [],
   "source": [
    "# 3\n",
    "\n",
    "har = salgsint_forbruk[salgsint_forbruk.groupby(\"orgnr_n_1\")[\"vhbed\"].transform(\"any\")]\n",
    "# Extract the 'orgnr_n_1' column\n",
    "har = har[[\"orgnr_n_1\"]]\n",
    "\n",
    "# Remove duplicates\n",
    "har.drop_duplicates(inplace=True)\n",
    "\n",
    "# har.head()"
   ]
  },
  {
   "cell_type": "code",
   "execution_count": null,
   "id": "47",
   "metadata": {
    "tags": []
   },
   "outputs": [],
   "source": [
    "# 4\n",
    "\n",
    "ikke_har = salgsint_forbruk[\n",
    "    ~salgsint_forbruk.groupby(\"orgnr_n_1\")[\"vhbed\"].transform(\"any\")\n",
    "]\n",
    "ikke_har = ikke_har[[\"orgnr_n_1\"]]\n",
    "ikke_har.drop_duplicates(inplace=True)\n",
    "\n",
    "ikke_har[\"ikkevbed\"] = 1\n",
    "\n",
    "# ikke_har.head()"
   ]
  },
  {
   "cell_type": "code",
   "execution_count": null,
   "id": "48",
   "metadata": {
    "tags": []
   },
   "outputs": [],
   "source": [
    "# 5\n",
    "\n",
    "\n",
    "# Merge ikke_har into salgsint_forbruk with a left join on the 'id' column\n",
    "salgsint_forbruk_update1 = pd.merge(\n",
    "    salgsint_forbruk, ikke_har, on=\"orgnr_n_1\", how=\"left\"\n",
    ")\n",
    "\n",
    "# salgsint_forbruk_update1['ikkevbed'].fillna(0, inplace=True)\n",
    "\n",
    "# Update 'vhbed' to 1 where 'ikkevbed' is 1\n",
    "salgsint_forbruk_update1.loc[salgsint_forbruk_update1[\"ikkevbed\"] == 1, \"vhbed\"] = 1\n",
    "\n",
    "# salgsint_forbruk_update1.head()"
   ]
  },
  {
   "cell_type": "code",
   "execution_count": null,
   "id": "49",
   "metadata": {
    "tags": []
   },
   "outputs": [],
   "source": [
    "# 6\n",
    "# Assuming your original DataFrame is named salgsint_forbruk_update1\n",
    "# Replace 'new_oms', 'orgnr_foretak', 'lopnr', 'vhbed' with the actual column names in your DataFrame\n",
    "\n",
    "# Create sum1 DataFrame for vhbed=1\n",
    "sum1 = (\n",
    "    salgsint_forbruk_update1[salgsint_forbruk_update1[\"vhbed\"] == 1]\n",
    "    .groupby([\"orgnr_n_1\", \"lopenr\"])[\"new_oms\"]\n",
    "    .sum()\n",
    "    .reset_index()\n",
    ")\n",
    "sum1.rename(columns={\"new_oms\": \"sumoms_vh\"}, inplace=True)\n",
    "\n",
    "# Create sum2 DataFrame for vhbed=0\n",
    "sum2 = (\n",
    "    salgsint_forbruk_update1[salgsint_forbruk_update1[\"vhbed\"] == 0]\n",
    "    .groupby([\"orgnr_n_1\", \"lopenr\"])[\"new_oms\"]\n",
    "    .sum()\n",
    "    .reset_index()\n",
    ")\n",
    "sum2.rename(columns={\"new_oms\": \"sumoms_andre\"}, inplace=True)"
   ]
  },
  {
   "cell_type": "code",
   "execution_count": null,
   "id": "50",
   "metadata": {
    "tags": []
   },
   "outputs": [],
   "source": [
    "# Perform an outer join of sum1 and sum2 by 'orgnr_foretak' and 'lopnr'\n",
    "sum3 = pd.merge(sum1, sum2, on=[\"orgnr_n_1\", \"lopenr\"], how=\"outer\")\n",
    "# sum3.head()"
   ]
  },
  {
   "cell_type": "code",
   "execution_count": null,
   "id": "51",
   "metadata": {
    "tags": []
   },
   "outputs": [],
   "source": [
    "# 8\n",
    "\n",
    "salgsint_forbruk_update2 = pd.merge(\n",
    "    salgsint_forbruk_update1, sum3, on=[\"orgnr_n_1\", \"lopenr\"], how=\"outer\"\n",
    ")\n",
    "# salgsint_forbruk_update2.head()"
   ]
  },
  {
   "cell_type": "code",
   "execution_count": null,
   "id": "52",
   "metadata": {
    "tags": []
   },
   "outputs": [],
   "source": [
    "# 9 & 10\n",
    "# Assuming 'orgnr_n_1', 'lopenr', and 'rad_nr' are the actual column names\n",
    "# Replace them with the actual names in your DataFrame\n",
    "\n",
    "# Sort the DataFrame by 'orgnr_n_1', 'lopenr', and 'rad_nr'\n",
    "salgsint_forbruk_update2.sort_values(by=[\"orgnr_n_1\", \"lopenr\", \"radnr\"], inplace=True)\n",
    "\n",
    "salgsint_forbruk_update2.sort_values(by=[\"orgnr_n_1\", \"lopenr\", \"vhbed\"], inplace=True)\n",
    "\n",
    "# Display the sorted DataFrame\n",
    "# salgsint_forbruk_update2.head()"
   ]
  },
  {
   "cell_type": "code",
   "execution_count": null,
   "id": "53",
   "metadata": {
    "tags": []
   },
   "outputs": [],
   "source": [
    "# 11\n",
    "\n",
    "# Assuming your DataFrame is named salgsint_forbruk\n",
    "# Replace 'orgnr_foretak', 'lopenr', 'vhbed', 'vhf' with the actual column names\n",
    "\n",
    "# Sort the DataFrame by 'orgnr_foretak' and 'lopenr'\n",
    "\n",
    "salgsint_forbruk_update3 = salgsint_forbruk_update2.copy()\n",
    "\n",
    "salgsint_forbruk_update3.sort_values(by=[\"orgnr_n_1\", \"lopenr\"], inplace=True)\n",
    "\n",
    "# Create a new variable 'vhf' based on the values of 'vhbed'\n",
    "salgsint_forbruk_update3[\"vhf\"] = salgsint_forbruk_update3.groupby(\n",
    "    [\"orgnr_n_1\", \"lopenr\"]\n",
    ")[\"vhbed\"].transform(\"first\")\n",
    "\n",
    "# Retain the value of 'vhf' from the first observation in each group\n",
    "salgsint_forbruk_update3[\"vhf\"] = salgsint_forbruk_update3.groupby(\n",
    "    [\"orgnr_n_1\", \"lopenr\"]\n",
    ")[\"vhf\"].transform(\"first\")\n",
    "\n",
    "# Apply labels to the variables\n",
    "salgsint_forbruk_update3[\"vhbed\"] = salgsint_forbruk_update3[\"vhbed\"].astype(str)\n",
    "salgsint_forbruk_update3[\"vhf\"] = salgsint_forbruk_update3[\"vhf\"].astype(str)\n",
    "\n",
    "label_map_vhbed = {\"1\": \"varehandelsbedrift\", \"0\": \"annen type bedrift\"}\n",
    "label_map_vhf = {\n",
    "    \"1\": \"foretaket har kun varehandelsbedrifter eller ingen\",\n",
    "    \"0\": \"har varehandel og annen bedrift (blandingsnæringer)\",\n",
    "}\n",
    "\n",
    "salgsint_forbruk_update3[\"vhbed\"] = salgsint_forbruk_update3[\"vhbed\"].map(\n",
    "    label_map_vhbed\n",
    ")\n",
    "salgsint_forbruk_update3[\"vhf\"] = salgsint_forbruk_update3[\"vhf\"].map(label_map_vhf)\n",
    "\n",
    "# salgsint_forbruk_update3.head()"
   ]
  },
  {
   "cell_type": "code",
   "execution_count": null,
   "id": "54",
   "metadata": {
    "tags": []
   },
   "outputs": [],
   "source": [
    "# 11\n",
    "\n",
    "# Assuming your DataFrame is named salgsint_forbruk\n",
    "# Replace 'vhf' with the actual name of your column\n",
    "\n",
    "# Filter rows where vhf is 'foretaket har kun varehandelsbedrifter eller ingen'\n",
    "vhf_condition = (\n",
    "    salgsint_forbruk_update3[\"vhf\"]\n",
    "    == \"foretaket har kun varehandelsbedrifter eller ingen\"\n",
    ")\n",
    "vhf_df = salgsint_forbruk_update3.loc[vhf_condition]\n",
    "\n",
    "# Filter rows where vhf is not 'foretaket har kun varehandelsbedrifter eller ingen'\n",
    "andre_df = salgsint_forbruk_update3.loc[~vhf_condition]\n",
    "\n",
    "# vhf_df.head()\n",
    "# andre_df.head()"
   ]
  },
  {
   "cell_type": "code",
   "execution_count": null,
   "id": "55",
   "metadata": {
    "tags": []
   },
   "outputs": [],
   "source": [
    "# 12\n",
    "\n",
    "vhf_df[\"nokkel\"] = vhf_df[\"new_oms\"] / vhf_df[\"sumoms_vh\"]\n",
    "\n",
    "# Convert 'salgsint' column to numeric\n",
    "vhf_df[\"salgsint\"] = pd.to_numeric(vhf_df[\"salgsint\"], errors=\"coerce\")\n",
    "vhf_df[\"forbruk\"] = pd.to_numeric(vhf_df[\"forbruk\"], errors=\"coerce\")\n",
    "\n",
    "\n",
    "vhf_df[\"bedr_salgsint\"] = round(vhf_df[\"salgsint\"] * vhf_df[\"nokkel\"])\n",
    "vhf_df[\"bedr_forbruk\"] = round(vhf_df[\"forbruk\"] * vhf_df[\"nokkel\"])\n",
    "\n",
    "# vhf_df.head()"
   ]
  },
  {
   "cell_type": "code",
   "execution_count": null,
   "id": "56",
   "metadata": {
    "tags": []
   },
   "outputs": [],
   "source": [
    "# 13\n",
    "\n",
    "andre_df[\"forbruk\"] = pd.to_numeric(andre_df[\"forbruk\"], errors=\"coerce\")\n",
    "andre_df[\"salgsint\"] = pd.to_numeric(andre_df[\"salgsint\"], errors=\"coerce\")\n",
    "\n",
    "\n",
    "# Assuming 'andre' is your DataFrame\n",
    "andre_df[\"avanse\"] = andre_df[\"forbruk\"] / andre_df[\"salgsint\"]\n",
    "\n",
    "# Filter rows where vhbed is 1\n",
    "vh_bedriftene = andre_df[andre_df[\"vhbed\"] == \"varehandelsbedrift\"].copy()\n",
    "\n",
    "# Calculate 'nokkel', 'bedr_salgsint', and 'bedr_forbruk' for vh-bedriftene\n",
    "vh_bedriftene[\"nokkel\"] = vh_bedriftene[\"new_oms\"] / vh_bedriftene[\"sumoms_vh\"]\n",
    "vh_bedriftene[\"bedr_salgsint\"] = round(\n",
    "    vh_bedriftene[\"salgsint\"] * vh_bedriftene[\"nokkel\"]\n",
    ")\n",
    "vh_bedriftene.loc[\n",
    "    vh_bedriftene[\"bedr_salgsint\"] > vh_bedriftene[\"new_oms\"], \"bedr_salgsint\"\n",
    "] = vh_bedriftene[\"new_oms\"]\n",
    "vh_bedriftene[\"bedr_forbruk\"] = round(\n",
    "    vh_bedriftene[\"bedr_salgsint\"] * vh_bedriftene[\"avanse\"]\n",
    ")\n",
    "\n",
    "# Summarize vh-bedriftene\n",
    "brukt1 = (\n",
    "    vh_bedriftene.groupby([\"orgnr_n_1\", \"lopenr\"])\n",
    "    .agg({\"bedr_salgsint\": \"sum\", \"bedr_forbruk\": \"sum\"})\n",
    "    .reset_index()\n",
    ")\n",
    "\n",
    "# Merge summarized values back to 'andre'\n",
    "andre = pd.merge(andre_df, brukt1, on=[\"orgnr_n_1\", \"lopenr\"], how=\"left\")\n",
    "\n",
    "# Calculate 'resten1' and 'resten2'\n",
    "andre[\"resten1\"] = andre[\"salgsint\"] - andre[\"bedr_salgsint\"]\n",
    "andre[\"resten2\"] = andre[\"forbruk\"] - andre[\"bedr_forbruk\"]\n",
    "\n",
    "# Filter rows where vhbed is not 1\n",
    "blanding_av_vh_og_andre = andre[andre[\"vhbed\"] != \"varehandelsbedrift\"].copy()\n",
    "\n",
    "# Calculate 'nokkel', 'bedr_salgsint', and 'bedr_forbruk' for blending of vh and other industries\n",
    "blanding_av_vh_og_andre[\"nokkel\"] = (\n",
    "    blanding_av_vh_og_andre[\"new_oms\"] / blanding_av_vh_og_andre[\"sumoms_andre\"]\n",
    ")\n",
    "blanding_av_vh_og_andre[\"bedr_salgsint\"] = round(\n",
    "    blanding_av_vh_og_andre[\"resten1\"] * blanding_av_vh_og_andre[\"nokkel\"]\n",
    ")\n",
    "blanding_av_vh_og_andre[\"bedr_forbruk\"] = round(\n",
    "    blanding_av_vh_og_andre[\"resten2\"] * blanding_av_vh_og_andre[\"nokkel\"]\n",
    ")\n",
    "\n",
    "# Combine the two subsets back into 'andre'\n",
    "andre = pd.concat([vh_bedriftene, blanding_av_vh_og_andre], ignore_index=True)\n",
    "\n",
    "andre.sort_values(by=[\"orgnr_n_1\", \"lopenr\"], inplace=True)\n",
    "\n",
    "oppdatere_hv = pd.concat([vhf_df, andre], ignore_index=True)\n",
    "\n",
    "oppdatere_hv = oppdatere_hv[\n",
    "    [\"orgnr_n_1\", \"lopenr\", \"radnr\", \"bedr_forbruk\", \"bedr_salgsint\"]\n",
    "]\n",
    "\n",
    "# oppdatere_hv.head()"
   ]
  },
  {
   "cell_type": "code",
   "execution_count": null,
   "id": "57",
   "metadata": {
    "tags": []
   },
   "outputs": [],
   "source": [
    "enhetene_brukes2 = pd.merge(\n",
    "    enhetene_brukes, oppdatere_hv, on=[\"orgnr_n_1\", \"lopenr\", \"radnr\"]\n",
    ")\n",
    "\n",
    "# enhetene_brukes2.head()"
   ]
  },
  {
   "cell_type": "code",
   "execution_count": null,
   "id": "58",
   "metadata": {
    "tags": []
   },
   "outputs": [],
   "source": [
    "rettes = enhetene_brukes2.copy()\n",
    "\n",
    "rettes[\"oms\"] = rettes[\"new_oms\"]\n",
    "rettes[\"driftsk\"] = rettes[\"gjeldende_driftsk_kr\"]\n",
    "\n",
    "# Convert columns to numeric\n",
    "rettes[\"tot_driftskost_fordelt\"] = pd.to_numeric(\n",
    "    rettes[\"tot_driftskost_fordelt\"], errors=\"coerce\"\n",
    ")\n",
    "rettes[\"driftsk\"] = pd.to_numeric(rettes[\"driftsk\"], errors=\"coerce\")\n",
    "\n",
    "\n",
    "rettes[\"drkost_share\"] = rettes[\"driftsk\"] / rettes[\"tot_driftskost_fordelt\"]\n",
    "\n",
    "rettes[\"new_drkost\"] = rettes[\"drkost_share\"] * rettes[\"foretak_driftskostnad\"]\n",
    "\n",
    "# rettes.head()"
   ]
  },
  {
   "cell_type": "markdown",
   "id": "59",
   "metadata": {},
   "source": [
    "# Kontrol Drkost for forbuk og lønn. "
   ]
  },
  {
   "cell_type": "code",
   "execution_count": null,
   "id": "60",
   "metadata": {},
   "outputs": [],
   "source": [
    "rettes2 = rettes.copy()\n",
    "rettes2[\"drkost_temp\"] = rettes2[\"new_drkost\"]\n",
    "\n",
    "# Fill NaN in 'drkost_temp' with 0\n",
    "rettes2[\"drkost_temp\"] = rettes2[\"drkost_temp\"].fillna(0)\n",
    "\n",
    "rettes2[\"gjeldende_lonn_kr\"] = pd.to_numeric(\n",
    "    rettes2[\"gjeldende_lonn_kr\"], errors=\"coerce\"\n",
    ").fillna(0)\n",
    "rettes2[\"bedr_forbruk\"] = pd.to_numeric(\n",
    "    rettes2[\"bedr_forbruk\"], errors=\"coerce\"\n",
    ").fillna(0)\n",
    "\n",
    "\n",
    "rettes2[\"lonn_+_forbruk\"] = rettes2[\"gjeldende_lonn_kr\"] + rettes2[\"bedr_forbruk\"]\n",
    "\n",
    "# Perform the if operation\n",
    "condition = rettes2[\"drkost_temp\"] < rettes2[\"lonn_+_forbruk\"]\n",
    "rettes2[\"drkost_temp\"] = np.where(\n",
    "    condition, rettes2[\"lonn_+_forbruk\"], rettes2[\"drkost_temp\"]\n",
    ")\n",
    "rettes2[\"theif\"] = np.where(condition, 1, 0)\n",
    "\n",
    "# rettes2.head()"
   ]
  },
  {
   "cell_type": "markdown",
   "id": "61",
   "metadata": {},
   "source": [
    "### Create df with a list of orgnr_foretak that have thieves. "
   ]
  },
  {
   "cell_type": "code",
   "execution_count": null,
   "id": "62",
   "metadata": {
    "tags": []
   },
   "outputs": [],
   "source": [
    "# Filter the DataFrame\n",
    "dkvars = rettes2[rettes2.groupby(\"orgnr_n_1\")[\"theif\"].transform(\"any\")]\n",
    "\n",
    "# dkvars.shape"
   ]
  },
  {
   "cell_type": "code",
   "execution_count": null,
   "id": "63",
   "metadata": {
    "tags": []
   },
   "outputs": [],
   "source": [
    "# Calculate 'utskudd'\n",
    "dkvars[\"utskudd\"] = (\n",
    "    dkvars[\"new_drkost\"] - dkvars[\"gjeldende_lonn_kr\"] - dkvars[\"bedr_forbruk\"]\n",
    ")\n",
    "dkvars[\"utskudd\"] = abs(dkvars[\"utskudd\"])\n",
    "\n",
    "# Keep selected columns\n",
    "columns_to_keep = [\n",
    "    \"orgnr_n_1\",\n",
    "    \"lopenr\",\n",
    "    \"radnr\",\n",
    "    \"utskudd\",\n",
    "    \"new_drkost\",\n",
    "    \"drkost_temp\",\n",
    "    \"theif\",\n",
    "    \"gjeldende_lonn_kr\",\n",
    "    \"bedr_forbruk\",\n",
    "]\n",
    "dkvars = dkvars[columns_to_keep]\n",
    "\n",
    "# Display the resulting DataFrame\n",
    "# dkvars.head()"
   ]
  },
  {
   "cell_type": "code",
   "execution_count": null,
   "id": "64",
   "metadata": {
    "tags": []
   },
   "outputs": [],
   "source": [
    "# Calculate sum of 'utskudd' grouped by 'orgnr_foretak', 'lopenr', and 'tyv'\n",
    "sum7b = dkvars.groupby([\"orgnr_n_1\", \"lopenr\", \"theif\"])[\"utskudd\"].sum().reset_index()\n",
    "\n",
    "# Display the result\n",
    "# sum7b.head()"
   ]
  },
  {
   "cell_type": "code",
   "execution_count": null,
   "id": "65",
   "metadata": {
    "tags": []
   },
   "outputs": [],
   "source": [
    "# Transpose the result\n",
    "sum7b_transposed = sum7b.pivot(\n",
    "    index=[\"orgnr_n_1\", \"lopenr\"], columns=\"theif\", values=\"utskudd\"\n",
    ").reset_index()\n",
    "\n",
    "# Rename columns as per SAS code\n",
    "sum7b_transposed.rename(columns={0: \"thief0\", 1: \"thief1\"}, inplace=True)\n",
    "\n",
    "sum7b_transposed = sum7b_transposed[[\"orgnr_n_1\", \"lopenr\", \"thief0\", \"thief1\"]]\n",
    "\n",
    "# Display the transposed result\n",
    "# sum7b_transposed.head()"
   ]
  },
  {
   "cell_type": "code",
   "execution_count": null,
   "id": "66",
   "metadata": {
    "tags": []
   },
   "outputs": [],
   "source": [
    "# merge sums\n",
    "dkvars_2 = pd.merge(dkvars, sum7b_transposed, on=[\"orgnr_n_1\", \"lopenr\"], how=\"inner\")\n",
    "# dkvars_2.head()"
   ]
  },
  {
   "cell_type": "code",
   "execution_count": null,
   "id": "67",
   "metadata": {
    "tags": []
   },
   "outputs": [],
   "source": [
    "# Apply conditional logic\n",
    "pd.set_option(\"display.float_format\", \"{:.2f}\".format)\n",
    "dkvars_2[\"andel1\"] = np.where(\n",
    "    dkvars_2[\"theif\"] == 0, dkvars_2[\"utskudd\"] / dkvars_2[\"thief0\"], np.nan\n",
    ")\n",
    "dkvars_2[\"andel2\"] = np.where(\n",
    "    dkvars_2[\"theif\"] == 0, np.round(dkvars_2[\"andel1\"] * dkvars_2[\"thief1\"]), np.nan\n",
    ")\n",
    "# dkvars_2['new_drkost'] = np.where(dkvars_2['theif'] == 0, np.sum(dkvars_2['drkost_temp'] - dkvars_2['andel2'], axis=0), dkvars_2['drkost_temp'])\n",
    "dkvars_2[\"new_drkost\"] = np.where(\n",
    "    dkvars_2[\"theif\"] == 0,\n",
    "    dkvars_2[\"drkost_temp\"] - dkvars_2[\"andel2\"],\n",
    "    dkvars_2[\"drkost_temp\"],\n",
    ")\n",
    "\n",
    "# Keep selected columns\n",
    "columns_to_keep = [\"orgnr_n_1\", \"lopenr\", \"radnr\", \"new_drkost\"]\n",
    "dkvars_3 = dkvars_2[columns_to_keep]\n",
    "\n",
    "# dkvars_2.head(50)\n",
    "\n",
    "good_final = dkvars_2.copy()"
   ]
  },
  {
   "cell_type": "markdown",
   "id": "68",
   "metadata": {
    "tags": []
   },
   "source": [
    "Steps:\n",
    "\n",
    "1. Define the varehandel næringer that need salgsint and forbruk. \n",
    "2. Create a df called salgsint_forbruk that has the forbruk of the foretak, the salgsint of the foretak, orgnr_foretak, rad_nr, naring, foretaksnaring, the new oms and a column called vhbed which indicates 1 if it is a varehandel bedrift and 0 if it is not. \n",
    "3. create another df called har that is simply a list of orgnr_foretak where there is at least one bedrift that is in varehandel. Remove duplicates. \n",
    "4. create another df called ikke_har that is a list of orgnr_foretak that has 0 bedrifter in varehandel. Create a new variable called ikkevbed = 1. Remove duplicates. \n",
    "5. Update salgint_forbruk by merging salgsint_forbruk and ikke with a left join. If ikkevhbed=1 then vhbed=1. Basically what is happenign is that if a foretak has no varehandel, then salgsint will be distributed without bias to varehandel bedrifter. \n",
    "6. Create two new dfs. One is called sum1. This sums up all new_oms grouped by orgnr_foretak and lopnr for only if vbed=1. This new variable will be called sumoms_vh. The second df will be called sum2 and will be for only where vhbed=0. This new sum will be a variable called sumoms_andre. \n",
    "7. create a new df called sum3 that merges sum1 and sum2 by orgnr_foretak and lopnr. Outerjoin. \n",
    "8. update salgsint_forbruk by performing an outerjoin with sum3 by orgnr_foretak and lopnr. Outerjoin. \n",
    "9. Sort by orgnr_foretak, lopenr and rad_nr.\n",
    "10. VERY IMPORTANt. SORT BY ORGNR_FORETAK , LOPENR and VHBED. \n",
    "11. data salgsint_forbruk;\n",
    "\tset salgsint_forbruk;\n",
    "\tby orgnr_foretak lopenr;\n",
    "\n",
    "\tif first.orgnr_foretak and first.lopenr then\n",
    "\t\tvhf=vhbed;\n",
    "\tretain vhf;\n",
    "\tlabel\n",
    "\t\tvhbed ='1=varehandelsbedrift, 0 er annen type bedrift'\n",
    "\t\tvhf   ='1=foretaket har kun varehandelsbedrifter eller ingen , 0=har varehandel og annen bedrift (blandingsnæringer)'\n",
    "\t;\n",
    "run;\n",
    "\n",
    "proc sort data=salgsint_forbruk;\n",
    "\tby orgnr_foretak lopenr rad_nr;\n",
    "run;\n",
    "\n",
    "*(6) deler opp i rene varehandelsforetak og i andre fioretak;\n",
    "data vhf  andre;\n",
    "\tset salgsint_forbruk;\n",
    "\n",
    "\tif vhf=1 then\n",
    "\t\toutput vhf;\n",
    "\telse output andre;\n",
    "run;\n",
    "\n",
    "Basically what is happening here, is that we are creating two tables. One that has foretak that ONLY have varehandel bedrift OR foretak that have 0 varehandle bedrifter. \n",
    "\n",
    "The two tables will be called vhf and andre. \n",
    "\n",
    "12. for vhf distribute salgsint and forbruk :\n",
    "\n",
    "data vhf;\n",
    "\tset vhf;\n",
    "\tnokkel = tmp_ny_omsetn / sumoms_vh;\n",
    "\tbedr_salgsint = round(salgsint * nokkel);\n",
    "\tbedr_forbruk  = round(forbruk * nokkel);\n",
    "run;\n",
    "\n",
    "13. for andre. \n",
    "\n",
    "data andre;\n",
    "\tset andre;\n",
    "\tavanse=forbruk / salgsint;\n",
    "\n",
    "\t*vh-bedriftene;\n",
    "\tif vhbed=1 then\n",
    "\t\tdo;\n",
    "\t\t\tnokkel = tmp_ny_omsetn / sumoms_vh;\n",
    "\t\t\tbedr_salgsint = round(salgsint * nokkel);\n",
    "\n",
    "\t\t\tif bedr_salgsint > tmp_ny_omsetn then\n",
    "\t\t\t\tbedr_salgsint = tmp_ny_omsetn;\n",
    "\t\t\tbedr_forbruk  = round(bedr_salgsint * avanse);\n",
    "\t\tend;\n",
    "run;\n",
    "\n",
    "*(8b) summerere vh-bedriftene;\n",
    "proc sql stimer;\n",
    "\tcreate table brukt1 \n",
    "\t\tas select orgnr_foretak, lopenr, sum(bedr_salgsint) as brukt1, sum(bedr_forbruk) as brukt2\n",
    "\t\t\tfrom andre \n",
    "\t\t\t\twhere vhbed=1\n",
    "\t\t\t\t\tgroup by orgnr_foretak, lopenr\n",
    "\t\t\t\t\t\torder by orgnr_foretak, lopenr\n",
    "\t;\n",
    "\tcreate table andre  \n",
    "\t\tas select a.*, b.*\n",
    "\t\t\tfrom andre  a, brukt1  b\n",
    "\t\t\t\twhere a.orgnr_foretak = b.orgnr_foretak and a.lopenr = b.lopenr\n",
    "\t\t\t\t\torder by a.orgnr_foretak, a.lopenr, a.rad_nr\n",
    "\t;\n",
    "quit;\n",
    "\n",
    "*(8c) sluttfordeler for de foretakene som har blanding av vh og andre næringer;\n",
    "data andre;\n",
    "\tset andre;\n",
    "\tresten1 = sum(salgsint, -brukt1);\n",
    "\tresten2 = sum(forbruk,-brukt2);\n",
    "\n",
    "\tif vhbed ne 1 then\n",
    "\t\tdo;\n",
    "\t\t\tnokkel = tmp_ny_omsetn / sumoms_andre;\n",
    "\t\t\tbedr_salgsint = round(resten1 * nokkel);\n",
    "\t\t\tbedr_forbruk  = round(resten2 * nokkel);\n",
    "\t\tend;\n",
    "run;\n",
    "\n",
    "# What is left to do:\n",
    "\n",
    "### Correct salgsint and forbruk for good_df. (instructions in cell above) Look at the program in sas as well to know how to do it. "
   ]
  },
  {
   "cell_type": "markdown",
   "id": "69",
   "metadata": {},
   "source": [
    "### Correct drkost for good_df. Have to make sure it passes with salary and forbruk "
   ]
  },
  {
   "cell_type": "markdown",
   "id": "70",
   "metadata": {},
   "source": [
    "### Do the same for the mixed_dfs. (good oms, bad costs etc etc ) Will need to selectivly treat based on what is good and what isnt. Maybe its worth just fixing bad oms. Bad costs can be fixed based on oms"
   ]
  },
  {
   "cell_type": "markdown",
   "id": "71",
   "metadata": {},
   "source": [
    "### Implement a the ml models for the bad_df. Maybe make it so you can choose which one to use. "
   ]
  },
  {
   "cell_type": "code",
   "execution_count": null,
   "id": "72",
   "metadata": {},
   "outputs": [],
   "source": []
  }
 ],
 "metadata": {
  "language_info": {
   "codemirror_mode": {
    "name": "ipython"
   },
   "file_extension": ".py",
   "mimetype": "text/x-python",
   "name": "python",
   "nbconvert_exporter": "python"
  }
 },
 "nbformat": 4,
 "nbformat_minor": 5
}
