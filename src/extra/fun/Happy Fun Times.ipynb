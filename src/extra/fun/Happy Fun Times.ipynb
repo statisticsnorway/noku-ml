{
 "cells": [
  {
   "cell_type": "markdown",
   "id": "0",
   "metadata": {},
   "source": [
    "# Imports"
   ]
  },
  {
   "cell_type": "code",
   "execution_count": null,
   "id": "1",
   "metadata": {},
   "outputs": [],
   "source": [
    "from imports import *\n",
    "import banneord"
   ]
  },
  {
   "cell_type": "markdown",
   "id": "2",
   "metadata": {
    "tags": []
   },
   "source": [
    "# Run program\n",
    "\n",
    "Write in all the insults, swear words, silly sayings you can think of. Have fun and be imaginative!"
   ]
  },
  {
   "cell_type": "code",
   "execution_count": null,
   "id": "3",
   "metadata": {
    "tags": []
   },
   "outputs": [],
   "source": [
    "year = 2021\n",
    "start_year = 2017\n",
    "\n",
    "words = [\n",
    "    \"silly goose\",\n",
    "    \"Goofball\",\n",
    "    \"you couldn't pour water out of a boot with instructions written on the heel\",\n",
    "    \"this is tricky, im busier than a one-handed bricklayer filling this form out\",\n",
    "    \"this form is a few fries short of a happy meal\"\n",
    "]\n",
    "\n",
    "banneord.holymoly(year, start_year, words)"
   ]
  }
 ],
 "metadata": {
  "language_info": {
   "codemirror_mode": {
    "name": "ipython"
   },
   "file_extension": ".py",
   "mimetype": "text/x-python",
   "name": "python",
   "nbconvert_exporter": "python"
  }
 },
 "nbformat": 4,
 "nbformat_minor": 5
}
