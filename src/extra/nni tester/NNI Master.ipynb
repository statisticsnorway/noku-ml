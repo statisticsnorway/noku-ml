{
 "cells": [
  {
   "cell_type": "markdown",
   "id": "0",
   "metadata": {
    "tags": []
   },
   "source": [
    "# Imports"
   ]
  },
  {
   "cell_type": "code",
   "execution_count": null,
   "id": "1",
   "metadata": {
    "tags": []
   },
   "outputs": [],
   "source": [
    "from imports import *\n",
    "import nni\n",
    "import plotly.offline as pyo\n",
    "pyo.init_notebook_mode(connected=True)"
   ]
  },
  {
   "cell_type": "markdown",
   "id": "2",
   "metadata": {
    "tags": []
   },
   "source": [
    "# Histogram Analysis\n",
    "\n",
    "An interactive look at how many foretak dominate any given 3-siffer level industry. "
   ]
  },
  {
   "cell_type": "code",
   "execution_count": null,
   "id": "3",
   "metadata": {
    "tags": []
   },
   "outputs": [],
   "source": [
    "nni.cumulative_histogram()"
   ]
  },
  {
   "cell_type": "markdown",
   "id": "4",
   "metadata": {
    "tags": []
   },
   "source": [
    "# Collect Necessary Data\n",
    "\n",
    "Choose the years you want to collect data from. Be mindful of what data is available in the database and be sure to update the code when naming conventions change. \n",
    "\n",
    "Choose which skjema you want to collect data from - remember this test is only for sales data so far, so perhaps its best to only analysis varehandel."
   ]
  },
  {
   "cell_type": "code",
   "execution_count": null,
   "id": "5",
   "metadata": {
    "tags": []
   },
   "outputs": [],
   "source": [
    "year = 2021\n",
    "start_year = 2017\n",
    "\n",
    "# skjema_list = ['RA-0174-1', # varehandel\n",
    "#                'RA-1403', # \n",
    "#                'RA-1100',\n",
    "#                'RA-0255-1']\n",
    "\n",
    "skjema_list = ['RA-0174-1'] # just varehandel data\n",
    "\n",
    "training_data = nni.gather_data(year, start_year, skjema_list)"
   ]
  },
  {
   "cell_type": "markdown",
   "id": "6",
   "metadata": {
    "tags": []
   },
   "source": [
    "# Test NNI Method"
   ]
  },
  {
   "cell_type": "code",
   "execution_count": null,
   "id": "7",
   "metadata": {
    "tags": []
   },
   "outputs": [],
   "source": [
    "df = nni.test_old_method(training_data)"
   ]
  },
  {
   "cell_type": "markdown",
   "id": "8",
   "metadata": {
    "tags": []
   },
   "source": [
    "# Run Bootstrap Testing. \n",
    "\n",
    "Choose the number of iterations before running. "
   ]
  },
  {
   "cell_type": "code",
   "execution_count": null,
   "id": "9",
   "metadata": {
    "tags": []
   },
   "outputs": [],
   "source": [
    "iterations = 100\n",
    "\n",
    "nni.bootstrap(training_data, iterations)"
   ]
  },
  {
   "cell_type": "markdown",
   "id": "10",
   "metadata": {
    "tags": []
   },
   "source": [
    "# Evaluate a new model \n",
    "\n",
    "New model is in early stages. Currently it assesses the potential of using reg_type 2 bedrifter to behave as 'givers' in the future. Model is far from optimised yet, is just here as proof of concept."
   ]
  },
  {
   "cell_type": "code",
   "execution_count": null,
   "id": "11",
   "metadata": {
    "tags": []
   },
   "outputs": [],
   "source": [
    "year = 2021\n",
    "start_year = 2020\n",
    "\n",
    "nni.evaluate_varehandel(year, start_year)"
   ]
  },
  {
   "cell_type": "code",
   "execution_count": null,
   "id": "12",
   "metadata": {},
   "outputs": [],
   "source": []
  }
 ],
 "metadata": {
  "language_info": {
   "codemirror_mode": {
    "name": "ipython"
   },
   "file_extension": ".py",
   "mimetype": "text/x-python",
   "name": "python",
   "nbconvert_exporter": "python"
  }
 },
 "nbformat": 4,
 "nbformat_minor": 5
}
